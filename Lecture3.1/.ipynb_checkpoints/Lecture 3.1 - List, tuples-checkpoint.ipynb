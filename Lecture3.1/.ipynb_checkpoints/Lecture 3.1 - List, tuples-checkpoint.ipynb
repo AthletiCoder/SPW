{
 "cells": [
  {
   "cell_type": "markdown",
   "metadata": {},
   "source": [
    "# Motivation\n",
    "\n",
    "We've looked at basic datatypes in `python`, like `int`, `string`, `bool` etc.\n",
    "However...\n",
    "\n",
    "When we're working at bigger projects/ need to handle large amounts of data.\n",
    "\n",
    "```python\n",
    "a = 0\n",
    "b = 1\n",
    "c = 2\n",
    "d = 3\n",
    "...\n",
    "\n",
    "```\n",
    "\n",
    "or \n",
    "\n",
    "```python\n",
    "name1 = 'ram'\n",
    "age1 = 18\n",
    "name2 = 'shyam'\n",
    "age2 = 20\n",
    "name3 = 'mohan'\n",
    "age3 = 16\n",
    "```\n",
    "\n",
    "## Lists\n",
    "*In `python` a list is an **ordered, changeable** collection of data*\n",
    "### List operations\n",
    "\n",
    "* Creating a list\n",
    "* Adding elements to a list\n",
    "* Accessing elements of a list\n",
    "* Removing elements from a list\n",
    "* Slicing a list\n",
    "\n",
    "### Creating a list\n"
   ]
  },
  {
   "cell_type": "code",
   "execution_count": null,
   "metadata": {
    "scrolled": false
   },
   "outputs": [],
   "source": [
    "List = []\n",
    "print(List)\n",
    "print(type(List))\n",
    "numbers = [0,1,2,3,4,5,6]\n",
    "print(numbers)\n",
    "ages = ['ram',18,'shyam',20,'mohan',16]\n",
    "print(ages)\n",
    "ages1 = [['ram',18],['shyam',20],['mohan',16]]\n",
    "print(ages1)"
   ]
  },
  {
   "cell_type": "markdown",
   "metadata": {},
   "source": [
    "**Key Learning:** Lists can contain multiple datatypes, like `['ram', 18, 'shyam', 20, 'mohan', 16]`\n",
    "\n",
    "**Key Learning:** We can even have lists of lists, like `[['ram', 18], ['shyam', 20], ['mohan', 16]]`"
   ]
  },
  {
   "cell_type": "markdown",
   "metadata": {},
   "source": [
    "### Adding elements to a list\n",
    "* Using `append()` method\n",
    "* Using `insert()` method\n",
    "* Using `extend()` method\n",
    "\n",
    "#### append()\n",
    "Appends an element to the list - adding an element to the end\n",
    "\n",
    "**Check for yourself:** `help(List.append)`"
   ]
  },
  {
   "cell_type": "code",
   "execution_count": null,
   "metadata": {},
   "outputs": [],
   "source": [
    "numbers = [0]\n",
    "print(numbers)"
   ]
  },
  {
   "cell_type": "code",
   "execution_count": null,
   "metadata": {},
   "outputs": [],
   "source": [
    "numbers.append(1)\n",
    "numbers.append(2)\n",
    "numbers.append(3)\n",
    "print(numbers)"
   ]
  },
  {
   "cell_type": "markdown",
   "metadata": {},
   "source": [
    "#### insert()\n",
    "\n",
    "Insert an element as a specific index location. Takes 2 arguements `index`, and `object`. Adds `object` at the `index` location.\n",
    "\n",
    "**Note: *In `python` index always starts from zero***\n",
    "\n",
    "**Check for yourself:** `help(List.insert)`\n"
   ]
  },
  {
   "cell_type": "code",
   "execution_count": null,
   "metadata": {},
   "outputs": [],
   "source": [
    "numbers.insert(2,\"Hi!\")\n",
    "#Any Guesses?\n",
    "# [Hi, 0, 1, 2, 3]\n",
    "# [0, Hi, 1, 2, 3]\n",
    "# [0, 1, Hi, 2, 3]\n",
    "# [0, 1, 2, Hi, 3]\n",
    "print(numbers)"
   ]
  },
  {
   "cell_type": "code",
   "execution_count": null,
   "metadata": {},
   "outputs": [],
   "source": [
    "help(List.insert)"
   ]
  },
  {
   "cell_type": "markdown",
   "metadata": {},
   "source": [
    "#### extend()\n",
    "\n",
    "Similar to `append()`, but can be used to add multiple values"
   ]
  },
  {
   "cell_type": "code",
   "execution_count": null,
   "metadata": {},
   "outputs": [],
   "source": [
    "numbers.extend([4,5,6])\n",
    "print(numbers)\n",
    "#What if we do numbers.append([4,5,6])? (Try it out!)"
   ]
  },
  {
   "cell_type": "markdown",
   "metadata": {},
   "source": [
    "### Acessing Elements of a List\n",
    "Elements of a list can be accessed using the index operator `[]`"
   ]
  },
  {
   "cell_type": "code",
   "execution_count": null,
   "metadata": {},
   "outputs": [],
   "source": [
    "List = ['Govind', 1, True]\n",
    "print(List[0])"
   ]
  },
  {
   "cell_type": "markdown",
   "metadata": {},
   "source": [
    "###### What about accessing elements in lists of lists?"
   ]
  },
  {
   "cell_type": "code",
   "execution_count": null,
   "metadata": {},
   "outputs": [],
   "source": [
    "List = [[1,2],[3,4]]\n",
    "print(List)"
   ]
  },
  {
   "cell_type": "code",
   "execution_count": null,
   "metadata": {},
   "outputs": [],
   "source": [
    "print(List[0][1])"
   ]
  },
  {
   "cell_type": "markdown",
   "metadata": {},
   "source": [
    "##### Negative Indexing\n",
    "To access the *nth* last element in the list"
   ]
  },
  {
   "cell_type": "code",
   "execution_count": null,
   "metadata": {},
   "outputs": [],
   "source": [
    "print(List[-1])"
   ]
  },
  {
   "cell_type": "markdown",
   "metadata": {},
   "source": [
    "What would be the code if I only want to access the element `4`\n",
    "\n",
    "ANS: `print(List[-1][-1])`"
   ]
  },
  {
   "cell_type": "markdown",
   "metadata": {},
   "source": [
    "### Removing elements from a List\n",
    "* Using `remove()` method\n",
    "* Using `pop()` method\n",
    "##### Remove()\n",
    "Removes the first occurence of the element"
   ]
  },
  {
   "cell_type": "code",
   "execution_count": null,
   "metadata": {},
   "outputs": [],
   "source": [
    "List1 = [1,2,3,4,5,6,7]\n",
    "List1.remove(3)\n",
    "print(List1)"
   ]
  },
  {
   "cell_type": "code",
   "execution_count": null,
   "metadata": {},
   "outputs": [],
   "source": [
    "List2 = [1,2,3,4,[1,2],6,5,'Hello!']\n",
    "print(List2)"
   ]
  },
  {
   "cell_type": "code",
   "execution_count": null,
   "metadata": {},
   "outputs": [],
   "source": [
    "List2.remove(2)\n",
    "print(List2)"
   ]
  },
  {
   "cell_type": "code",
   "execution_count": null,
   "metadata": {},
   "outputs": [],
   "source": [
    "List2.remove('Hello!')\n",
    "print(List2)"
   ]
  },
  {
   "cell_type": "markdown",
   "metadata": {},
   "source": [
    "#### pop()\n",
    "Remove the element at the ith index. If no parameter is provided, it removes the last element"
   ]
  },
  {
   "cell_type": "code",
   "execution_count": null,
   "metadata": {},
   "outputs": [],
   "source": [
    "print(List2)\n",
    "List2.pop()\n",
    "print(List2)"
   ]
  },
  {
   "cell_type": "code",
   "execution_count": null,
   "metadata": {},
   "outputs": [],
   "source": [
    "List2.pop(1)\n",
    "print(List2)"
   ]
  },
  {
   "cell_type": "code",
   "execution_count": null,
   "metadata": {},
   "outputs": [],
   "source": [
    "List2[2].pop()\n",
    "print(List2)"
   ]
  },
  {
   "cell_type": "markdown",
   "metadata": {},
   "source": [
    "#### Slicing"
   ]
  },
  {
   "cell_type": "code",
   "execution_count": null,
   "metadata": {},
   "outputs": [],
   "source": [
    "List3 = List2[1:3]\n",
    "print(List3)"
   ]
  },
  {
   "cell_type": "markdown",
   "metadata": {},
   "source": [
    "#### Many more functions like `sort()`, `copy()`, `count()` etc!\n",
    "`help(List.xxx)`"
   ]
  },
  {
   "cell_type": "markdown",
   "metadata": {},
   "source": [
    "## Tuples\n",
    "\n",
    "**Tuple** is a collection of Python objects much like a list. The sequence of values stored in a tuple can be of any type, and they are indexed by integers.\n"
   ]
  },
  {
   "cell_type": "code",
   "execution_count": null,
   "metadata": {},
   "outputs": [],
   "source": [
    "tup1 = 1,2,3,4\n",
    "tup2 = (3,4,5,6)\n",
    "print(type(tup1))\n",
    "print(type(tup2))"
   ]
  },
  {
   "cell_type": "markdown",
   "metadata": {},
   "source": [
    "Most tuple operations are similar to list operations. like indexing, slicing, deletion etc"
   ]
  },
  {
   "cell_type": "code",
   "execution_count": null,
   "metadata": {},
   "outputs": [],
   "source": [
    "print(help(tuple))"
   ]
  },
  {
   "cell_type": "markdown",
   "metadata": {},
   "source": [
    "### Similarities between Lists and Tuples\n",
    "* Sequence data types that can store a collection of items.\n",
    "* Each item stored in a list or a tuple can be of any data type.\n",
    "* Can also access any item by its index.\n",
    "\n",
    "### Differences\n",
    "#### The main difference is that Lists are mutable, while tuples aren't\n",
    "\n"
   ]
  },
  {
   "cell_type": "code",
   "execution_count": null,
   "metadata": {},
   "outputs": [],
   "source": [
    "List1 = [\"One\", \"Two\", \"Three\"]\n",
    "List1[0] = \"Five\"\n",
    "print(List1)"
   ]
  },
  {
   "cell_type": "code",
   "execution_count": null,
   "metadata": {},
   "outputs": [],
   "source": [
    "Tuple1 = (\"One\", \"Two\", \"Three\")\n",
    "Tuple1(0) = \"Five\"\n",
    "print(Tuple1)"
   ]
  },
  {
   "cell_type": "markdown",
   "metadata": {},
   "source": [
    "> In simple words, you can't modify a tuple once it's created\n",
    "\n",
    "#### Miscellaneous functions"
   ]
  },
  {
   "cell_type": "code",
   "execution_count": null,
   "metadata": {},
   "outputs": [],
   "source": [
    "del Tuple1\n",
    "del List1\n",
    "print(Tuple1)\n",
    "print(List1)"
   ]
  },
  {
   "cell_type": "code",
   "execution_count": null,
   "metadata": {},
   "outputs": [],
   "source": [
    "#SLICING - Works in both\n",
    "Tuple1 = 1,2,3,4,5\n",
    "Tuple2 = Tuple1[2:4]\n",
    "print(Tuple2)"
   ]
  },
  {
   "cell_type": "markdown",
   "metadata": {},
   "source": [
    "Some python functions like `len()`, `max()`, `min()` work for both"
   ]
  },
  {
   "cell_type": "code",
   "execution_count": null,
   "metadata": {},
   "outputs": [],
   "source": [
    "Tuple1 = 1,3,5,2,5\n",
    "List1 = [1,2,5,2,5]\n",
    "List1.sort()\n",
    "print(List1)"
   ]
  },
  {
   "cell_type": "code",
   "execution_count": null,
   "metadata": {},
   "outputs": [],
   "source": [
    "Tuple1.sort()\n",
    "print(Tuple1)"
   ]
  },
  {
   "cell_type": "code",
   "execution_count": null,
   "metadata": {},
   "outputs": [],
   "source": [
    "print(Tuple1.index(5))"
   ]
  },
  {
   "cell_type": "code",
   "execution_count": null,
   "metadata": {},
   "outputs": [],
   "source": [
    "print(List1.index(5))"
   ]
  },
  {
   "cell_type": "markdown",
   "metadata": {},
   "source": [
    "`reverse()`, `sort()`, `pop()`, `remove()`, `count()`, `append()`"
   ]
  },
  {
   "cell_type": "markdown",
   "metadata": {},
   "source": [
    "#### Conversion between lists and tuples"
   ]
  },
  {
   "cell_type": "code",
   "execution_count": null,
   "metadata": {},
   "outputs": [],
   "source": [
    "tt = tuple(List1)\n",
    "print(tt)\n",
    "ll = list(Tuple1)\n",
    "print(ll)"
   ]
  },
  {
   "cell_type": "markdown",
   "metadata": {},
   "source": [
    "#### Why Tuples?\n",
    "* We can iterate over a tuple faster\n",
    "* Evn by mistake we can't change the contents of a tuple (Good for storing credentials, personal data etc)\n",
    "* Tuples are more memory efficient [more details here](https://www.quora.com/What-advantages-do-tuples-have-over-lists)"
   ]
  },
  {
   "cell_type": "markdown",
   "metadata": {},
   "source": [
    "## References \n",
    "\n",
    "* <https://www.geeksforgeeks.org/python-list/>\n",
    "* <https://www.geeksforgeeks.org/tuples-in-python/>\n",
    "* <https://www.afternerd.com/blog/difference-between-list-tuple/>\n",
    "* <https://data-flair.training/blogs/python-tuples-vs-lists/>\n",
    "* "
   ]
  },
  {
   "cell_type": "markdown",
   "metadata": {},
   "source": []
  },
  {
   "cell_type": "code",
   "execution_count": null,
   "metadata": {},
   "outputs": [],
   "source": [
    "print(-1%10)"
   ]
  },
  {
   "cell_type": "code",
   "execution_count": null,
   "metadata": {},
   "outputs": [],
   "source": []
  },
  {
   "cell_type": "code",
   "execution_count": null,
   "metadata": {},
   "outputs": [],
   "source": []
  },
  {
   "cell_type": "code",
   "execution_count": null,
   "metadata": {},
   "outputs": [],
   "source": []
  },
  {
   "cell_type": "code",
   "execution_count": null,
   "metadata": {},
   "outputs": [],
   "source": []
  }
 ],
 "metadata": {
  "kernelspec": {
   "display_name": "Python 3",
   "language": "python",
   "name": "python3"
  },
  "language_info": {
   "codemirror_mode": {
    "name": "ipython",
    "version": 3
   },
   "file_extension": ".py",
   "mimetype": "text/x-python",
   "name": "python",
   "nbconvert_exporter": "python",
   "pygments_lexer": "ipython3",
   "version": "3.7.4"
  }
 },
 "nbformat": 4,
 "nbformat_minor": 4
}
