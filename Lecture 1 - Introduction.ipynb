{
 "cells": [
  {
   "cell_type": "markdown",
   "metadata": {},
   "source": [
    "# Python"
   ]
  },
  {
   "cell_type": "markdown",
   "metadata": {},
   "source": [
    "## 0 History"
   ]
  },
  {
   "cell_type": "markdown",
   "metadata": {},
   "source": [
    "## 1 What exactly is python\n",
    "### 1.1 Wikipedia\n",
    "> _\"Python is an **interpreted**, **high-level**, **general-purpose** programming language. Created by Guido van Rossum and first released in 1991, Python's design philosophy emphasizes code readability with its notable use of significant whitespace. Its language constructs and **object-oriented** approach aim to help programmers write clear, logical code for small and large-scale projects\" </br>\n",
    "\"Python is **dynamically typed** and **garbage-collected**. It supports multiple programming paradigms, including **procedural, object-oriented, and functional programming**. Python is often described as a \"batteries included\" language due to its comprehensive standard library.\"_ </br>\n",
    "\n",
    "##### **Interpreted**\n",
    "A compiler takes entire program and converts it into object code which is typically stored in a file. The object code is also referred to as binary code and can be directly executed by the machine after linking. Examples of compiled programming languages are C and C++. Compilation includes optimisation and error handling\n",
    "\n",
    "An Interpreter directly executes instructions written in a programming or scripting language without previously converting them to an object code or machine code. Examples of interpreted languages are Perl, Python and Matlab.\n",
    "##### **High-level**\n",
    "##### **General-purpose**\n",
    "##### **Object-oriented**\n",
    "##### **Dynamically typed**\n",
    "##### **Garbage collected**\n",
    "##### **Procedural**\n",
    "##### **Object-oriented**\n",
    "##### **Functional programming**\n",
    "\n",
    "### 1.2 More understandable definition"
   ]
  },
  {
   "cell_type": "markdown",
   "metadata": {},
   "source": [
    "#### Python's philosophy in essence\n",
    "* Beautiful is better than ugly.\n",
    "* Explicit is better than implicit.\n",
    "* Simple is better than complex.\n",
    "* Complex is better than complicated.\n",
    "* Readability counts.\n",
    "***"
   ]
  },
  {
   "cell_type": "markdown",
   "metadata": {},
   "source": [
    "## 2 How is it different from other existing languages\n",
    "### 2.1 Compact\n",
    "#### First line of code!\n",
    "##### **C++**\n",
    "```cpp\n",
    "#include <iostream>\n",
    "using namespace std;\n",
    "int main() {\n",
    "    string name;\n",
    "    cin >> name;\n",
    "    cout << \"Good evening, \" << name << endl;\n",
    "    return 0;\n",
    "}\n",
    "```\n",
    "##### **Java**\n",
    "```java\n",
    "class A {\n",
    "    public static void main(String args[]){\n",
    "        System.out.println(\"Hello World\");\n",
    "    }\n",
    "}\n",
    "```\n",
    "##### **Python**\n",
    "```python\n",
    "name = input()\n",
    "print(\"Good evening, \" + name)\n",
    "```\n",
    "\n",
    "### 2.2 Comprehensive\n",
    "#### Get the list of even numbers in a list of integers\n",
    "\n",
    "##### **C++**\n",
    "```c\n",
    "#include<iostream>\n",
    "#include<vector>\n",
    "using namespace std;\n",
    "\n",
    "int main(){\n",
    "    static const int arr[] = {5,3,1,14,16,2,77,29};\n",
    "    vector<int> myVec (arr, arr + sizeof(arr) / sizeof(arr[0]) );\n",
    "    vector<int> evenVec;\n",
    "    for(int i=0; i<myVec.size(); i++)\n",
    "        if(myVec[i]%2==0)\n",
    "            evenVec.push_back(myVec[i])\n",
    "}\n",
    "```\n",
    "##### **Python**\n",
    "```python\n",
    "myVec = [5,3,1,14,16,2,77,29]\n",
    "evenVec = [x for x in myVec if x%2==0]\n",
    "```\n",
    "\n",
    "### 2.3 An Objective comparison with C++\n",
    "#### Overview\n",
    "\n",
    "|Feature                         |Python| C++ |\n",
    "|--------------------------------|------|-----|\n",
    "|Faster Execution                |      |  x  |\n",
    "|Cross-Platform Execution        |  x   |     |\n",
    "|Single-Type Variables           |      |  x  |\n",
    "|Multiple-Type Variables         |  x   |     |\n",
    "|Comprehensions                  |  x   |     |\n",
    "|Rich Set of Built-In Algorithms |  x   |  x  |\n",
    "|Static Typing                   |      |  x  |\n",
    "|Dynamic Typing                  |  x   |     |\n",
    "|Strict Encapsulation            |      |  x  |\n",
    "|Direct Memory Control           |      |  x  |\n",
    "|Garbage Collection              |  x   |     |\n",
    "\n",
    "\n",
    "#### Slow execution \n",
    "* Because it is interpreted language, i.e, it has to check for optimisation at every step, unlike compiled languages (Refer to definition of compiled/interpreted languages above) </br>\n",
    "* Garbage collection adds to this overhead\n",
    "\n",
    "#### Dynamic typing (with a twist)\n",
    "* Has advantages and disadvantages too!\n",
    "* The interpreter will get to know the value present in the variable only during run-time\n",
    "* Multi-fold increase in the possibilities of your code breaking down in runtime"
   ]
  },
  {
   "cell_type": "markdown",
   "metadata": {},
   "source": [
    "## 3 Setup"
   ]
  },
  {
   "cell_type": "markdown",
   "metadata": {},
   "source": [
    "## 4 First python code"
   ]
  },
  {
   "cell_type": "markdown",
   "metadata": {},
   "source": [
    "```print(\"Hare Krishna!\")```  \n",
    "\n",
    "\n",
    "_**That's all, it's as simple as it can get**_"
   ]
  },
  {
   "cell_type": "markdown",
   "metadata": {},
   "source": [
    "## 5 References and acknowledgements\n",
    "https://realpython.com/python-vs-cpp/#duck-typing </br>\n",
    "https://en.wikipedia.org/wiki/Python_(programming_language)"
   ]
  }
 ],
 "metadata": {
  "kernelspec": {
   "display_name": "Python 3",
   "language": "python",
   "name": "python3"
  },
  "language_info": {
   "codemirror_mode": {
    "name": "ipython",
    "version": 3
   },
   "file_extension": ".py",
   "mimetype": "text/x-python",
   "name": "python",
   "nbconvert_exporter": "python",
   "pygments_lexer": "ipython3",
   "version": "3.8.1"
  }
 },
 "nbformat": 4,
 "nbformat_minor": 4
}
