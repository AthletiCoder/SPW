{
 "cells": [
  {
   "cell_type": "markdown",
   "metadata": {},
   "source": [
    "# Abstract Datatypes and Linked lists\n",
    "\n",
    "# 0 Motivation\n",
    "Why do we need more datatypes.\n",
    "\n",
    "We have numerous datatypes already - numerical, strings, lists, dictionaries etc. \n",
    "\n",
    "What's the point of more?\n",
    "\n",
    "Just like how there are numerous Programming languages, yet new ones keep coming!\n",
    "* Does anyone remember the answer?"
   ]
  },
  {
   "cell_type": "markdown",
   "metadata": {},
   "source": [
    "Different languages have different purposes and advantages due to design choice\n",
    "\n",
    "Similarly different datatypes serve different purposes\n",
    "\n",
    "## Let's consider some examples from your assignments\n",
    "\n",
    "### Top 3 scores\n",
    "\n",
    "Use max heap\n",
    "\n",
    "### Valid combination of given words\n",
    "\n",
    "Use Trie"
   ]
  },
  {
   "cell_type": "code",
   "execution_count": 2,
   "metadata": {},
   "outputs": [
    {
     "name": "stdout",
     "output_type": "stream",
     "text": [
      "10\n"
     ]
    },
    {
     "ename": "TypeError",
     "evalue": "heap argument must be a list",
     "output_type": "error",
     "traceback": [
      "\u001b[0;31m---------------------------------------------------------------------------\u001b[0m",
      "\u001b[0;31mTypeError\u001b[0m                                 Traceback (most recent call last)",
      "\u001b[0;32m<ipython-input-2-79730108b5cd>\u001b[0m in \u001b[0;36m<module>\u001b[0;34m\u001b[0m\n\u001b[1;32m      4\u001b[0m \u001b[0mheap\u001b[0m \u001b[0;34m=\u001b[0m \u001b[0mheapq\u001b[0m\u001b[0;34m.\u001b[0m\u001b[0mheapify\u001b[0m\u001b[0;34m(\u001b[0m\u001b[0mscores\u001b[0m\u001b[0;34m)\u001b[0m\u001b[0;34m\u001b[0m\u001b[0;34m\u001b[0m\u001b[0m\n\u001b[1;32m      5\u001b[0m \u001b[0;32mwhile\u001b[0m \u001b[0;32mTrue\u001b[0m\u001b[0;34m:\u001b[0m\u001b[0;34m\u001b[0m\u001b[0;34m\u001b[0m\u001b[0m\n\u001b[0;32m----> 6\u001b[0;31m     \u001b[0mheapq\u001b[0m\u001b[0;34m.\u001b[0m\u001b[0mheappush\u001b[0m\u001b[0;34m(\u001b[0m\u001b[0mheap\u001b[0m\u001b[0;34m,\u001b[0m \u001b[0mint\u001b[0m\u001b[0;34m(\u001b[0m\u001b[0minput\u001b[0m\u001b[0;34m(\u001b[0m\u001b[0;34m)\u001b[0m\u001b[0;34m)\u001b[0m\u001b[0;34m)\u001b[0m\u001b[0;34m\u001b[0m\u001b[0;34m\u001b[0m\u001b[0m\n\u001b[0m\u001b[1;32m      7\u001b[0m     \u001b[0mprint\u001b[0m\u001b[0;34m(\u001b[0m\u001b[0mheapq\u001b[0m\u001b[0;34m.\u001b[0m\u001b[0mnlargest\u001b[0m\u001b[0;34m(\u001b[0m\u001b[0;36m3\u001b[0m\u001b[0;34m)\u001b[0m\u001b[0;34m)\u001b[0m\u001b[0;34m\u001b[0m\u001b[0;34m\u001b[0m\u001b[0m\n",
      "\u001b[0;31mTypeError\u001b[0m: heap argument must be a list"
     ]
    }
   ],
   "source": [
    "import heapq\n",
    "\n",
    "scores = []\n",
    "heap = heapq.heapify(scores)\n",
    "while True:\n",
    "    heapq.heappush(scores, int(input()))\n",
    "    print(heapq.nlargest(3))"
   ]
  },
  {
   "cell_type": "code",
   "execution_count": null,
   "metadata": {},
   "outputs": [],
   "source": []
  },
  {
   "cell_type": "markdown",
   "metadata": {},
   "source": [
    "## There are numerous such datatypes\n",
    "\n",
    "### Liner Data Structures\n",
    "\n",
    "* Array\n",
    "* Linked List\n",
    "* Stack\n",
    "* Queue\n",
    "* Matrix\n",
    "\n",
    "### Non-Liner Data Structures\n",
    "\n",
    "* Binary Tree\n",
    "* Heap\n",
    "* Hash Table\n",
    "* Graph"
   ]
  },
  {
   "cell_type": "markdown",
   "metadata": {},
   "source": [
    "# 1 Abstract datatypes\n",
    "\n",
    "The keyword **“Abstract”** is used as we can use these datatypes, we can perform different operations. But how those operations are working that is totally hidden from the user. The ADT is made of with primitive datatypes, but operation logics are hidden\n",
    "\n",
    "ADT = objects + operations\n",
    "\n",
    "## But why do we need them\n",
    "\n",
    "* Organizing and manipulating data is pervasive\n",
    "* Often crucial to start by designing data structures\n",
    "* Potential problems with choosing a data structure\n",
    "* Decisions about data structures are made too early\n",
    "* Very hard to change key data structures later on\n",
    "\n",
    "## Example of ADT\n",
    "\n",
    "### List\n",
    "* size(), this function is used to get number of elements present into the list\n",
    "* insert(x), this function is used to insert one element into the list\n",
    "* remove(x), this function is used to remove given element from the list\n",
    "* get(i), this function is used to get element at position i\n",
    "* replace(x, y), this function is used to replace x with y value"
   ]
  },
  {
   "cell_type": "code",
   "execution_count": null,
   "metadata": {},
   "outputs": [],
   "source": []
  }
 ],
 "metadata": {
  "kernelspec": {
   "display_name": "Python 3",
   "language": "python",
   "name": "python3"
  },
  "language_info": {
   "codemirror_mode": {
    "name": "ipython",
    "version": 3
   },
   "file_extension": ".py",
   "mimetype": "text/x-python",
   "name": "python",
   "nbconvert_exporter": "python",
   "pygments_lexer": "ipython3",
   "version": "3.7.4"
  }
 },
 "nbformat": 4,
 "nbformat_minor": 2
}
