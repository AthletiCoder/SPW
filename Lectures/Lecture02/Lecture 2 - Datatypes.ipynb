{
 "cells": [
  {
   "cell_type": "markdown",
   "metadata": {},
   "source": [
    "# Lecture 2 - Datatypes and Operators"
   ]
  },
  {
   "cell_type": "markdown",
   "metadata": {},
   "source": [
    "## 1 Datatypes"
   ]
  },
  {
   "cell_type": "markdown",
   "metadata": {},
   "source": [
    "### 1.1 Numeric Datatypes"
   ]
  },
  {
   "cell_type": "code",
   "execution_count": null,
   "metadata": {},
   "outputs": [],
   "source": [
    "a = 10\n",
    "b = -4\n",
    "c = 3.142\n",
    "d = 0.142\n",
    "e = 1 + 2j\n",
    "f = -5j\n",
    "\n",
    "# Comment/Uncomment the following\n",
    "\n",
    "print('Integer op: ', a+b)\n",
    "print('Float op: ', c-d)\n",
    "print('Complex op: ', e+f)\n",
    "\n",
    "'''\n",
    "print(a-c, b+e, d-f)\n",
    "'''\n",
    "\n",
    "'''\n",
    "d = int(d)\n",
    "print('1: ', a+e)\n",
    "print('2: ', b+c)\n",
    "print('3: ', d+f)\n",
    "'''\n",
    "\n",
    "# Understand Implicit and Explicit conversions.\n",
    "# Write the conversions explicitly for:\n",
    "#   print(a-c, b+e, d-f)"
   ]
  },
  {
   "cell_type": "markdown",
   "metadata": {},
   "source": [
    "### 1.2 Type Conversion"
   ]
  },
  {
   "cell_type": "code",
   "execution_count": null,
   "metadata": {},
   "outputs": [],
   "source": [
    "# Comment/Uncomment the following\n",
    "\n",
    "sample_string = '10010'\n",
    "\n",
    "str_to_int = int(sample_string)\n",
    "print('str_to_int: ', str_to_int)\n",
    "\n",
    "str_to_int_base2 = int(sample_string, 2)\n",
    "print('str_to_int_base2: ', str_to_int_base2)\n",
    "\n",
    "'''\n",
    "float_num = float(-6)\n",
    "print('float_num: ',float_num)\n",
    "'''\n",
    "\n",
    "'''\n",
    "hexadecimal_num = hex(56)\n",
    "print('hexadecimal_num: ', hexadecimal_num)\n",
    "'''\n",
    "\n",
    "'''\n",
    "complex_num = complex(1.2, 3)\n",
    "print('complex_num: ', complex_num)\n",
    "'''\n",
    "\n",
    "# What is the use for explicit conversions when implicit are already available?"
   ]
  },
  {
   "cell_type": "markdown",
   "metadata": {},
   "source": [
    "### 1.3 Strings Datatypes"
   ]
  },
  {
   "cell_type": "code",
   "execution_count": null,
   "metadata": {},
   "outputs": [],
   "source": [
    "sample_string = \"Please be ready @ 5 pm!\"\n",
    "print(sample_string)\n",
    "\n",
    "# Slicing\n",
    "print('sample_string[:]     ',sample_string[:])\n",
    "print('sample_string[2:15]  ',sample_string[2:15])\n",
    "print('sample_string[2:]    ',sample_string[2:])\n",
    "print('sample_string[:15]   ',sample_string[:15])\n",
    "print('sample_string[2:15:1]',sample_string[2:15:1])\n",
    "print('sample_string[2:15:2]',sample_string[2:15:2])\n",
    "print('sample_string[2:-1]  ',sample_string[2:-1])\n",
    "print('sample_string[::-1]  ',sample_string[::-1])\n",
    "\n",
    "# How to print last 7 characters of a string without knowing it's length?\n",
    "# Fill in the blanks:\n",
    "# a = '5.23+4j'\n",
    "# real = float(a[...])\n",
    "# imag = complex(a[...])\n",
    "# print('Real part of a is ',real,' and Imaginary part of a is ',imag)"
   ]
  },
  {
   "cell_type": "markdown",
   "metadata": {},
   "source": [
    "### 1.4 String Conversion"
   ]
  },
  {
   "cell_type": "code",
   "execution_count": null,
   "metadata": {},
   "outputs": [],
   "source": [
    "sample_string = 'Please be ready @ 5 pm!'\n",
    "print(len(sample_string)) # return length\n",
    "print(sample_string.count('e')) # return non overlapping count of parameter passed\n",
    "print(sample_string.lower())\n",
    "print(sample_string.upper())\n",
    "print(sample_string.find('@')) # return index of the parameter passed\n",
    "print(sample_string.split(' ')) # split string with the parameter passed\n",
    "\n",
    "# Can you find common use case for split() function? Hint: split by ','"
   ]
  },
  {
   "cell_type": "markdown",
   "metadata": {},
   "source": [
    "## 2 Operators"
   ]
  },
  {
   "cell_type": "markdown",
   "metadata": {},
   "source": [
    "### 2.1 Arithmetic"
   ]
  },
  {
   "cell_type": "code",
   "execution_count": null,
   "metadata": {},
   "outputs": [],
   "source": [
    "a = 10\n",
    "b = 5\n",
    "print('Addition: ',a+b)\n",
    "print('Subtraction: ',a-b)\n",
    "print('Multiplication: ',a*b)\n",
    "print('Division: ',a/b)\n",
    "print('Remainder: ',a%b)\n",
    "print('Exponential: ',a**b)\n",
    "\n",
    "# BODMAS\n",
    "# print((10/2)*6-5)"
   ]
  },
  {
   "cell_type": "markdown",
   "metadata": {},
   "source": [
    "### 2.2 Assignment"
   ]
  },
  {
   "cell_type": "code",
   "execution_count": null,
   "metadata": {},
   "outputs": [],
   "source": [
    "a = 5\n",
    "add, sub, mul, div, rem, expo = 0, 0, 0, 1, 1, 1\n",
    "\n",
    "add += a # Add value a with add and assign to add\n",
    "print(add)\n",
    "\n",
    "sub -= a # Subtract value a with sub and assign to sub\n",
    "print(sub)\n",
    "\n",
    "mul *= a # Multiply value a with mul and assign to mul\n",
    "print(mul)\n",
    "\n",
    "div /= a # Divide value a with div and assign to div\n",
    "print(div)\n",
    "\n",
    "rem %= a # find remainder of rem with a and assign to rem\n",
    "print(rem)\n",
    "\n",
    "expo **= a # Exponent expo with a and assign to expo\n",
    "print(expo)"
   ]
  },
  {
   "cell_type": "markdown",
   "metadata": {},
   "source": [
    "### 2.3 Bitwise"
   ]
  },
  {
   "cell_type": "code",
   "execution_count": null,
   "metadata": {},
   "outputs": [],
   "source": [
    "a = 5\n",
    "b = 6\n",
    "print(a & b) # bit by bit AND operation\n",
    "print(a | b) # bit by bit OR operation\n",
    "print(a ^ b) # bit by bit XOR operation\n",
    "print(~a) # complement a, machine reads as 2's complement\n",
    "print(a << b) # left-shift operation, shifting by 1 is equal to multiply by 2\n",
    "print(a >> b) # right-shift operation, shifting by 1 is equal to divide by 2"
   ]
  },
  {
   "cell_type": "markdown",
   "metadata": {},
   "source": [
    "### 2.4 Comparison"
   ]
  },
  {
   "cell_type": "code",
   "execution_count": null,
   "metadata": {},
   "outputs": [],
   "source": [
    "a = 5\n",
    "b = 10\n",
    "print(a == b) # true if equal\n",
    "print(a != b) # true of not equal\n",
    "print(a > b) # true if a is greater than b\n",
    "print(a < b) # true if b is greater than a\n",
    "print(a >= b) # true if a is greater than or equal to b\n",
    "print(a <= b) # true if a is less than or equal to b"
   ]
  },
  {
   "cell_type": "markdown",
   "metadata": {},
   "source": [
    "### 2.5 Identity"
   ]
  },
  {
   "cell_type": "code",
   "execution_count": null,
   "metadata": {},
   "outputs": [],
   "source": [
    "a = 10\n",
    "b = 5\n",
    "print(a is b) # true if a and b are equal\n",
    "print(a is not b) # true if a and b are not equal"
   ]
  },
  {
   "cell_type": "markdown",
   "metadata": {},
   "source": [
    "### 2.6 Logical"
   ]
  },
  {
   "cell_type": "code",
   "execution_count": null,
   "metadata": {},
   "outputs": [],
   "source": [
    "a = 5\n",
    "b = 0\n",
    "print(a and b)\n",
    "print(a or b)\n",
    "print(not a)\n",
    "print(not b)"
   ]
  },
  {
   "cell_type": "markdown",
   "metadata": {},
   "source": [
    "### 2.7 Membership"
   ]
  },
  {
   "cell_type": "code",
   "execution_count": null,
   "metadata": {},
   "outputs": [],
   "source": [
    "a = [1, 2, 3]\n",
    "print(2 in a) # true if value in a\n",
    "print(2 not in a) # true if value not in a"
   ]
  },
  {
   "cell_type": "markdown",
   "metadata": {},
   "source": [
    "## 3 References\n",
    "\n",
    "https://www.youtube.com/watch?v=woVJ4N5nl_s\n",
    "\n",
    "https://www.w3resource.com/python-exercises/"
   ]
  }
 ],
 "metadata": {
  "kernelspec": {
   "display_name": "Python 3.7.4 64-bit",
   "language": "python",
   "name": "python3"
  },
  "language_info": {
   "name": "python",
   "version": "3.7.4"
  },
  "orig_nbformat": 4,
  "vscode": {
   "interpreter": {
    "hash": "e774977668b7c0ae8309835a5187aa7fbf7669e7d0bb59755bc63e573643edcd"
   }
  }
 },
 "nbformat": 4,
 "nbformat_minor": 2
}
