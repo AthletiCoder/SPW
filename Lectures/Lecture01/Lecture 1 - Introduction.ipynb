{
 "cells": [
  {
   "cell_type": "markdown",
   "metadata": {},
   "source": [
    "# Lecture 1 - Introduction and Setup"
   ]
  },
  {
   "cell_type": "markdown",
   "metadata": {},
   "source": [
    "## 1 Origins\n",
    "> _\"Python was conceived in the late 1980s by **Guido van Rossum** at Centrum Wiskunde & Informatica (CWI) in the Netherlands as a successor to the ABC language (itself inspired by SETL), capable of exception handling and interfacing with the Amoeba operating system. Its implementation began in December 1989.....\"_"
   ]
  },
  {
   "cell_type": "markdown",
   "metadata": {},
   "source": [
    "### 1.1 Widespread application\n",
    "> _\"Python has reached its highest rating ever in the monthly Tiobe index of programming language popularity. On its current trajectory, Tiobe noted, Python could leapfrog Java and C in the next three or four years to become the index’s most-popular language.\"_"
   ]
  },
  {
   "cell_type": "markdown",
   "metadata": {},
   "source": [
    "\n",
    "### 1.2 Top used language according to many surveys!\n",
    "![alt text](resources/most-popular-languages-on-github.png)"
   ]
  },
  {
   "cell_type": "markdown",
   "metadata": {},
   "source": [
    "\n",
    "### 1.3 There's no stopping python\n",
    "![alt text](resources/growth_major_languages.png)"
   ]
  },
  {
   "cell_type": "markdown",
   "metadata": {},
   "source": [
    "## 2 Features and Characteristics"
   ]
  },
  {
   "cell_type": "markdown",
   "metadata": {},
   "source": [
    "### 2.1 Wikipedia"
   ]
  },
  {
   "cell_type": "markdown",
   "metadata": {},
   "source": [
    "> _\"Python is an **interpreted**, **high-level**, **general-purpose** programming language. Created by Guido van Rossum and first released in 1991, Python's design philosophy emphasizes code readability with its notable use of significant whitespace. Its language constructs and **object-oriented** approach aim to help programmers write clear, logical code for small and large-scale projects\"_\n",
    "\n",
    "> _\"Python is **dynamically typed** and **garbage-collected**. It supports multiple programming paradigms, including **procedural, object-oriented, and functional programming**. Python is often described as a \"batteries included\" language due to its comprehensive standard library.\"_"
   ]
  },
  {
   "cell_type": "markdown",
   "metadata": {},
   "source": [
    "#### **2.1.1 Interpreted**\n",
    "A compiler takes entire program and converts it into object code which is typically stored in a file. The object code is also referred to as binary code and can be directly executed by the machine after linking. Examples of compiled programming languages are C and C++. Compilation includes optimisation and error handling\n",
    "\n",
    "![alt text](resources/c-compilation.png)\n",
    "\n",
    "An Interpreter directly executes instructions written in a programming or scripting language without previously converting them to an object code or machine code. Examples of interpreted languages are Perl, Python and Matlab. \n",
    "\n",
    "Compiler and interpreter both are intended to do the same work but differ in operating procedure, Compiler takes source code in an aggregated way whereas Interpreter takes constituent parts of source code, i.e., statement by statement."
   ]
  },
  {
   "cell_type": "markdown",
   "metadata": {},
   "source": [
    "\n",
    "#### **2.1.2 High-level**\n",
    "A high-level language (HLL) is a programming language such as Python, C, FORTRAN, or Pascal that enables a programmer to write programs that are more or less independent of a particular type of computer. Such languages are considered high-level because they are closer to human languages and further from machine languages.\n",
    "\n",
    "![alt text](resources/hll.png)"
   ]
  },
  {
   "cell_type": "markdown",
   "metadata": {},
   "source": [
    "#### **2.1.3 General-purpose**\n",
    "No fixed domain of application, unlike domain-specific languages which are designed for a particular use-case. For example, HTML, CSS are Domain specific languages "
   ]
  },
  {
   "cell_type": "markdown",
   "metadata": {},
   "source": [
    "#### **2.1.4 Object-oriented**\n",
    "A programming paradigm, a design strategy, for aesthetic purposes (some times). More on this later\n",
    "Following is an example to feed your curiosity for now!"
   ]
  },
  {
   "cell_type": "code",
   "execution_count": null,
   "metadata": {},
   "outputs": [],
   "source": [
    "class Dog:\n",
    "\n",
    "    # properties of the object\n",
    "    species = 'mammal'\n",
    "\n",
    "    # initialiser of the object\n",
    "    def __init__(self, name, age):\n",
    "        self.name = name\n",
    "        self.age = age\n",
    "\n",
    "    # behaviour/actions of the object\n",
    "    def description(self):\n",
    "        return \"{} is {} years old\".format(self.name, self.age)\n",
    "\n",
    "    def speak(self, sound):\n",
    "        return \"{} says {}\".format(self.name, sound)\n",
    "\n",
    "# Instantiate the Dog object - just the same as using Dog.__init__(name,age)\n",
    "mikey = Dog(\"Mikey\", 6)\n",
    "\n",
    "# calling the action functions of the object\n",
    "print(mikey.description())\n",
    "print(mikey.speak(\"Gruff Gruff\"))"
   ]
  },
  {
   "cell_type": "markdown",
   "metadata": {},
   "source": [
    "#### **2.1.5 Procedural**\n",
    "Execution done the usual control-flow items - functions, conditional statements, loops, etc.."
   ]
  },
  {
   "cell_type": "markdown",
   "metadata": {},
   "source": [
    "#### **2.1.6 Functional programming**\n",
    "Considers functions as first class citizens - can assign them to a variable, pass them as function arguments.\n",
    "```python\n",
    "def method1():\n",
    "    return 'hello world'\n",
    "\n",
    "def method2(methodToRun):\n",
    "    result = methodToRun()\n",
    "    return result\n",
    "\n",
    "method2(method1)\n",
    "```"
   ]
  },
  {
   "cell_type": "markdown",
   "metadata": {},
   "source": [
    "#### **2.1.7 Dynamically typed**\n",
    "Need not define the type while declaring a variable. More importantly, the variable type is not fixed"
   ]
  },
  {
   "cell_type": "markdown",
   "metadata": {},
   "source": [
    "```cpp\n",
    "#include<iostream>\n",
    "#include<string>\n",
    "using namespace std;\n",
    "\n",
    "int main(){\n",
    "    int num;\n",
    "    string str;\n",
    "    num = 10;\n",
    "    str = \"c++\";\n",
    "    num = \"python\"; // You can't do this!\n",
    "}\n",
    "```"
   ]
  },
  {
   "cell_type": "code",
   "execution_count": null,
   "metadata": {},
   "outputs": [],
   "source": [
    "#################################\n",
    "var = 10\n",
    "var = \"python\"\n",
    "var = 1.5\n",
    "var = [4,6]\n",
    "var = {\"Hello\":\"World\"}\n",
    "# do whatever you want and can with var"
   ]
  },
  {
   "cell_type": "markdown",
   "metadata": {},
   "source": [
    "#### **2.1.8 Garbage collected**\n",
    "Python’s memory allocation and deallocation method is automatic. The user does not have to preallocate or deallocate memory similar to using dynamic memory allocation in languages such as C or C++.\n",
    "\n",
    "No more pointers!\n",
    "No more new, delete!"
   ]
  },
  {
   "cell_type": "markdown",
   "metadata": {},
   "source": [
    "### 2.2 A simpler definition"
   ]
  },
  {
   "cell_type": "markdown",
   "metadata": {},
   "source": [
    "#### Python's philosophy in essence\n",
    "* Beautiful is better than ugly\n",
    "* Explicit is better than implicit\n",
    "* Simple is better than complex\n",
    "* Complex is better than complicated\n",
    "* Readability above everything"
   ]
  },
  {
   "cell_type": "markdown",
   "metadata": {},
   "source": [
    "## 3 How is it different from other existing languages"
   ]
  },
  {
   "cell_type": "markdown",
   "metadata": {},
   "source": [
    "### 3.1 Compact"
   ]
  },
  {
   "cell_type": "markdown",
   "metadata": {},
   "source": [
    "#### First line of code!\n",
    "##### **C++**\n",
    "```cpp\n",
    "#include <iostream>\n",
    "using namespace std;\n",
    "int main() {\n",
    "    cout << \"Hello material world!\"<< endl;\n",
    "    return 0;\n",
    "}\n",
    "```\n",
    "##### **Java**\n",
    "```java\n",
    "class A {\n",
    "    public static void main(String args[]){\n",
    "        System.out.println(\"Hello material world\");\n",
    "    }\n",
    "}\n",
    "```\n",
    "##### **Python**\n",
    "```python\n",
    "print(\"Hello material world!\")\n",
    "```"
   ]
  },
  {
   "cell_type": "markdown",
   "metadata": {},
   "source": [
    "### 3.2 Comprehensive"
   ]
  },
  {
   "cell_type": "markdown",
   "metadata": {},
   "source": [
    "#### Get the list of even numbers in a list of integers\n",
    "\n",
    "##### **C++**\n",
    "```c\n",
    "#include<iostream>\n",
    "#include<vector>\n",
    "using namespace std;\n",
    "\n",
    "int main(){\n",
    "    static const int arr[] = {5,3,1,14,16,2,77,29};\n",
    "    vector<int> myVec (arr, arr + sizeof(arr) / sizeof(arr[0]) );\n",
    "    vector<int> evenVec;\n",
    "    for(int i=0; i<myVec.size(); i++)\n",
    "        if(myVec[i]%2==0)\n",
    "            evenVec.push_back(myVec[i])\n",
    "}\n",
    "```\n",
    "##### **Python**\n",
    "```python\n",
    "myVec = [5,3,1,14,16,2,77,29]\n",
    "evenVec = [x for x in myVec if x%2==0]\n",
    "```"
   ]
  },
  {
   "cell_type": "markdown",
   "metadata": {},
   "source": [
    "### 3.3 An Objective comparison with C++"
   ]
  },
  {
   "cell_type": "markdown",
   "metadata": {},
   "source": [
    "#### 3.3.1 Overview\n",
    "\n",
    "|Feature                         |Python| C++ |\n",
    "|--------------------------------|:----:|:---:|\n",
    "|Faster Execution                |      |  x  |\n",
    "|Cross-Platform Execution        |  x   |     |\n",
    "|Single-Type Variables           |      |  x  |\n",
    "|Multiple-Type Variables         |  x   |     |\n",
    "|Comprehensions                  |  x   |     |\n",
    "|Rich Set of Built-In Algorithms |  x   |  x  |\n",
    "|Static Typing                   |      |  x  |\n",
    "|Dynamic Typing                  |  x   |     |\n",
    "|Strict Encapsulation            |      |  x  |\n",
    "|Direct Memory Control           |      |  x  |\n",
    "|Garbage Collection              |  x   |     |"
   ]
  },
  {
   "cell_type": "markdown",
   "metadata": {},
   "source": [
    "\n",
    "#### 3.3.2 Slow execution \n",
    "* An interpreter may require processing the same syntax tree more than once that is the reason why interpretation is comparatively slower than executing the compiled program (Refer to definition of compiled/interpreted languages above) </br>\n",
    "* Garbage collection adds to this overhead"
   ]
  },
  {
   "cell_type": "markdown",
   "metadata": {},
   "source": [
    "#### 3.3.3 Dynamic typing (with a twist)\n",
    "* Has advantages and disadvantages too!\n",
    "* The interpreter will get to know the value present in the variable only during run-time\n",
    "* Multi-fold increase in the possibilities of your code breaking down in runtime"
   ]
  },
  {
   "cell_type": "markdown",
   "metadata": {},
   "source": [
    "## 4 Setup"
   ]
  },
  {
   "cell_type": "markdown",
   "metadata": {},
   "source": [
    "### 4.1 Using python installer"
   ]
  },
  {
   "cell_type": "markdown",
   "metadata": {},
   "source": [
    "#### Windows\n",
    "\n",
    "https://www.python.org/downloads/\n",
    "\n",
    "Make sure you python path to environment variables\n",
    "\n",
    "[This video](https://www.youtube.com/watch?v=4Rx_JRkwAjY)  is a good reference for the same\n",
    "\n",
    "#### Ubuntu\n",
    "\n",
    "`sudo apt-get install python3.8`"
   ]
  },
  {
   "cell_type": "markdown",
   "metadata": {},
   "source": [
    "### 4.2 Anaconda Distribution\n",
    "\n",
    "https://www.anaconda.com/distribution/"
   ]
  },
  {
   "cell_type": "markdown",
   "metadata": {},
   "source": [
    "## 5 First python code"
   ]
  },
  {
   "cell_type": "markdown",
   "metadata": {},
   "source": [
    "Go to command line interface and open python prompt\n",
    "\n",
    "```print(\"Hello material world!\")```  \n",
    "\n",
    "_**That's all, it's as simple as it can get**_\n",
    "\n",
    "\n",
    "Or create a python file first.py and add the above code snippet to the file. Then run python temp.py"
   ]
  },
  {
   "cell_type": "markdown",
   "metadata": {},
   "source": [
    "## 6 References and acknowledgements"
   ]
  },
  {
   "cell_type": "markdown",
   "metadata": {},
   "source": [
    "https://realpython.com/python-vs-cpp/#duck-typing\n",
    "\n",
    "https://en.wikipedia.org/wiki/Python_(programming_language)\n",
    "\n",
    "https://techdifferences.com/difference-between-compiler-and-interpreter.html"
   ]
  }
 ],
 "metadata": {
  "kernelspec": {
   "display_name": "Python 3.7.4 64-bit",
   "language": "python",
   "name": "python3"
  },
  "language_info": {
   "codemirror_mode": {
    "name": "ipython",
    "version": 3
   },
   "file_extension": ".py",
   "mimetype": "text/x-python",
   "name": "python",
   "nbconvert_exporter": "python",
   "pygments_lexer": "ipython3",
   "version": "3.7.4"
  },
  "vscode": {
   "interpreter": {
    "hash": "e774977668b7c0ae8309835a5187aa7fbf7669e7d0bb59755bc63e573643edcd"
   }
  }
 },
 "nbformat": 4,
 "nbformat_minor": 4
}
