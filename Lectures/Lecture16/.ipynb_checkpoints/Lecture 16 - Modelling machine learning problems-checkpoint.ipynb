{
 "cells": [
  {
   "cell_type": "markdown",
   "metadata": {},
   "source": [
    "# Modelling Machine learning problems\n",
    "\n",
    "### Definition revisited\n",
    "> A computer program is said to learn from experience E with respect to some class of tasks T and performance measure P, if its performance at tasks in T, as measured by P, improves with experience E. — Tom Mitchell, Machine Learning Professor at Carnegie Mellon University"
   ]
  },
  {
   "cell_type": "markdown",
   "metadata": {},
   "source": [
    "## Can you use ML everywhere and anywhere?\n",
    "\n",
    "If not? What all problems can be modelled as a ML problem?\n",
    "\n",
    "<p align=\"center\"><img width=\"460\" height=\"300\" src=\"resources/sword_as_knife.png\"></p>\n",
    "\n",
    "### Q. Can machine learning solve my homework?\n",
    "\n",
    "If we go by the definition of Tom.. \n",
    "> \"If it fails to satisfy one of these requirements: not enough training data (E), task T is not well described or if its hypothesis' features are not relevant, it's not the time to use ML.\"\n",
    "[source](https://www.researchgate.net/post/Applying_Machine_Learning_When_not_to_go_for_ML_AI_models)\n",
    "\n",
    "Remember:-\n",
    "\n",
    "Don't get confused between AI, ML and automation\n",
    "* AI is very general and includes many techniques to emulate human thinking\n",
    "* ML is a very specific set of algorithms which solve AI \n",
    "\n",
    "### A note from the legends in industry\n",
    "> __Rule #1:__ Don’t be afraid to launch a product without machine learning.\n",
    "Machine learning is cool, but it requires data. Theoretically, you can take data from a different problem and then tweak the model for a new product, but this will likely underperform basic heuristics. If you think that machine learning will give you a 100% boost, then a heuristic will get you 50% of the way there.\n",
    "For instance, if you are ranking apps in an app marketplace, you could use the install rate or number of installs as heuristics. If you are detecting spam, filter out publishers that have sent spam before. Don’t be afraid to use human editing either. If you need to rank contacts, rank the most recently used highest (or even rank alphabetically). If machine learning is not absolutely required for your product, don't use it until you have data. [source](https://developers.google.com/machine-learning/guides/rules-of-ml/#before_machine_learning)\n",
    "\n",
    "<p align=\"center\"><img width=\"460\" height=\"300\" src=\"resources/confusion.jpg\"></p>"
   ]
  },
  {
   "cell_type": "markdown",
   "metadata": {},
   "source": [
    "## Modelling a problem\n",
    "\n",
    "We're going to get to the practical terminology from the formal definition given by Tom Mitchell\n",
    "\n",
    "**_Experience -> Data_**\n",
    "\n",
    "**_Tasks -> Prediction_**\n",
    "\n",
    "**_Performance -> Accuracy_**\n",
    "\n",
    "## Data\n",
    "\n",
    "> It’s often said that __\"data is the fuel of machine learning\"__ This isn’t quite true: data is like the _crude oil_ of machine learning which means it has to be refined into _features_ — predictor variables — to be useful for training a model. Without relevant features, you can’t train an accurate model, no matter how complex the machine learning algorithm. The process of extracting features from a raw dataset is called _feature engineering_\n",
    "\n",
    "## Prediction\n",
    "\n",
    "Simply put our problem is to find our a function ___F___ such that ___F(X) = Y___\n",
    "\n",
    "This is often referred to as the hypothesis. It's a mapping between our input space to the output space.\n",
    "\n",
    "All Machine learning methods are essentially doing different things to find out this holy grail - the perfect hypothesis.\n",
    "\n",
    "Can you name a few such methods?"
   ]
  },
  {
   "cell_type": "markdown",
   "metadata": {},
   "source": [
    "## Accuracy Metrics\n",
    "\n",
    "### Difference based metrics\n",
    "* hamming distance\n",
    "* euclidian distance\n",
    "    * intuitive - it's similar to a person aiming at a target and if he misses the natural deviation metric is distance\n",
    "* thresholding\n",
    "   \n",
    "### More complex metrics\n",
    "* precision and recall\n",
    "* confusion matrix\n",
    "* Logarithmic Loss\n",
    "* Gini Coefficient\n",
    "\n",
    "\n",
    "### These are just a few familiar ones. Here's a bigger list!\n",
    "* Classification Metrics (accuracy, precision, recall, F1-score, ROC, AUC, …)\n",
    "* Regression Metrics (MSE, MAE)\n",
    "* Ranking Metrics (MRR, DCG, NDCG)\n",
    "* Statistical Metrics (Correlation)\n",
    "* Computer Vision Metrics (PSNR, SSIM, IoU)\n",
    "* NLP Metrics (Perplexity, BLEU score)\n",
    "* Deep Learning Related Metrics (Inception score, Frechet Inception distance)\n",
    "\n",
    "This metric is completely dependent on the specific use case\n",
    "\n",
    "<p align=\"center\"><img width=\"600\" src=\"resources/precision_recall.png\"></p>"
   ]
  }
 ],
 "metadata": {
  "kernelspec": {
   "display_name": "Python 3",
   "language": "python",
   "name": "python3"
  },
  "language_info": {
   "codemirror_mode": {
    "name": "ipython",
    "version": 3
   },
   "file_extension": ".py",
   "mimetype": "text/x-python",
   "name": "python",
   "nbconvert_exporter": "python",
   "pygments_lexer": "ipython3",
   "version": "3.7.4"
  }
 },
 "nbformat": 4,
 "nbformat_minor": 2
}
