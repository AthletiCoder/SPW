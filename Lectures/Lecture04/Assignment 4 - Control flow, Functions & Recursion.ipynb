{
  "cells": [
    {
      "cell_type": "markdown",
      "metadata": {
        "id": "lTa65gY7fxLp"
      },
      "source": [
        "# Assignment 4 - Control Flow, Functions and Recursion"
      ]
    },
    {
      "cell_type": "markdown",
      "metadata": {
        "id": "g00seXv1mGf4"
      },
      "source": [
        "## Problem 1 - _Raindrops_\n",
        "\n",
        "Your task is to convert a number into a string that contains raindrop sounds corresponding to certain potential factors. A factor is a number that evenly divides into another number, leaving no remainder. The simplest way to test if a one number is a factor of another is to use the modulo operation (%).\n",
        "\n",
        "The rules of raindrops are that if a given number:\n",
        "\n",
        "* has 3 as a factor, add $Pling$ to the result.\n",
        "* has 5 as a factor, add $Plang$ to the result.\n",
        "* has 7 as a factor, add $Plong$ to the result.\n",
        "* does not have any of 3, 5, or 7 as a factor, the result should be the digits of the number.\n",
        "\n",
        "### Examples\n",
        "1. 28 has 7 as a factor, but not 3 or 5, so the result would be $Plong$.\n",
        "2. 30 has both 3 and 5 as factors, but not 7, so the result would be $PlingPlang$.\n",
        "3. 34 is not factored by 3, 5, or 7, so the result would be \"34\"."
      ]
    },
    {
      "cell_type": "code",
      "execution_count": null,
      "metadata": {
        "id": "dDOfzFhamjtb"
      },
      "outputs": [],
      "source": []
    },
    {
      "cell_type": "markdown",
      "metadata": {
        "id": "fFmUIRgll192"
      },
      "source": [
        "## Problem 2 - _Special Sum_\n",
        "Given an array of size $N$ and two integers $K$ and $S$, the special sum of an array is defined as follows:\n",
        "\n",
        "\n",
        "$(\\sum_{i=1}^N t_i )(K-pS)$\n",
        "\n",
        "Where\n",
        "\n",
        "$t_i$ = $i^{th}$ element of the array\n",
        "\n",
        "$p$ = number of distinct prime factors of $\\Pi_{i=1}^N t_i$.\n",
        "\n",
        "Write a function to find the special sum by considering all elements of the given array.\n",
        "\n",
        "### _Input format_\n",
        "First line contains 3 integers $N$, $K$ and $S$\n",
        "Second line contains $N$ integers, the elements of the array.\n",
        "### _Output format_\n",
        "Output a single integer. The special sum considering all elements of the array."
      ]
    },
    {
      "cell_type": "code",
      "execution_count": null,
      "metadata": {
        "id": "xQhAnBjAfVSd"
      },
      "outputs": [],
      "source": [
        "# import necessary modules\n",
        "\n",
        "# Write a function to find if the number is prime.\n",
        "\n",
        "# Write a function to find special sum. Pass Array, K ans S as the parameters. Return Special Sum.\n",
        "\n",
        "# Take inputs from the user\n",
        "\n",
        "# Call the function"
      ]
    },
    {
      "cell_type": "markdown",
      "metadata": {
        "id": "hbzGVOBGqDNl"
      },
      "source": [
        "## Problem 3 - Bin2Dec Converter\n",
        "\n",
        "In this problem we'll be solving one of the most fundamental elements of functioning of a Computer. We all know that computers work only with binary values and on the otherhand, humans find it more comfortable to work with decimal values\n",
        "\n",
        "The task at hand for you in this problem is therefore to write functions to\n",
        "* convert a given integer $N$ to a string $S$ (which represents the binary form of $N$, it's ok to assume that input $N$ is strictly an integer without decimal points) \n",
        "* convert a given string $S$ to an integer $N$ (which represents the decimal form of binary string $S$, it's ok to assume that $S$ is a valid binary number)\n",
        "\n",
        "**Hint:-** Use recursion here to recursively reduce the size of problem in both the cases\n",
        "* value of integer $N$ in case of Dec2Bin\n",
        "* length of string $S$ in case of Bin2Dec\n"
      ]
    },
    {
      "cell_type": "code",
      "execution_count": null,
      "metadata": {
        "id": "nSoFkol2sBfG"
      },
      "outputs": [],
      "source": [
        "# Implement Bin2Dec here\n",
        "def Bin2Dec(S):\n",
        "  pass\n",
        "\n",
        "# Implement Dec2Bin here\n",
        "def Dec2Bin(N):\n",
        "  pass"
      ]
    },
    {
      "cell_type": "markdown",
      "metadata": {
        "id": "f49KVzOguNs8"
      },
      "source": [
        "## Problem 4 - Password cracker\n",
        "\n",
        "Password cracking is one of the favourite activities of blackhat hackers. One obvious approach is to seqentially check for combination of all letter. This is quite cumbersome and pointless in one sense because people in general have meaningful words in their password rather than some meaningless gibberish.\n",
        "\n",
        "Therefore our intelligent group of hackers have gathered up a set of words which are most frequently used in passwords.\n",
        "\n",
        "Coming to the task at hand, given a list of words $L$ (as mentioned above) and a string $S$ find out if the $S$ can be formed by combination of words in $L$\n"
      ]
    },
    {
      "cell_type": "code",
      "execution_count": null,
      "metadata": {
        "id": "3GtnZhf2xsAV"
      },
      "outputs": [],
      "source": []
    }
  ],
  "metadata": {
    "colab": {
      "collapsed_sections": [],
      "name": "Assignment 1.ipynb",
      "provenance": []
    },
    "kernelspec": {
      "display_name": "Python 3.7.4 64-bit",
      "language": "python",
      "name": "python3"
    },
    "language_info": {
      "name": "python",
      "version": "3.7.4"
    },
    "vscode": {
      "interpreter": {
        "hash": "e774977668b7c0ae8309835a5187aa7fbf7669e7d0bb59755bc63e573643edcd"
      }
    }
  },
  "nbformat": 4,
  "nbformat_minor": 0
}
