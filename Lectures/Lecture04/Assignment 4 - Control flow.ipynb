{
  "cells": [
    {
      "cell_type": "markdown",
      "metadata": {
        "id": "lTa65gY7fxLp"
      },
      "source": [
        "# Assignment 4 - Control Flow"
      ]
    },
    {
      "cell_type": "markdown",
      "metadata": {
        "id": "g00seXv1mGf4"
      },
      "source": [
        "## Problem 1 - _Raindrops_\n",
        "\n",
        "Your task is to convert a number into a string that contains raindrop sounds corresponding to certain potential factors. A factor is a number that evenly divides into another number, leaving no remainder. The simplest way to test if a one number is a factor of another is to use the modulo operation (%).\n",
        "\n",
        "The rules of raindrops are that if a given number:\n",
        "\n",
        "* has 3 as a factor, add `Pling` to the result.\n",
        "* has 5 as a factor, add `Plang` to the result.\n",
        "* has 7 as a factor, add `Plong` to the result.\n",
        "* does not have any of 3, 5, or 7 as a factor, the result should be the digits of the number.\n",
        "\n",
        "### Examples\n",
        "1. 28 has 7 as a factor, but not 3 or 5, so the result would be `Plong`.\n",
        "2. 30 has both 3 and 5 as factors, but not 7, so the result would be `PlingPlang`.\n",
        "3. 34 is not factored by 3, 5, or 7, so the result would be `\"34\"`."
      ]
    },
    {
      "cell_type": "code",
      "execution_count": null,
      "metadata": {
        "id": "dDOfzFhamjtb"
      },
      "outputs": [],
      "source": []
    },
    {
      "cell_type": "markdown",
      "metadata": {
        "id": "hbzGVOBGqDNl"
      },
      "source": [
        "## Problem 2: Odd and Even Counter\n",
        "\n",
        "Write a Python program that takes a list of integers as input and outputs the count of odd and even numbers in the list.\n",
        "\n",
        "### Example:\n",
        "Input: `[1, 2, 3, 4, 5]`\n",
        "\n",
        "Output: `Odd count = 3, Even count = 2`"
      ]
    },
    {
      "cell_type": "code",
      "execution_count": null,
      "metadata": {
        "vscode": {
          "languageId": "plaintext"
        }
      },
      "outputs": [],
      "source": []
    },
    {
      "cell_type": "markdown",
      "metadata": {},
      "source": [
        "## Problem 3: Nested Loops Pattern\n",
        "\n",
        "Generate the following pattern for n = 5 (input from the user):\n",
        "```\n",
        "1\n",
        "12\n",
        "123\n",
        "1234\n",
        "12345\n",
        "```\n",
        "\n",
        "### Example:\n",
        "Input: `3`\n",
        "\n",
        "Output:\n",
        "```\n",
        "1\n",
        "12\n",
        "123\n",
        "```"
      ]
    },
    {
      "cell_type": "code",
      "execution_count": null,
      "metadata": {
        "vscode": {
          "languageId": "plaintext"
        }
      },
      "outputs": [],
      "source": []
    },
    {
      "cell_type": "markdown",
      "metadata": {},
      "source": [
        "## Problem 4: Collatz Sequence\n",
        "\n",
        "Write a program that takes a positive integer n as input and prints the steps in its Collatz sequence. Stop when the sequence reaches 1.\n",
        "\n",
        "### Example:\n",
        "Input: `6`\n",
        "\n",
        "Output: `6, 3, 10, 5, 16, 8, 4, 2, 1`"
      ]
    },
    {
      "cell_type": "code",
      "execution_count": null,
      "metadata": {
        "vscode": {
          "languageId": "plaintext"
        }
      },
      "outputs": [],
      "source": []
    },
    {
      "cell_type": "markdown",
      "metadata": {},
      "source": [
        "## Problem 5: Matrix Spiral Traversal\n",
        "\n",
        "Write a program to traverse a 2D matrix in a spiral order and print the elements.\n",
        "\n",
        "### Example:\n",
        "Input:\n",
        "\n",
        "```\n",
        "[[1, 2, 3],\n",
        " [4, 5, 6],\n",
        " [7, 8, 9]]\n",
        "```\n",
        "\n",
        "Output: `1, 2, 3, 6, 9, 8, 7, 4, 5`"
      ]
    },
    {
      "cell_type": "code",
      "execution_count": null,
      "metadata": {
        "vscode": {
          "languageId": "plaintext"
        }
      },
      "outputs": [],
      "source": []
    },
    {
      "cell_type": "markdown",
      "metadata": {},
      "source": [
        "## Problem 6: Find Substring\n",
        "\n",
        "Write a program that takes two strings as input: s1 (main string) and s2 (substring). Check if s2 exists in s1 without using Python’s built-in `in` operator.\n",
        "\n",
        "### Example:\n",
        "Input: `s1 = \"hello\", s2 = \"ell\"`\n",
        "\n",
        "Output: `True`"
      ]
    },
    {
      "cell_type": "code",
      "execution_count": null,
      "metadata": {
        "vscode": {
          "languageId": "plaintext"
        }
      },
      "outputs": [],
      "source": []
    },
    {
      "cell_type": "markdown",
      "metadata": {},
      "source": [
        "## Problem 7: Pascal's Triangle\n",
        "\n",
        "Print the first n rows of Pascal’s Triangle, where n is input from the user.\n",
        "\n",
        "### Example:\n",
        "Input: `4`\n",
        "\n",
        "Output:\n",
        "```\n",
        "1\n",
        "1 1\n",
        "1 2 1\n",
        "1 3 3 1\n",
        "```"
      ]
    },
    {
      "cell_type": "code",
      "execution_count": null,
      "metadata": {
        "vscode": {
          "languageId": "plaintext"
        }
      },
      "outputs": [],
      "source": []
    },
    {
      "cell_type": "markdown",
      "metadata": {},
      "source": [
        "## Problem 8: Unique Digits\n",
        "\n",
        "Write a program to check whether a given integer contains all unique digits.\n",
        "\n",
        "### Example:\n",
        "Input: `12345`\n",
        "\n",
        "Output: `True`\n",
        "\n",
        "Input: `123155`\n",
        "\n",
        "Output: `False`"
      ]
    },
    {
      "cell_type": "code",
      "execution_count": null,
      "metadata": {
        "vscode": {
          "languageId": "plaintext"
        }
      },
      "outputs": [],
      "source": []
    },
    {
      "cell_type": "markdown",
      "metadata": {},
      "source": [
        "## Problem 9: Number Guessing Game\n",
        "\n",
        "Implement a number guessing game where the user has to guess a randomly generated number between 1 and 100. The program should provide hints like `\"Too High\"` or `\"Too Low\"` after each guess.\n",
        "\n",
        "### Example:\n",
        "Output: `\"Enter your guess: \"`\n",
        "\n",
        "User: `50`\n",
        "\n",
        "Output: `\"Too High! Try again.\"`"
      ]
    },
    {
      "cell_type": "code",
      "execution_count": null,
      "metadata": {
        "vscode": {
          "languageId": "plaintext"
        }
      },
      "outputs": [],
      "source": []
    },
    {
      "cell_type": "markdown",
      "metadata": {},
      "source": [
        "## Problem 10: Minimum Steps to Reduce to One\n",
        "\n",
        "Given an integer n, write a program to calculate the minimum number of steps required to reduce it to 1. Allowed operations are:\n",
        "- Subtract 1.\n",
        "- Divide by 2 if divisible.\n",
        "- Divide by 3 if divisible.\n",
        "\n",
        "### Example:\n",
        "Input: `10`\n",
        "\n",
        "Output: `3 (10 -> 9 -> 3 -> 1)`"
      ]
    },
    {
      "cell_type": "code",
      "execution_count": null,
      "metadata": {
        "vscode": {
          "languageId": "plaintext"
        }
      },
      "outputs": [],
      "source": []
    }
  ],
  "metadata": {
    "colab": {
      "collapsed_sections": [],
      "name": "Assignment 1.ipynb",
      "provenance": []
    },
    "kernelspec": {
      "display_name": "Python 3.7.4 64-bit",
      "language": "python",
      "name": "python3"
    },
    "language_info": {
      "name": "python",
      "version": "3.7.4"
    },
    "vscode": {
      "interpreter": {
        "hash": "e774977668b7c0ae8309835a5187aa7fbf7669e7d0bb59755bc63e573643edcd"
      }
    }
  },
  "nbformat": 4,
  "nbformat_minor": 0
}
