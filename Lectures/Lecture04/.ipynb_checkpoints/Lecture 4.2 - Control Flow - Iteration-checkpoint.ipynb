{
 "cells": [
  {
   "cell_type": "markdown",
   "metadata": {},
   "source": [
    "# Control Flow - Iteration\n",
    "[bulb]: resources/idea.png \"Idea!\""
   ]
  },
  {
   "cell_type": "markdown",
   "metadata": {},
   "source": [
    "## 0 Motivation\n",
    "\n",
    "* Avoid repetition in code\n",
    "* Repetition for variable number of times\n",
    "\n",
    "### 0.1 Consider the following examples\n",
    "Suppose you need to print \"Hello world!\" 3 times\n",
    "```python\n",
    "print(\"Hello world!\")\n",
    "print(\"Hello world!\")\n",
    "print(\"Hello world!\")\n",
    "```\n",
    "\n",
    "What if you were supposed to do that 10 times, 20 times?\n",
    "Too much repetition right?\n",
    "\n",
    "What if the number of times to be repeated is a user input (unknown while writing code) ?"
   ]
  },
  {
   "cell_type": "markdown",
   "metadata": {},
   "source": [
    "# 1 The `while` loop\n",
    "\n",
    "## 1.1 Usage\n",
    "\n",
    "```python\n",
    "# initialisation of condition params\n",
    "while <some boolean condition>:\n",
    "    # do something\n",
    "    # This is inside while loop\n",
    "    # do something else which may change the condition value\n",
    "# This is outside while loop\n",
    "```\n",
    "\n",
    "## 1.2 Example\n",
    "\n",
    "Consider the above example of printing \"Hello world!\""
   ]
  },
  {
   "cell_type": "code",
   "execution_count": 59,
   "metadata": {},
   "outputs": [
    {
     "name": "stdout",
     "output_type": "stream",
     "text": [
      "2\n",
      "Haribol!\n",
      "Haribol!\n",
      "Outside for loop\n"
     ]
    }
   ],
   "source": [
    "# initialisation of condition parameters\n",
    "i = 0\n",
    "n = int(input())\n",
    "while i < n:\n",
    "    print(\"Hello world!\")\n",
    "    i+=1\n",
    "print(\"Outside for loop\")"
   ]
  },
  {
   "cell_type": "markdown",
   "metadata": {},
   "source": [
    "<img src=\"resources/idea.png\" alt=\"Idea\" align=\"left\" title=\"Idea!\" width=\"20\" height=\"20\"/> \n",
    "___You can even try the above code when the number of repetitions is a user input variable___"
   ]
  },
  {
   "cell_type": "markdown",
   "metadata": {},
   "source": [
    "# 2 The `for` loop\n",
    "\n",
    "## 2.1 Usage\n",
    "\n",
    "```python\n",
    "for var in iterable:\n",
    "    # do something\n",
    "    # This is inside the for loop\n",
    "# outside for loop\n",
    "```\n",
    "\n",
    "## 2.2 Recap - iterables\n",
    "\n",
    "Following are a few iterables that we know in python\n",
    "* lists\n",
    "* strings\n",
    "* tuples\n",
    "* dictionaries\n",
    "\n",
    "## 2.3 Examples - for all the above iterables"
   ]
  },
  {
   "cell_type": "code",
   "execution_count": 72,
   "metadata": {},
   "outputs": [
    {
     "name": "stdout",
     "output_type": "stream",
     "text": [
      "a\n",
      "2\n",
      "Hare\n",
      "4\n",
      "Ram\n"
     ]
    },
    {
     "data": {
      "text/plain": [
       "'a'"
      ]
     },
     "execution_count": 72,
     "metadata": {},
     "output_type": "execute_result"
    }
   ],
   "source": [
    "# Lists\n",
    "myList = [\"a\",2,\"Hello\",4,\"world\"]\n",
    "for item in myList:\n",
    "    print(item)\n",
    "    \n",
    "myList.__iter__()"
   ]
  },
  {
   "cell_type": "code",
   "execution_count": 1,
   "metadata": {},
   "outputs": [
    {
     "name": "stdout",
     "output_type": "stream",
     "text": [
      "item #0: a\n",
      "item #1: 2\n",
      "item #2: Hello\n",
      "item #3: 4\n",
      "item #4: world\n"
     ]
    }
   ],
   "source": [
    "myList = [\"a\",2,\"Hello\",4,\"world\"]\n",
    "for idx, item in enumerate(myList):\n",
    "    print(\"item #{}: {}\".format(idx,item))"
   ]
  },
  {
   "cell_type": "code",
   "execution_count": 2,
   "metadata": {},
   "outputs": [
    {
     "name": "stdout",
     "output_type": "stream",
     "text": [
      "Hello world"
     ]
    }
   ],
   "source": [
    "# Strings\n",
    "myString = \"Hello world\"\n",
    "for char in myString:\n",
    "    print(char, end=\"\")"
   ]
  },
  {
   "cell_type": "code",
   "execution_count": 3,
   "metadata": {},
   "outputs": [
    {
     "name": "stdout",
     "output_type": "stream",
     "text": [
      "1: first\n",
      "2: second\n",
      "3: third\n"
     ]
    }
   ],
   "source": [
    "myDictionary = {\"1\":\"first\",\n",
    "                \"2\":\"second\",\n",
    "                \"3\":\"third\"}\n",
    "for a, b in myDictionary.items():\n",
    "    print(\"{}: {}\".format(a, b))"
   ]
  },
  {
   "cell_type": "markdown",
   "metadata": {},
   "source": [
    "### Extra help for dictionaries - `.keys()`, `.items()`"
   ]
  },
  {
   "cell_type": "code",
   "execution_count": 4,
   "metadata": {},
   "outputs": [
    {
     "name": "stdout",
     "output_type": "stream",
     "text": [
      "1\n",
      "2\n",
      "3\n",
      "\n",
      "1: first\n",
      "2: second\n",
      "3: third\n"
     ]
    }
   ],
   "source": [
    "myDictionary = {\"1\":\"first\",\n",
    "                \"2\":\"second\",\n",
    "                \"3\":\"third\"}\n",
    "# .keys() returns all the keys in a dictionary as a list\n",
    "for key in myDictionary.keys():\n",
    "    print(key)\n",
    "    \n",
    "print()\n",
    "\n",
    "# .items returns all the key, value pairs as a __guess what__\n",
    "for key, value in myDictionary.items():\n",
    "    print(\"{}: {}\".format(key, value))"
   ]
  },
  {
   "cell_type": "code",
   "execution_count": 5,
   "metadata": {},
   "outputs": [
    {
     "name": "stdout",
     "output_type": "stream",
     "text": [
      "\n"
     ]
    },
    {
     "ename": "ValueError",
     "evalue": "invalid literal for int() with base 10: ''",
     "output_type": "error",
     "traceback": [
      "\u001b[0;31m---------------------------------------------------------------------------\u001b[0m",
      "\u001b[0;31mValueError\u001b[0m                                Traceback (most recent call last)",
      "\u001b[0;32m<ipython-input-5-3dc2b01d70e0>\u001b[0m in \u001b[0;36m<module>\u001b[0;34m\u001b[0m\n\u001b[1;32m      1\u001b[0m \u001b[0ml\u001b[0m \u001b[0;34m=\u001b[0m \u001b[0;34m[\u001b[0m\u001b[0;34m]\u001b[0m\u001b[0;34m\u001b[0m\u001b[0;34m\u001b[0m\u001b[0m\n\u001b[1;32m      2\u001b[0m \u001b[0;32mwhile\u001b[0m \u001b[0;32mTrue\u001b[0m\u001b[0;34m:\u001b[0m\u001b[0;34m\u001b[0m\u001b[0;34m\u001b[0m\u001b[0m\n\u001b[0;32m----> 3\u001b[0;31m     \u001b[0minp\u001b[0m \u001b[0;34m=\u001b[0m \u001b[0mint\u001b[0m\u001b[0;34m(\u001b[0m\u001b[0minput\u001b[0m\u001b[0;34m(\u001b[0m\u001b[0;34m)\u001b[0m\u001b[0;34m)\u001b[0m\u001b[0;34m\u001b[0m\u001b[0;34m\u001b[0m\u001b[0m\n\u001b[0m\u001b[1;32m      4\u001b[0m     \u001b[0ml\u001b[0m\u001b[0;34m.\u001b[0m\u001b[0mappend\u001b[0m\u001b[0;34m(\u001b[0m\u001b[0minp\u001b[0m\u001b[0;34m)\u001b[0m\u001b[0;34m\u001b[0m\u001b[0;34m\u001b[0m\u001b[0m\n\u001b[1;32m      5\u001b[0m     \u001b[0;32mif\u001b[0m \u001b[0mlen\u001b[0m\u001b[0;34m(\u001b[0m\u001b[0ml\u001b[0m\u001b[0;34m)\u001b[0m\u001b[0;34m==\u001b[0m\u001b[0;36m10\u001b[0m\u001b[0;34m:\u001b[0m\u001b[0;34m\u001b[0m\u001b[0;34m\u001b[0m\u001b[0m\n",
      "\u001b[0;31mValueError\u001b[0m: invalid literal for int() with base 10: ''"
     ]
    }
   ],
   "source": [
    "l = []\n",
    "while True:\n",
    "    inp = int(input())\n",
    "    l.append(inp)\n",
    "    if len(l)==10:\n",
    "        print(l)\n",
    "        break"
   ]
  },
  {
   "cell_type": "markdown",
   "metadata": {},
   "source": [
    "<img src=\"resources/idea.png\" alt=\"Idea\" align=\"left\" title=\"Idea!\" width=\"20\" height=\"20\"/> \n",
    "___What if I iterate over a dictionary directly___"
   ]
  },
  {
   "cell_type": "markdown",
   "metadata": {},
   "source": [
    "# 3 Other related keywords\n",
    "\n",
    "## 3.1 `range`\n",
    "\n",
    "A datatype used in iterations. Consider the following example\n",
    "```python\n",
    "i = 1\n",
    "while i<10:\n",
    "    print(\"Hello world\")\n",
    "    i += 1\n",
    "\n",
    "# The above code is same as\n",
    "    \n",
    "for i in range(10):\n",
    "    print(\"Hello world\")\n",
    "```\n",
    "\n",
    "<img src=\"resources/idea.png\" alt=\"Idea\" align=\"left\" title=\"Idea!\" width=\"20\" height=\"20\"/> \n",
    "___Checkout other variations of range - reverse iterations, skip iterations___\n",
    "\n",
    "## 3.2 `break`\n",
    "\n",
    "Stop the iteration. Consider the following example\n",
    "\n",
    "```python\n",
    "l = []\n",
    "while True:\n",
    "    inp = int(input())\n",
    "    l.append(inp)\n",
    "    if len(l)==10:\n",
    "        break\n",
    "```\n",
    "<img src=\"resources/idea.png\" alt=\"Idea\" align=\"left\" title=\"Idea!\" width=\"20\" height=\"20\"/> \n",
    "___What does break do in nested loops___\n",
    "\n",
    "\n",
    "## 3.3 `continue`\n",
    "\n",
    "Skip the remaining code in that iteration and proceed to the next one\n",
    "```python\n",
    "l = []\n",
    "while True:\n",
    "    inp = int(input())\n",
    "    if inp<0:\n",
    "        continue\n",
    "    l.append(inp)\n",
    "    if len(l)==10:\n",
    "        break\n",
    "```"
   ]
  },
  {
   "cell_type": "markdown",
   "metadata": {},
   "source": [
    "# 4 Comprehensions - aesthetic element of Python"
   ]
  },
  {
   "cell_type": "code",
   "execution_count": 6,
   "metadata": {},
   "outputs": [
    {
     "name": "stdout",
     "output_type": "stream",
     "text": [
      "[]\n"
     ]
    }
   ],
   "source": [
    "# Say we need to obtain a list of all the integers in a sequence and then square them:\n",
    "a_list = [1,'4',9,'a',0,4]\n",
    "ret = [e**2 for e in a_list if type(a)==int]\n",
    "print(ret)\n",
    "\n",
    "# [ 1, 81, 0, 16 ]"
   ]
  },
  {
   "cell_type": "markdown",
   "metadata": {},
   "source": [
    "## 4.1 General formula for comprehensions\n",
    "![alt text](resources/listComprehensions.gif)"
   ]
  },
  {
   "cell_type": "markdown",
   "metadata": {},
   "source": [
    "## 4.2 Other similar methods - `map`, `filter`\n",
    "```python\n",
    "filter(lambda e: type(e) == types.IntType, a_list)\n",
    "map(lambda e: e**2, a_list)\n",
    "```"
   ]
  },
  {
   "cell_type": "code",
   "execution_count": 7,
   "metadata": {},
   "outputs": [
    {
     "name": "stdout",
     "output_type": "stream",
     "text": [
      "[1, 81, 0, 16]\n"
     ]
    }
   ],
   "source": [
    "a_list = [1, '4', 9, 'a', 0, 4]\n",
    "out = map(lambda e: e**2, filter(lambda e: type(e) == int, a_list))\n",
    "print(list(out))"
   ]
  },
  {
   "cell_type": "markdown",
   "metadata": {},
   "source": [
    "<img src=\"resources/idea.png\" alt=\"Idea\" align=\"left\" title=\"Idea!\" width=\"20\" height=\"20\"/> \n",
    "___What if I do map first and then filter___"
   ]
  },
  {
   "cell_type": "markdown",
   "metadata": {},
   "source": [
    "## 4.3 More techniques - `zip` function\n",
    "\n",
    "To iterate over two lists simultaneously"
   ]
  },
  {
   "cell_type": "code",
   "execution_count": 8,
   "metadata": {},
   "outputs": [
    {
     "name": "stdout",
     "output_type": "stream",
     "text": [
      "one, 1\n",
      "two, 2\n",
      "three, 3\n",
      "four, 4\n"
     ]
    }
   ],
   "source": [
    "a = [1,2,3,4]\n",
    "b = [\"one\", \"two\", \"three\", \"four\"]\n",
    "for i,j in zip(b,a):\n",
    "    print(\"{}, {}\".format(i, j))"
   ]
  },
  {
   "cell_type": "markdown",
   "metadata": {},
   "source": [
    "# 5 Code-along exercises\n",
    "\n",
    "Checkout `raindrops_modified.py`"
   ]
  },
  {
   "cell_type": "markdown",
   "metadata": {},
   "source": [
    "## References\n",
    "https://python-3-patterns-idioms-test.readthedocs.io/en/latest/Comprehensions.html\n"
   ]
  }
 ],
 "metadata": {
  "kernelspec": {
   "display_name": "Python 3",
   "language": "python",
   "name": "python3"
  },
  "language_info": {
   "codemirror_mode": {
    "name": "ipython",
    "version": 3
   },
   "file_extension": ".py",
   "mimetype": "text/x-python",
   "name": "python",
   "nbconvert_exporter": "python",
   "pygments_lexer": "ipython3",
   "version": "3.7.4"
  }
 },
 "nbformat": 4,
 "nbformat_minor": 2
}
