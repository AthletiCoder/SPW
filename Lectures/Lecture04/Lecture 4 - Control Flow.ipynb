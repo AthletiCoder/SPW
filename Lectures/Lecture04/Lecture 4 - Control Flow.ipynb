{
 "cells": [
  {
   "cell_type": "markdown",
   "metadata": {},
   "source": [
    "# Lecture 4 - Conditions and Loops"
   ]
  },
  {
   "cell_type": "markdown",
   "metadata": {},
   "source": [
    "## 1 Introduction\n",
    "At the end of the day, programming is meant to make our life easier by automating things - an assistant for the brain"
   ]
  },
  {
   "cell_type": "markdown",
   "metadata": {},
   "source": [
    "### 1.1 Code as assistant for in storage"
   ]
  },
  {
   "cell_type": "markdown",
   "metadata": {},
   "source": [
    "\n",
    "<img src=\"resources/brain_memory.png\" align=\"left\" alt=\"drawing\" width=\"500\"/>"
   ]
  },
  {
   "cell_type": "markdown",
   "metadata": {},
   "source": [
    "### 1.2 Code as an assistant in taking decisions"
   ]
  },
  {
   "cell_type": "markdown",
   "metadata": {},
   "source": [
    "<img src=\"resources/brain_thinking.png\" align=\"left\" alt=\"drawing\" width=\"500\"/>"
   ]
  },
  {
   "cell_type": "markdown",
   "metadata": {},
   "source": [
    "### 1.3 Think!"
   ]
  },
  {
   "cell_type": "markdown",
   "metadata": {},
   "source": [
    "Can you think of some way in which you can implement decision making using what all you know so far.\n",
    "\n",
    "*Essentially... we have to do something in a particular scenario and something else otherwise*\n",
    "\n",
    "Let's say.. you need to implement a greeting system \n",
    "\n",
    "`\"Welcome home, <name>\"` if the user is Varun or Harsh \n",
    "\n",
    "`\"Hello <name>!\"` when the user is one of you\n",
    "\n",
    "`\"Access denied!\"` otherwise"
   ]
  },
  {
   "cell_type": "code",
   "execution_count": null,
   "metadata": {},
   "outputs": [],
   "source": [
    "outputs = {\n",
    "    \"Varun\" : \"Welcome home, Varun\",\n",
    "    \"Harsh\" : \"Welcome home, Harsh\",\n",
    "    \"Madhav\": \"Hello Madhav!\",\n",
    "    \"Jateen\": \"Hello Jateen!\",\n",
    "    \"Corona\": \"Access denied!\",\n",
    "}\n",
    "\n",
    "while True:\n",
    "    name = str(input())\n",
    "    print(outputs[name])\n",
    "    \n",
    "# But the situations are not always as simple as this"
   ]
  },
  {
   "cell_type": "markdown",
   "metadata": {},
   "source": [
    "### 1.4 Imagine implementing something like this"
   ]
  },
  {
   "cell_type": "markdown",
   "metadata": {},
   "source": [
    "<img src=\"resources/complex_condition.jpg\" align=\"left\" alt=\"drawing\" width=\"500\"/>\n",
    "\n",
    "\n",
    "<img src=\"resources/more_complex_condition.jpg\" align=\"left\" alt=\"drawing\" width=\"700\"/>"
   ]
  },
  {
   "cell_type": "markdown",
   "metadata": {},
   "source": [
    "## 2 Conditional logic"
   ]
  },
  {
   "cell_type": "markdown",
   "metadata": {},
   "source": [
    "\n",
    "### 2.1 Conditional statements"
   ]
  },
  {
   "cell_type": "markdown",
   "metadata": {},
   "source": [
    "```python\n",
    "<some code>\n",
    "\n",
    "if <test expression 1>:\n",
    "    <statement 1>\n",
    "elif <test expression 2>:\n",
    "    <statement 2>\n",
    "elif <test expression 3>:\n",
    "    <statement 3>\n",
    "else:\n",
    "    <body else>\n",
    "\n",
    "<some other code>\n",
    "```"
   ]
  },
  {
   "cell_type": "markdown",
   "metadata": {},
   "source": [
    "### 2.2 Boolean expressions"
   ]
  },
  {
   "cell_type": "markdown",
   "metadata": {},
   "source": [
    "#### 2.2.1 Atomic boolean expressions - Logical operators"
   ]
  },
  {
   "cell_type": "markdown",
   "metadata": {},
   "source": [
    "* A unit expression (which can't be broken down any further) which evaluate to `True` or `False`\n",
    "* Sometimes a single variable is also used as boolean expression. \n",
    "\n",
    "```python\n",
    "if myVar:\n",
    "    # do something\n",
    "    \n",
    "```\n",
    "*Here* `myVar` *is a valid boolean expression and it will evaluate to False in the following cases:*\n",
    "* myVar is a float/int/double and is numerically 0\n",
    "* myVar is a list/dict and is empty\n",
    "* myVar is a string and is \"\"\n",
    "* myVar is any other datatype and is None"
   ]
  },
  {
   "cell_type": "markdown",
   "metadata": {},
   "source": [
    "#### 2.2.2 Logical operators - `<`, `>`, `==`, `>=`, `<=`"
   ]
  },
  {
   "cell_type": "markdown",
   "metadata": {},
   "source": [
    "\n",
    "Examples \n",
    "* `10 > 5`\n",
    "* `a <= 0.5`"
   ]
  },
  {
   "cell_type": "markdown",
   "metadata": {},
   "source": [
    "#### 2.2.3 More \"logical operators\" - The `in` and `is` keyword"
   ]
  },
  {
   "cell_type": "markdown",
   "metadata": {},
   "source": [
    "Checks existence/equality of something in something\n",
    "##### For Example : \n",
    "* `2 in [1,3,2,4]` evaluates to `True`\n",
    "* `a is \"hello\"` will evaluate to `True` if `a` happens to be `\"hello\"`"
   ]
  },
  {
   "cell_type": "markdown",
   "metadata": {},
   "source": [
    "#### 2.2.4 Complex boolean expressions using Boolean Operators"
   ]
  },
  {
   "cell_type": "markdown",
   "metadata": {},
   "source": [
    "A combination of atomic boolean expressions using boolean operators\n",
    "##### Boolean operators - `and`, `or`, `not`\n",
    "Appropriate usage of parenthesis is necessary\n",
    "\n",
    "##### For Example :\n",
    "* `(a>b and c<=3) or (var not in myList)`\n",
    "* `myVar is not \"my_string\" and x==y`"
   ]
  },
  {
   "cell_type": "markdown",
   "metadata": {},
   "source": [
    "## 3 Revisiting the original problem statement"
   ]
  },
  {
   "cell_type": "code",
   "execution_count": null,
   "metadata": {
    "scrolled": true
   },
   "outputs": [],
   "source": [
    "gems_of_iitb = [\"Aryan\", \"Ayan\", \"Bharani\"]\n",
    "name = str(input())\n",
    "if name in [\"Varun\", \"Harsh\"]:\n",
    "    print(\"Welcome home, \"+name)\n",
    "    print(\"Varun or Harsh is here!\")\n",
    "elif name in gems_of_iitb:\n",
    "    print(\"Hello {}!\".format(name))\n",
    "    print(\"Some gems of IITB are here!\")\n",
    "else:\n",
    "    print(\"Access denied!\")\n",
    "    print(\"Some unauthorized person is here!\")"
   ]
  },
  {
   "cell_type": "markdown",
   "metadata": {},
   "source": [
    "### The same code in C++\n",
    "```cpp\n",
    "#include<iostream>\n",
    "#include<string>\n",
    "\n",
    "using namespace std;\n",
    "\n",
    "int main(){\n",
    "    vector<string> gems_of_iitb = {\"Aryan\", \"Ayan\", \"Bharani\"};\n",
    "    string name;\n",
    "    cin >> name;\n",
    "    it = find (gems_of_iitb.begin(), gems_of_iitb.end(), 30);\n",
    "    if (name == \"Harsh\" || name == \"Varun\"){\n",
    "        cout << \"Welcome home, \"+name << endl;\n",
    "        cout << \"Varun and Harsh are here!\" << endl;\n",
    "    }\n",
    "    else if (it != gems_of_iitb.end()){\n",
    "        cout << \"Hello \" << *it << '!\\n';\n",
    "        cout << \"Some gems of IITB are here!\" << endl;\n",
    "    }\n",
    "    else{\n",
    "        cout << \"Access denied!\" << endl;\n",
    "        cout << \"Some unauthorized person is here!\" << endl;\n",
    "    }\n",
    "}\n",
    "```"
   ]
  },
  {
   "cell_type": "markdown",
   "metadata": {},
   "source": [
    "### Important!\n",
    "* Notice how if-blocks are wrapped by {} in case C++ while in case of python there's nothing like that\n",
    "* The indentation (leading spaces) is, therefore, very important\n",
    "* If two consecutive lines have same indentation (leading spaces) they belong to same block"
   ]
  },
  {
   "cell_type": "markdown",
   "metadata": {},
   "source": [
    "### Common mistakes"
   ]
  },
  {
   "cell_type": "markdown",
   "metadata": {},
   "source": [
    "#### `==` vs `is`\n",
    "\n",
    "`is` will return True if two variables point to the same object, `==` if the objects referred to by the variables are equal\n",
    " \n",
    "#### Checkout the relevant code-snippet in examples folder!"
   ]
  },
  {
   "cell_type": "markdown",
   "metadata": {},
   "source": [
    "## 4 Iteration\n",
    "[bulb]: resources/idea.png \"Idea!\""
   ]
  },
  {
   "cell_type": "markdown",
   "metadata": {},
   "source": [
    "Motivation\n",
    "* Avoid repetition in code\n",
    "* Repetition for variable number of times"
   ]
  },
  {
   "cell_type": "markdown",
   "metadata": {},
   "source": [
    "### 4.0 Think\n",
    "Suppose you need to print \"Hello world!\" 3 times"
   ]
  },
  {
   "cell_type": "code",
   "execution_count": null,
   "metadata": {},
   "outputs": [],
   "source": [
    "print(\"Hello world!\")\n",
    "print(\"Hello world!\")\n",
    "print(\"Hello world!\")"
   ]
  },
  {
   "cell_type": "markdown",
   "metadata": {},
   "source": [
    "What if you were supposed to do that 10 times, 20 times?\n",
    "Too much repetition right?\n",
    "\n",
    "What if the number of times to be repeated is a user input (unknown while writing code) ?"
   ]
  },
  {
   "cell_type": "markdown",
   "metadata": {},
   "source": [
    "### 4.1 While loop"
   ]
  },
  {
   "cell_type": "markdown",
   "metadata": {},
   "source": [
    "#### 4.1.1 Usage"
   ]
  },
  {
   "cell_type": "code",
   "execution_count": null,
   "metadata": {},
   "outputs": [],
   "source": [
    "### initialisation of condition params\n",
    "while <some boolean condition>:\n",
    "    # do something\n",
    "    # This is inside while loop\n",
    "    # do something else which may change the condition value\n",
    "### This is outside while loop"
   ]
  },
  {
   "cell_type": "markdown",
   "metadata": {},
   "source": [
    "#### 4.1.2 Example\n",
    "Consider the above example of printing \"Hello world!\""
   ]
  },
  {
   "cell_type": "code",
   "execution_count": null,
   "metadata": {},
   "outputs": [
    {
     "name": "stdout",
     "output_type": "stream",
     "text": [
      "2\n",
      "Haribol!\n",
      "Haribol!\n",
      "Outside for loop\n"
     ]
    }
   ],
   "source": [
    "# initialisation of condition parameters\n",
    "i = 0\n",
    "n = int(input())\n",
    "while i < n:\n",
    "    print(\"Hello world!\")\n",
    "    i+=1\n",
    "print(\"Outside for loop\")"
   ]
  },
  {
   "cell_type": "markdown",
   "metadata": {},
   "source": [
    "<img src=\"resources/idea.png\" alt=\"Idea\" align=\"left\" title=\"Idea!\" width=\"20\" height=\"20\"/> \n",
    "___You can even try the above code when the number of repetitions is a user input variable___"
   ]
  },
  {
   "cell_type": "markdown",
   "metadata": {},
   "source": [
    "### 4.2 `for` loop"
   ]
  },
  {
   "cell_type": "markdown",
   "metadata": {},
   "source": [
    "#### 4.2.1 Usage"
   ]
  },
  {
   "cell_type": "code",
   "execution_count": null,
   "metadata": {},
   "outputs": [],
   "source": [
    "for var in iterable:\n",
    "    # do something\n",
    "    # This is inside the for loop\n",
    "# outside for loop"
   ]
  },
  {
   "cell_type": "markdown",
   "metadata": {},
   "source": [
    "#### 4.2.2 Recap - iterables"
   ]
  },
  {
   "cell_type": "markdown",
   "metadata": {},
   "source": [
    "Following are a few iterables that we know in python\n",
    "* lists\n",
    "* strings\n",
    "* tuples\n",
    "* dictionaries"
   ]
  },
  {
   "cell_type": "markdown",
   "metadata": {},
   "source": [
    "#### 4.2.3 Examples - for all the above iterables"
   ]
  },
  {
   "cell_type": "code",
   "execution_count": null,
   "metadata": {},
   "outputs": [],
   "source": [
    "# Lists\n",
    "myList = [\"a\",2,\"Hello\",4,\"world\"]\n",
    "for item in myList:\n",
    "    print(item)\n",
    "    \n",
    "myList.__iter__()"
   ]
  },
  {
   "cell_type": "code",
   "execution_count": null,
   "metadata": {},
   "outputs": [],
   "source": [
    "myList = [\"a\",2,\"Hello\",4,\"world\"]\n",
    "for idx, item in enumerate(myList):\n",
    "    print(\"item #{}: {}\".format(idx,item))"
   ]
  },
  {
   "cell_type": "code",
   "execution_count": null,
   "metadata": {},
   "outputs": [],
   "source": [
    "# Strings\n",
    "myString = \"Hello world\"\n",
    "for char in myString:\n",
    "    print(char, end=\"\")"
   ]
  },
  {
   "cell_type": "code",
   "execution_count": null,
   "metadata": {},
   "outputs": [],
   "source": [
    "myDictionary = {\"1\":\"first\",\n",
    "                \"2\":\"second\",\n",
    "                \"3\":\"third\"}\n",
    "for a, b in myDictionary.items():\n",
    "    print(\"{}: {}\".format(a, b))"
   ]
  },
  {
   "cell_type": "markdown",
   "metadata": {},
   "source": [
    "#### 4.2.4 Helpful functions - `.keys()`, `.items()`"
   ]
  },
  {
   "cell_type": "code",
   "execution_count": null,
   "metadata": {},
   "outputs": [],
   "source": [
    "myDictionary = {\"1\":\"first\",\n",
    "                \"2\":\"second\",\n",
    "                \"3\":\"third\"}\n",
    "# .keys() returns all the keys in a dictionary as a list\n",
    "for key in myDictionary.keys():\n",
    "    print(key)\n",
    "    \n",
    "print()\n",
    "\n",
    "# .items returns all the key, value pairs as a __guess what__\n",
    "for key, value in myDictionary.items():\n",
    "    print(\"{}: {}\".format(key, value))"
   ]
  },
  {
   "cell_type": "code",
   "execution_count": null,
   "metadata": {},
   "outputs": [],
   "source": [
    "l = []\n",
    "while True:\n",
    "    inp = int(input())\n",
    "    l.append(inp)\n",
    "    if len(l)==10:\n",
    "        print(l)\n",
    "        break"
   ]
  },
  {
   "cell_type": "markdown",
   "metadata": {},
   "source": [
    "<img src=\"resources/idea.png\" alt=\"Idea\" align=\"left\" title=\"Idea!\" width=\"20\" height=\"20\"/> \n",
    "\n",
    "What if I iterate over a dictionary directly"
   ]
  },
  {
   "cell_type": "markdown",
   "metadata": {},
   "source": [
    "## 5 Other related functions"
   ]
  },
  {
   "cell_type": "markdown",
   "metadata": {},
   "source": [
    "\n",
    "### 5.1 `range`"
   ]
  },
  {
   "cell_type": "markdown",
   "metadata": {},
   "source": [
    "A datatype used in iterations. Consider the following example"
   ]
  },
  {
   "cell_type": "code",
   "execution_count": null,
   "metadata": {},
   "outputs": [],
   "source": [
    "i = 1\n",
    "while i<10:\n",
    "    print(\"Hello world\")\n",
    "    i += 1\n",
    "\n",
    "# The above code is same as\n",
    "    \n",
    "for i in range(10):\n",
    "    print(\"Hello world\")"
   ]
  },
  {
   "cell_type": "markdown",
   "metadata": {},
   "source": [
    "\n",
    "<img src=\"resources/idea.png\" alt=\"Idea\" align=\"left\" title=\"Idea!\" width=\"20\" height=\"20\"/> \n",
    "Checkout other variations of range - reverse iterations, skip iterations"
   ]
  },
  {
   "cell_type": "markdown",
   "metadata": {},
   "source": [
    "### 5.2 `break`"
   ]
  },
  {
   "cell_type": "markdown",
   "metadata": {},
   "source": [
    "\n",
    "Stop the iteration. Consider the following example\n",
    "\n",
    "```python\n",
    "l = []\n",
    "while True:\n",
    "    inp = int(input())\n",
    "    l.append(inp)\n",
    "    if len(l)==10:\n",
    "        break\n",
    "```\n",
    "<img src=\"resources/idea.png\" alt=\"Idea\" align=\"left\" title=\"Idea!\" width=\"20\" height=\"20\"/> \n",
    "___What does break do in nested loops___"
   ]
  },
  {
   "cell_type": "markdown",
   "metadata": {},
   "source": [
    "### 5.3 `continue`"
   ]
  },
  {
   "cell_type": "markdown",
   "metadata": {},
   "source": [
    "\n",
    "Skip the remaining code in that iteration and proceed to the next one\n",
    "```python\n",
    "l = []\n",
    "while True:\n",
    "    inp = int(input())\n",
    "    if inp<0:\n",
    "        continue\n",
    "    l.append(inp)\n",
    "    if len(l)==10:\n",
    "        break\n",
    "```"
   ]
  },
  {
   "cell_type": "markdown",
   "metadata": {},
   "source": [
    "## 6 Comprehensions - superpower of Python"
   ]
  },
  {
   "cell_type": "code",
   "execution_count": null,
   "metadata": {},
   "outputs": [],
   "source": [
    "# Say we need to obtain a list of all the integers in a sequence and then square them:\n",
    "a_list = [1,'4',9,'a',0,4]\n",
    "ret = [e**2 for e in a_list if type(a)==int]\n",
    "print(ret)\n",
    "\n",
    "# [ 1, 81, 0, 16 ]"
   ]
  },
  {
   "cell_type": "markdown",
   "metadata": {},
   "source": [
    "### 6.1 General formula for comprehensions"
   ]
  },
  {
   "cell_type": "markdown",
   "metadata": {},
   "source": [
    "![alt text](resources/listComprehensions.gif)"
   ]
  },
  {
   "cell_type": "markdown",
   "metadata": {},
   "source": [
    "### 6.2 Other similar methods - `map`, `filter`"
   ]
  },
  {
   "cell_type": "code",
   "execution_count": null,
   "metadata": {},
   "outputs": [],
   "source": [
    "filter(lambda e: type(e) == types.IntType, a_list)\n",
    "map(lambda e: e**2, a_list)"
   ]
  },
  {
   "cell_type": "code",
   "execution_count": null,
   "metadata": {},
   "outputs": [],
   "source": [
    "a_list = [1, '4', 9, 'a', 0, 4]\n",
    "out = map(lambda e: e**2, filter(lambda e: type(e) == int, a_list))\n",
    "print(list(out))"
   ]
  },
  {
   "cell_type": "markdown",
   "metadata": {},
   "source": [
    "<img src=\"resources/idea.png\" alt=\"Idea\" align=\"left\" title=\"Idea!\" width=\"20\" height=\"20\"/> \n",
    "What if I do map first and then filter"
   ]
  },
  {
   "cell_type": "markdown",
   "metadata": {},
   "source": [
    "### 6.3 More techniques - `zip` function\n",
    "\n",
    "To iterate over two lists simultaneously"
   ]
  },
  {
   "cell_type": "code",
   "execution_count": null,
   "metadata": {},
   "outputs": [
    {
     "name": "stdout",
     "output_type": "stream",
     "text": [
      "one, 1\n",
      "two, 2\n",
      "three, 3\n",
      "four, 4\n"
     ]
    }
   ],
   "source": [
    "a = [1,2,3,4]\n",
    "b = [\"one\", \"two\", \"three\", \"four\"]\n",
    "for i,j in zip(b,a):\n",
    "    print(\"{}, {}\".format(i, j))"
   ]
  },
  {
   "cell_type": "markdown",
   "metadata": {},
   "source": [
    "## 7 Code-along exercises\n",
    "\n",
    "Checkout `raindrops_modified.py`"
   ]
  },
  {
   "cell_type": "markdown",
   "metadata": {},
   "source": [
    "## References\n",
    "https://python-3-patterns-idioms-test.readthedocs.io/en/latest/Comprehensions.html\n"
   ]
  }
 ],
 "metadata": {
  "kernelspec": {
   "display_name": "Python 3.7.4 64-bit",
   "language": "python",
   "name": "python3"
  },
  "language_info": {
   "codemirror_mode": {
    "name": "ipython",
    "version": 3
   },
   "file_extension": ".py",
   "mimetype": "text/x-python",
   "name": "python",
   "nbconvert_exporter": "python",
   "pygments_lexer": "ipython3",
   "version": "3.7.4"
  },
  "vscode": {
   "interpreter": {
    "hash": "e774977668b7c0ae8309835a5187aa7fbf7669e7d0bb59755bc63e573643edcd"
   }
  }
 },
 "nbformat": 4,
 "nbformat_minor": 4
}
