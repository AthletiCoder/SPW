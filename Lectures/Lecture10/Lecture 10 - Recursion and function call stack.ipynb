{
 "cells": [
  {
   "cell_type": "markdown",
   "metadata": {
    "slideshow": {
     "slide_type": "slide"
    }
   },
   "source": [
    "# 0 Motivation\n",
    "Unending desire for a short, elegant and understandable code. It's another feature offered because of functions\n",
    "\n",
    "Consider the following example:-"
   ]
  },
  {
   "cell_type": "markdown",
   "metadata": {
    "slideshow": {
     "slide_type": "fragment"
    }
   },
   "source": [
    "## Iterative approach\n",
    "```python\n",
    "def iter_factorial(n):\n",
    "    pass\n",
    "```\n",
    "\n",
    "## Recursive approach\n",
    "```python\n",
    "def recur_factorial(n):\n",
    "    pass\n",
    "```"
   ]
  },
  {
   "cell_type": "markdown",
   "metadata": {
    "slideshow": {
     "slide_type": "subslide"
    }
   },
   "source": [
    "## Iterative approach\n",
    "```python\n",
    "def iter_factorial(n):\n",
    "    factorial = 1\n",
    "    for i in range(1,n+1):\n",
    "        factorial=factorial*i\n",
    "    return factorial\n",
    "```\n",
    "## Recursive approach\n",
    "```python\n",
    "def recur_factorial(n):\n",
    "    return 1 if n==1 else n*recur_factorial(n-1)\n",
    "```    "
   ]
  },
  {
   "cell_type": "markdown",
   "metadata": {
    "slideshow": {
     "slide_type": "slide"
    }
   },
   "source": [
    "# 1 Recursion\n",
    "\n",
    "## 1.1 Definition\n",
    "A programming technique where a function calls itself*\n",
    "\n",
    "_\\* T&C Apply - not all functions can call themselves and get away with it_ (Can you give an example?)"
   ]
  },
  {
   "cell_type": "markdown",
   "metadata": {
    "slideshow": {
     "slide_type": "subslide"
    }
   },
   "source": [
    "### 1.1.1 Let's try something interesting!\n",
    "\n",
    "```python\n",
    "def hello(name):\n",
    "    print(\"Hello {}\".format(name))\n",
    "    hello(name)\n",
    "\n",
    "hello(\"Varun\")\n",
    "```"
   ]
  },
  {
   "cell_type": "markdown",
   "metadata": {
    "slideshow": {
     "slide_type": "slide"
    }
   },
   "source": [
    "## 1.2 General implementation\n",
    "\n",
    "_A function that is unconditional shouldn't be used for recursion_\n",
    "\n",
    "A recursion-eligible function should have the following\n",
    "* A base case - _a fact which is already known_ (can be multiple too)\n",
    "* A recursion step - _which reduces the size of the problem_\n",
    "\n"
   ]
  },
  {
   "cell_type": "markdown",
   "metadata": {
    "slideshow": {
     "slide_type": "slide"
    }
   },
   "source": [
    "## 1.3 Exercises - recursion is all about practice"
   ]
  },
  {
   "cell_type": "markdown",
   "metadata": {
    "slideshow": {
     "slide_type": "fragment"
    }
   },
   "source": [
    "### 1.3.1 Check if a string is palindrome\n",
    "\n",
    "Given a string as input print \"Palindrome\" if it's a palindrome and \"Not palindrome\" if it's not"
   ]
  },
  {
   "cell_type": "markdown",
   "metadata": {
    "slideshow": {
     "slide_type": "fragment"
    }
   },
   "source": [
    "### 1.3.2 Efficient exponential function\n",
    "\n",
    "Implement an efficient exponential function which when given a,b returns ${a^b}$"
   ]
  },
  {
   "cell_type": "markdown",
   "metadata": {
    "slideshow": {
     "slide_type": "subslide"
    }
   },
   "source": [
    "### 1.3.3 Collatz Conjecture\n",
    "\n",
    "Applies to positive integers and speculates that it is always possible to get \"back to 1\" if one follows the below steps\n",
    "* If n is 1 stop\n",
    "* Otherwise, if n is even, repeat this process on _n/2_\n",
    "* Otherwise, if n is odd, repeat this process on _3n+1_\n",
    "\n",
    "Prove the above conjecture by plotting a graph for number of steps taken to reach 1 for first 100 natural numbers"
   ]
  },
  {
   "cell_type": "markdown",
   "metadata": {
    "slideshow": {
     "slide_type": "fragment"
    }
   },
   "source": [
    "### 1.3.4 Convert number to binary and vice verse\n",
    "\n",
    "Given a number and a tag convert it to desired format"
   ]
  },
  {
   "cell_type": "markdown",
   "metadata": {
    "slideshow": {
     "slide_type": "fragment"
    }
   },
   "source": [
    "### 1.3.5 Binary search in a list\n",
    "\n",
    "Given a list and a query number return the index of the query number if it exists and -1 otherwise"
   ]
  },
  {
   "cell_type": "markdown",
   "metadata": {
    "slideshow": {
     "slide_type": "slide"
    }
   },
   "source": [
    "## 1.4 Being prepared for a disaster - set a recursion limit\n",
    "\n",
    "```python\n",
    "import sys\n",
    "sys.setrecursionlimit(100)\n",
    "def hello(name):\n",
    "    print(\"Hello {}\".format(name))\n",
    "    hello(name)\n",
    "    \n",
    "hello(\"Varun\")\n",
    "```"
   ]
  },
  {
   "cell_type": "markdown",
   "metadata": {
    "slideshow": {
     "slide_type": "slide"
    }
   },
   "source": [
    "## 1.5 Unanswered questions\n",
    "\n",
    "* How does a function know that it has to wait now, resume now...\n",
    "* Why do we come across segmentation faults in Recursion\n",
    "\n",
    "What's the internal working of Recursion!\n",
    "\n",
    "Consider the following example"
   ]
  },
  {
   "cell_type": "code",
   "execution_count": null,
   "metadata": {
    "slideshow": {
     "slide_type": "fragment"
    }
   },
   "outputs": [],
   "source": [
    "def proc1(par1, par2):\n",
    "    loc1, loc2 = None, None\n",
    "    \n",
    "    def proc2(par1, par2):\n",
    "        loc1, loc2 = None, None\n",
    "        \n",
    "        def proc3(par1, par2):\n",
    "            loc1, loc2 = None, None\n",
    "        \n",
    "        proc3(par5, par6)\n",
    "        \n",
    "    \n",
    "    proc2(par3, par4)"
   ]
  },
  {
   "cell_type": "markdown",
   "metadata": {
    "slideshow": {
     "slide_type": "slide"
    }
   },
   "source": [
    "# 2 Function call stacks\n",
    "\n",
    "![](resources/callstack.jpeg)"
   ]
  },
  {
   "cell_type": "markdown",
   "metadata": {
    "slideshow": {
     "slide_type": "subslide"
    }
   },
   "source": [
    "## 2.1 Call stacks in action\n",
    "\n",
    "Checkout this beautiful rendition of call stack implementation\n",
    "\n",
    "https://sites.cs.ucsb.edu/~pconrad/cs8/topics.beta/theStack/02/"
   ]
  }
 ],
 "metadata": {
  "celltoolbar": "Slideshow",
  "kernelspec": {
   "display_name": "Python 3",
   "language": "python",
   "name": "python3"
  },
  "language_info": {
   "codemirror_mode": {
    "name": "ipython",
    "version": 3
   },
   "file_extension": ".py",
   "mimetype": "text/x-python",
   "name": "python",
   "nbconvert_exporter": "python",
   "pygments_lexer": "ipython3",
   "version": "3.7.4"
  }
 },
 "nbformat": 4,
 "nbformat_minor": 2
}
