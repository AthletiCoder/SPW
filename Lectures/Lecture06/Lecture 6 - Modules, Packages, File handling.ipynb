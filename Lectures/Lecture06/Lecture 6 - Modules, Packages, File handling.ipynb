{
 "cells": [
  {
   "cell_type": "markdown",
   "metadata": {},
   "source": [
    "# Lecture 6 - Modules, Packages and File handling\n"
   ]
  },
  {
   "cell_type": "markdown",
   "metadata": {},
   "source": [
    "## 0 Motivation"
   ]
  },
  {
   "cell_type": "markdown",
   "metadata": {},
   "source": [
    "* Imagine we wanted water at our home and we start drilling hole to extract ground water\n",
    "* Or let's say you wanted to electricity and you install a thermal power plant at your home\n",
    "\n",
    "<img src=\"resources/reinvent_wheel.gif\" alt=\"drawing\" align=\"left\" width=\"400\"/>"
   ]
  },
  {
   "cell_type": "markdown",
   "metadata": {},
   "source": [
    "* Another example - in case you want to build a building? would you start making the bricks by yourself?\n",
    "* Small functionalities are like bricks and by assembling these small bricks you can make up big and complex buildings\n",
    "\n",
    "<img src=\"resources/bricks_game.jpg\" alt=\"drawing\" align=\"left\" width=\"400\"/>"
   ]
  },
  {
   "cell_type": "markdown",
   "metadata": {},
   "source": [
    "* In fact, this is the most important advantages that python lovers boast of\n",
    "* A python module for anything and everything that is programmable"
   ]
  },
  {
   "cell_type": "markdown",
   "metadata": {},
   "source": [
    "## 1 Simple modules"
   ]
  },
  {
   "cell_type": "markdown",
   "metadata": {},
   "source": [
    "### 1.0 Introduction"
   ]
  },
  {
   "cell_type": "code",
   "execution_count": null,
   "metadata": {},
   "outputs": [],
   "source": [
    "# Let's consider the factorial function\n",
    "def fac(n):\n",
    "    ret = 1\n",
    "    for i in range(1,n+1):\n",
    "        ret *= i\n",
    "    return ret\n",
    "\n",
    "while True:\n",
    "    n = int(input())\n",
    "    print(\"{}!={}\".format(n,fac(n)))\n",
    "    \n",
    "# But do I have to implement it every time I need it?\n",
    "# Here's the important lesson of REUSABILITY"
   ]
  },
  {
   "cell_type": "code",
   "execution_count": null,
   "metadata": {},
   "outputs": [],
   "source": [
    "import exercises.myModule\n",
    "from . import math\n",
    "math.factorial(3)\n",
    "# math.greet_me(\"Aryan\")"
   ]
  },
  {
   "cell_type": "markdown",
   "metadata": {},
   "source": [
    "### 1.1 `import` keyword"
   ]
  },
  {
   "cell_type": "code",
   "execution_count": null,
   "metadata": {},
   "outputs": [],
   "source": [
    "# import module (as some_other_name)\n",
    "\n",
    "# from package import module (as some_other_name)\n",
    "\n",
    "# from module import function_name (as some_other_name)\n",
    "\n",
    "# from package.module import function_name (as some_other_name)"
   ]
  },
  {
   "cell_type": "markdown",
   "metadata": {},
   "source": [
    "### 1.2 Packages vs modules"
   ]
  },
  {
   "cell_type": "markdown",
   "metadata": {},
   "source": [
    "Modules\n",
    "* A module is a file containing Python definitions and statements. The file name is the module name with the suffix .py appended.\n",
    "\n",
    "Packages\n",
    "* Packages are a way of structuring Python’s module namespace by using “dotted module names”.\n",
    "\n",
    "ref:- https://stackoverflow.com/questions/19198166/whats-the-difference-between-a-module-and-a-library-in-python"
   ]
  },
  {
   "cell_type": "code",
   "execution_count": 6,
   "metadata": {},
   "outputs": [
    {
     "name": "stdout",
     "output_type": "stream",
     "text": [
      "Factorial 2\n"
     ]
    }
   ],
   "source": [
    "import math\n",
    "import math as m\n",
    "\n",
    "from matplotlib import pyplot\n",
    "from matplotlib import pyplot as plt\n",
    "\n",
    "\n",
    "from math import *\n",
    "\n",
    "def factorial(n):\n",
    "    return \"Factorial {}\".format(n)\n",
    "\n",
    "\n",
    "print(factorial(2))\n",
    "# print(sqrt(2))\n",
    "# print(ceil(2.2))\n",
    "\n",
    "# too many imports? - try combining them`"
   ]
  },
  {
   "cell_type": "markdown",
   "metadata": {},
   "source": [
    "### 1.3 Bonus"
   ]
  },
  {
   "cell_type": "markdown",
   "metadata": {},
   "source": [
    "`from math import *`\n",
    "\n",
    "* This imports all names except those beginning with an underscore (_). In most cases Python programmers do not use this facility since it introduces an unknown set of names into the interpreter, possibly hiding some things you have already defined."
   ]
  },
  {
   "cell_type": "markdown",
   "metadata": {},
   "source": [
    "## 2 File handling"
   ]
  },
  {
   "cell_type": "markdown",
   "metadata": {},
   "source": [
    "### 2.1 Introduction"
   ]
  },
  {
   "cell_type": "markdown",
   "metadata": {},
   "source": [
    "* __Output__ - All the variables you initialise in the program are lost when the program is terminated\n",
    "    * Lookup difference between [RAM and ROM](https://www.diffen.com/difference/RAM_vs_ROM)\n",
    "* __Input__ - What if your program expects an input of 100 numbers or more"
   ]
  },
  {
   "cell_type": "markdown",
   "metadata": {},
   "source": [
    "```python\n",
    "object = open(file_name, mode)\n",
    "```\n",
    "\n",
    "The open function returns the instance of the file that you opened to work on. It takes 2 primarily arguments, file_name and mode. There are four different modes you can open a file to:\n",
    "\n",
    "“r”  = If you want to read from a file.\n",
    "\n",
    "“w” = If you want to write to a file erasing completely previous data.\n",
    "\n",
    "“a” = If you want to append to previously written file.\n",
    "\n",
    "“x” = If you want just to create a file.\n",
    "\n",
    "Don't ever forget to close an open file!!\n",
    "\n",
    "```python\n",
    "object.close()\n",
    "```"
   ]
  },
  {
   "cell_type": "markdown",
   "metadata": {},
   "source": [
    "### 2.2 Reading"
   ]
  },
  {
   "cell_type": "markdown",
   "metadata": {},
   "source": [
    "#### 2.2.1 - Basic usage"
   ]
  },
  {
   "cell_type": "code",
   "execution_count": null,
   "metadata": {},
   "outputs": [],
   "source": [
    "greet = open(\"exercises/greetings.txt\", 'r')\n",
    "\n",
    "greetings = greet.read()\n",
    "print(greetings)\n",
    "# Here, you are reading all the contents of the file at once\n",
    "# It might be too much or you may not even need all of it"
   ]
  },
  {
   "cell_type": "code",
   "execution_count": 45,
   "metadata": {},
   "outputs": [
    {
     "name": "stdout",
     "output_type": "stream",
     "text": [
      "\n"
     ]
    }
   ],
   "source": [
    "# Reading n number of characters at a time\n",
    "# greet.seek(0)\n",
    "\n",
    "greetings_n = greet.read(5)\n",
    "print(greetings_n)"
   ]
  },
  {
   "cell_type": "markdown",
   "metadata": {},
   "source": [
    "#### 2.2.2 `seek` keyword"
   ]
  },
  {
   "cell_type": "code",
   "execution_count": null,
   "metadata": {},
   "outputs": [],
   "source": [
    "greet.seek(0)\n",
    "# greet.read(2)"
   ]
  },
  {
   "cell_type": "markdown",
   "metadata": {},
   "source": [
    "#### 2.2.3 `readline(s)` keyword"
   ]
  },
  {
   "cell_type": "code",
   "execution_count": null,
   "metadata": {},
   "outputs": [],
   "source": [
    "print(greet.readline())"
   ]
  },
  {
   "cell_type": "code",
   "execution_count": null,
   "metadata": {},
   "outputs": [],
   "source": [
    "# Another way to read the file one line at a time\n",
    "# Instead of f = open(\"exercises/announcements.txt\", 'r')\n",
    "# f.close() - which you might potentially forget!\n",
    "with open(\"exercises/announcements.txt\", 'r') as f:\n",
    "    for line in f:\n",
    "        n=input()\n",
    "        print(line)"
   ]
  },
  {
   "cell_type": "markdown",
   "metadata": {},
   "source": [
    "### 2.3 Writing - creating new file"
   ]
  },
  {
   "cell_type": "markdown",
   "metadata": {},
   "source": [
    "##### write, writelines keywords"
   ]
  },
  {
   "cell_type": "code",
   "execution_count": 55,
   "metadata": {},
   "outputs": [],
   "source": [
    "with open(\"exercises/test.txt\", \"a\") as fh:\n",
    "    fh.write(\"Hello world!\")"
   ]
  },
  {
   "cell_type": "code",
   "execution_count": 57,
   "metadata": {},
   "outputs": [],
   "source": [
    "with open(\"exercises/hello.txt\",'w') as fh:\n",
    "    lines_of_text = [\"Hello world\\n\", \"Hello again\\n\"] \n",
    "    fh.writelines(lines_of_text)"
   ]
  },
  {
   "cell_type": "markdown",
   "metadata": {},
   "source": [
    "### 2.4 Appending - editing a file"
   ]
  },
  {
   "cell_type": "code",
   "execution_count": 60,
   "metadata": {},
   "outputs": [],
   "source": [
    "with open(\"exercises/hello.txt\", \"w\") as fh:\n",
    "    lines_of_text = [\"Hello world\\n\", \"Hello again\"]\n",
    "    fh.writelines(lines_of_text)"
   ]
  },
  {
   "cell_type": "markdown",
   "metadata": {},
   "source": [
    "## 3 Creating new modules"
   ]
  },
  {
   "cell_type": "markdown",
   "metadata": {},
   "source": [
    "### 3.1 Dunders"
   ]
  },
  {
   "cell_type": "markdown",
   "metadata": {},
   "source": [
    "#### 3.1.1 Dunder variables"
   ]
  },
  {
   "cell_type": "markdown",
   "metadata": {},
   "source": [
    "> In Python, variables starting and ending with double underscores are typically to store metadata or are built into the system"
   ]
  },
  {
   "cell_type": "code",
   "execution_count": null,
   "metadata": {},
   "outputs": [],
   "source": [
    "__author__ = 'Michael0x2a'\n",
    "__license__ = 'GPL'\n",
    "\n",
    "class Test(object):\n",
    "    def __init__(self):\n",
    "        print('Hello World!')\n",
    "\n",
    "if __name__ == '__main__':\n",
    "    t = Test()"
   ]
  },
  {
   "cell_type": "markdown",
   "metadata": {},
   "source": [
    "#### 3.1.2 Dunder files"
   ]
  },
  {
   "cell_type": "markdown",
   "metadata": {},
   "source": [
    "##### \\_\\_init\\_\\_.py file\n",
    "\n",
    "*The \\_\\_init\\_\\_.py files are required to make Python treat directories containing the file as packages. This prevents directories with a common name, such as string, unintentionally hiding valid modules that occur later on the module search path. In the simplest case, \\_\\_init\\_\\_.py can just be an empty file, but it can also execute initialization code for the package or set the \\_\\_all\\_\\_ variable, described later.*\n",
    "\n",
    "This is what you'll find in the docs but... in reality"
   ]
  },
  {
   "cell_type": "code",
   "execution_count": null,
   "metadata": {},
   "outputs": [],
   "source": [
    "import math\n",
    "import numpy"
   ]
  },
  {
   "cell_type": "code",
   "execution_count": null,
   "metadata": {},
   "outputs": [],
   "source": [
    "import exercises.myModule as m\n",
    "m.greet_me(\"Varun\")"
   ]
  },
  {
   "cell_type": "markdown",
   "metadata": {},
   "source": [
    "[Purpose of init dunder file as per recent releasese](https://stackoverflow.com/questions/37974843/why-can-i-import-successfully-without-init-py)\n",
    "\n",
    "[Other good advantages of init dunder file](https://pcarleton.com/2016/09/06/python-init/)"
   ]
  },
  {
   "cell_type": "markdown",
   "metadata": {},
   "source": [
    "#### 3.1.3 Dunder functions"
   ]
  },
  {
   "cell_type": "markdown",
   "metadata": {},
   "source": [
    "More on this in further lectures"
   ]
  }
 ],
 "metadata": {
  "kernelspec": {
   "display_name": "Python 3.7.4 64-bit",
   "language": "python",
   "name": "python3"
  },
  "language_info": {
   "codemirror_mode": {
    "name": "ipython",
    "version": 3
   },
   "file_extension": ".py",
   "mimetype": "text/x-python",
   "name": "python",
   "nbconvert_exporter": "python",
   "pygments_lexer": "ipython3",
   "version": "3.7.4"
  },
  "vscode": {
   "interpreter": {
    "hash": "e774977668b7c0ae8309835a5187aa7fbf7669e7d0bb59755bc63e573643edcd"
   }
  }
 },
 "nbformat": 4,
 "nbformat_minor": 2
}
