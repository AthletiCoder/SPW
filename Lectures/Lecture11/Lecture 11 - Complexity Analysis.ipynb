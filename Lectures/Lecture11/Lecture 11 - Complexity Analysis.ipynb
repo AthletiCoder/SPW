{
 "cells": [
  {
   "cell_type": "markdown",
   "metadata": {},
   "source": [
    "# Complexity Analysis\n",
    "\n",
    "# 0 Motivation\n",
    "\n",
    "A programmers goal is not just getting things done correctly but doing that efficiently\n",
    "\n",
    "Now when we say we need to do things efficiently, we are inherently trying to compare two programs. But how do we do that?\n",
    "\n",
    "Here arises the need for a metric, or some means by which we can quantify the performance of an algorithm"
   ]
  },
  {
   "cell_type": "markdown",
   "metadata": {},
   "source": [
    "# 1 Random-access machine (RAM) model\n",
    "\n",
    "For time efficiency, can there be a better metric than execution times of the program?\n",
    "\n",
    "But can we actually find out the execution time just by looking at the code? Therefore, this model makes certain assumptions (reasonable ones) which help simplifying things\n",
    "\n",
    "## Assumptions\n",
    "* Instructions are executed one after another. No concurrent operations - No multi-process/multi-core execution\n",
    "* It’s too tedious to define each of the instructions and their associated time costs\n",
    "* Therefore we assume that few of the instructions take fixed amount of time - theoretically\n",
    "    * Arithmetic: add, subtract, multiply, divide, remainder, floor, ceiling). Also, shift left/shift right (good for multiplying/dividing by 2k ).\n",
    "    * Data movement: load, store, copy.\n",
    "    * Control: conditional/unconditional branch, subroutine call and return.\n",
    "* This model is also oblivious to the data type precision\n",
    "    * Usually arithmetic operations vary a lot in time/memory with precision of the data type"
   ]
  },
  {
   "cell_type": "markdown",
   "metadata": {},
   "source": [
    "## Modelling the efficiency function\n",
    "\n",
    "What's the input to this function and what's the output\n",
    "\n",
    "### Input\n",
    "* The time taken by an algorithm depends on the input to the code because that's the only variable\n",
    "* Searching a number from 1000 numbers takes longer than finding it from 3 numbers\n",
    "* A given search algorithm may even take differing amounts of time on two inputs of the same size\n",
    "* For example, we’ll see that linear sort takes less time to sort n elements when they are already sorted than when they are jumbled\n",
    "\n",
    "\n",
    "### Input size\n",
    "* Depends on the problem being studied.\n",
    "* Usually, the number of items in the input. Like the size n of the array being queried for search\n",
    "* But could be something else. If multiplying two integers, could be the total number of bits in the two integers. Could be described by more than one number. \n",
    "    * For example, if a program requires two loops, of different size, one inside another like the following\n",
    "    ```python\n",
    "    for i in range(n):\n",
    "        # do something\n",
    "        for j in range(m):\n",
    "            # do something else\n",
    "    ```\n",
    "    \n",
    "### Running time\n",
    "* On a particular input, it is the number of primitive operations (steps) executed.\n",
    "* Want to define steps to be machine-independent\n",
    "* Figure that each line of pseudocode requires a constant amount of time.\n",
    "* One line may take a different amount of time than another, but each execution of line i takes the same amount of time c<sub>i</sub>\n",
    "* This is assuming that the line consists only of primitive operations.\n",
    "    * If the line is a subroutine call, then the actual call takes constant time, but the execution of the subroutine being called might not.\n",
    "    * If the line specifies operations other than primitive ones, then it might take more than constant time. Example: “sort the points by x-coordinate.”\n",
    "    \n",
    "   \n",
    "   \n",
    "# 2 Growth of Functions\n",
    "\n",
    "## Asymptotic behavior of running time\n",
    "* A way to describe behavior of functions in the limit. We’re studying asymptotic efficiency.\n",
    "* Describe growth of functions\n",
    "* Focus on what’s important by abstracting away low-order terms and constant factors.\n",
    "* How we indicate running times of algorithms. \n",
    "* A way to compare “sizes” of functions:\n",
    "\n",
    "![](resources/functions.png)\n",
    "\n",
    "## More on this topic tomorrow"
   ]
  }
 ],
 "metadata": {
  "kernelspec": {
   "display_name": "Python 3",
   "language": "python",
   "name": "python3"
  },
  "language_info": {
   "codemirror_mode": {
    "name": "ipython",
    "version": 3
   },
   "file_extension": ".py",
   "mimetype": "text/x-python",
   "name": "python",
   "nbconvert_exporter": "python",
   "pygments_lexer": "ipython3",
   "version": "3.7.4"
  }
 },
 "nbformat": 4,
 "nbformat_minor": 2
}
