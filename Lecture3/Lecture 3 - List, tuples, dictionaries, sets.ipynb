{
 "cells": [
  {
   "cell_type": "markdown",
   "metadata": {},
   "source": [
    "# Motivation\n",
    "\n",
    "We've looked at basic datatypes in `python`, like `int`, `string`, `bool` etc.\n",
    "However...\n",
    "\n",
    "When we're working at bigger projects/ need to handle large amounts of data.\n",
    "\n",
    "```python\n",
    "a = 0\n",
    "b = 1\n",
    "c = 2\n",
    "d = 3\n",
    "...\n",
    "\n",
    "```\n",
    "\n",
    "or \n",
    "\n",
    "```python\n",
    "name1 = 'ram'\n",
    "age1 = 18\n",
    "name2 = 'shyam'\n",
    "age2 = 20\n",
    "name3 = 'mohan'\n",
    "age3 = 16\n",
    "```\n",
    "\n",
    "## Lists\n",
    "*In `python` a list is an **ordered, changeable** collection of data*\n",
    "### List operations\n",
    "\n",
    "* Creating a list\n",
    "* Adding elements to a list\n",
    "* Accessing elements of a list\n",
    "* Removing elements from a list\n",
    "* Slicing a list\n",
    "\n",
    "### Creating a list\n"
   ]
  },
  {
   "cell_type": "code",
   "execution_count": 1,
   "metadata": {
    "scrolled": false
   },
   "outputs": [
    {
     "name": "stdout",
     "output_type": "stream",
     "text": [
      "[]\n",
      "<class 'list'>\n",
      "[0, 1, 2, 3, 4, 5, 6]\n",
      "['ram', 18, 'shyam', 20, 'mohan', 16]\n",
      "[['ram', 18], ['shyam', 20], ['mohan', 16]]\n"
     ]
    }
   ],
   "source": [
    "List = []\n",
    "print(List)\n",
    "print(type(List))\n",
    "numbers = [0,1,2,3,4,5,6]\n",
    "print(numbers)\n",
    "ages = ['ram',18,'shyam',20,'mohan',16]\n",
    "print(ages)\n",
    "ages1 = [['ram',18],['shyam',20],['mohan',16]]\n",
    "print(ages1)"
   ]
  },
  {
   "cell_type": "markdown",
   "metadata": {},
   "source": [
    "**Key Learning:** Lists can contain multiple datatypes, like `['ram', 18, 'shyam', 20, 'mohan', 16]`\n",
    "\n",
    "**Key Learning:** We can even have lists of lists, like `[['ram', 18], ['shyam', 20], ['mohan', 16]]`"
   ]
  },
  {
   "cell_type": "markdown",
   "metadata": {},
   "source": [
    "### Adding elements to a list\n",
    "* Using `append()` method\n",
    "* Using `insert()` method\n",
    "* Using `extend()` method\n",
    "\n",
    "#### append()\n",
    "Appends an element to the list - adding an element to the end\n",
    "\n",
    "**Check for yourself:** `help(List.append)`"
   ]
  },
  {
   "cell_type": "code",
   "execution_count": 2,
   "metadata": {},
   "outputs": [
    {
     "name": "stdout",
     "output_type": "stream",
     "text": [
      "[0]\n"
     ]
    }
   ],
   "source": [
    "numbers = [0]\n",
    "print(numbers)"
   ]
  },
  {
   "cell_type": "code",
   "execution_count": 3,
   "metadata": {},
   "outputs": [
    {
     "name": "stdout",
     "output_type": "stream",
     "text": [
      "[0, 1, 2, 3]\n"
     ]
    }
   ],
   "source": [
    "numbers.append(1)\n",
    "numbers.append(2)\n",
    "numbers.append(3)\n",
    "print(numbers)"
   ]
  },
  {
   "cell_type": "markdown",
   "metadata": {},
   "source": [
    "#### insert()\n",
    "\n",
    "Insert an element as a specific index location. Takes 2 arguements `index`, and `object`. Adds `object` at the `index` location.\n",
    "\n",
    "**Note: *In `python` index always starts from zero***\n",
    "\n",
    "**Check for yourself:** `help(List.insert)`\n"
   ]
  },
  {
   "cell_type": "code",
   "execution_count": 4,
   "metadata": {},
   "outputs": [
    {
     "name": "stdout",
     "output_type": "stream",
     "text": [
      "[0, 1, 'Hi!', 2, 3]\n"
     ]
    }
   ],
   "source": [
    "numbers.insert(2,\"Hi!\")\n",
    "#Any Guesses?\n",
    "# [Hi, 0, 1, 2, 3]\n",
    "# [0, Hi, 1, 2, 3]\n",
    "# [0, 1, Hi, 2, 3]\n",
    "# [0, 1, 2, Hi, 3]\n",
    "print(numbers)"
   ]
  },
  {
   "cell_type": "code",
   "execution_count": 5,
   "metadata": {},
   "outputs": [
    {
     "name": "stdout",
     "output_type": "stream",
     "text": [
      "Help on built-in function insert:\n",
      "\n",
      "insert(index, object, /) method of builtins.list instance\n",
      "    Insert object before index.\n",
      "\n"
     ]
    }
   ],
   "source": [
    "help(List.insert)"
   ]
  },
  {
   "cell_type": "markdown",
   "metadata": {},
   "source": [
    "#### extend()\n",
    "\n",
    "Similar to `append()`, but can be used to add multiple values"
   ]
  },
  {
   "cell_type": "code",
   "execution_count": 6,
   "metadata": {},
   "outputs": [
    {
     "name": "stdout",
     "output_type": "stream",
     "text": [
      "[0, 1, 'Hi!', 2, 3, 4, 5, 6]\n"
     ]
    }
   ],
   "source": [
    "numbers.extend([4,5,6])\n",
    "print(numbers)\n",
    "#What if we do numbers.append([4,5,6])? (Try it out!)"
   ]
  },
  {
   "cell_type": "markdown",
   "metadata": {},
   "source": [
    "### Acessing Elements of a List\n",
    "Elements of a list can be accessed using the index operator `[]`"
   ]
  },
  {
   "cell_type": "code",
   "execution_count": 10,
   "metadata": {},
   "outputs": [
    {
     "name": "stdout",
     "output_type": "stream",
     "text": [
      "Govind\n"
     ]
    }
   ],
   "source": [
    "List = ['Govind', 1, True]\n",
    "print(List[0])"
   ]
  },
  {
   "cell_type": "markdown",
   "metadata": {},
   "source": [
    "###### What about accessing elements in lists of lists?"
   ]
  },
  {
   "cell_type": "code",
   "execution_count": 18,
   "metadata": {},
   "outputs": [
    {
     "name": "stdout",
     "output_type": "stream",
     "text": [
      "[[1, 2], [3, 4]]\n",
      "2\n"
     ]
    }
   ],
   "source": [
    "List = [[1,2],[3,4]]\n",
    "print(List)"
   ]
  },
  {
   "cell_type": "code",
   "execution_count": 19,
   "metadata": {},
   "outputs": [
    {
     "name": "stdout",
     "output_type": "stream",
     "text": [
      "2\n"
     ]
    }
   ],
   "source": [
    "print(List[0][1])"
   ]
  },
  {
   "cell_type": "markdown",
   "metadata": {},
   "source": [
    "## References \n",
    "\n",
    "* <https://www.geeksforgeeks.org/python-list/>"
   ]
  },
  {
   "cell_type": "markdown",
   "metadata": {},
   "source": [
    "**Definition:** Lists store an ordered collection of items"
   ]
  },
  {
   "cell_type": "code",
   "execution_count": 26,
   "metadata": {},
   "outputs": [
    {
     "name": "stdout",
     "output_type": "stream",
     "text": [
      "9\n"
     ]
    }
   ],
   "source": [
    "print(-1%10)"
   ]
  },
  {
   "cell_type": "code",
   "execution_count": null,
   "metadata": {},
   "outputs": [],
   "source": []
  },
  {
   "cell_type": "code",
   "execution_count": null,
   "metadata": {},
   "outputs": [],
   "source": []
  }
 ],
 "metadata": {
  "kernelspec": {
   "display_name": "Python 3",
   "language": "python",
   "name": "python3"
  },
  "language_info": {
   "codemirror_mode": {
    "name": "ipython",
    "version": 3
   },
   "file_extension": ".py",
   "mimetype": "text/x-python",
   "name": "python",
   "nbconvert_exporter": "python",
   "pygments_lexer": "ipython3",
   "version": "3.7.4"
  }
 },
 "nbformat": 4,
 "nbformat_minor": 4
}
