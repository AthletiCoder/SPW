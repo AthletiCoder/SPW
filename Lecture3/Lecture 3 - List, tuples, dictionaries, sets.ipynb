{
 "cells": [
  {
   "cell_type": "markdown",
   "metadata": {},
   "source": [
    "# Motivation\n",
    "\n",
    "We've looked at basic datatypes in `python`, like `int`, `string`, `bool` etc.\n",
    "However...\n",
    "\n",
    "When we're working at bigger projects/ need to handle large amounts of data.\n",
    "\n",
    "```python\n",
    "a = 0\n",
    "b = 1\n",
    "c = 2\n",
    "d = 3\n",
    "...\n",
    "\n",
    "```\n",
    "\n",
    "or \n",
    "\n",
    "```python\n",
    "name1 = 'ram'\n",
    "age1 = 18\n",
    "name2 = 'shyam'\n",
    "age2 = 20\n",
    "name3 = 'mohan'\n",
    "age3 = 16\n",
    "```\n",
    "\n",
    "## Lists\n",
    "*In `python` a list is an **ordered, changeable** collection of data*\n",
    "### List operations\n",
    "\n",
    "* Creating a list\n",
    "* Adding elements to a list\n",
    "* Accessing elements of a list\n",
    "* Removing elements from a list\n",
    "* Slicing a list\n",
    "\n",
    "### Creating a list\n"
   ]
  },
  {
   "cell_type": "code",
   "execution_count": 1,
   "metadata": {
    "scrolled": false
   },
   "outputs": [
    {
     "name": "stdout",
     "output_type": "stream",
     "text": [
      "[]\n",
      "<class 'list'>\n",
      "[0, 1, 2, 3, 4, 5, 6]\n",
      "['ram', 18, 'shyam', 20, 'mohan', 16]\n",
      "[['ram', 18], ['shyam', 20], ['mohan', 16]]\n"
     ]
    }
   ],
   "source": [
    "List = []\n",
    "print(List)\n",
    "print(type(List))\n",
    "numbers = [0,1,2,3,4,5,6]\n",
    "print(numbers)\n",
    "ages = ['ram',18,'shyam',20,'mohan',16]\n",
    "print(ages)\n",
    "ages1 = [['ram',18],['shyam',20],['mohan',16]]\n",
    "print(ages1)"
   ]
  },
  {
   "cell_type": "markdown",
   "metadata": {},
   "source": [
    "**Key Learning:** Lists can contain multiple datatypes, like `['ram', 18, 'shyam', 20, 'mohan', 16]`\n",
    "\n",
    "**Key Learning:** We can even have lists of lists, like `[['ram', 18], ['shyam', 20], ['mohan', 16]]`"
   ]
  },
  {
   "cell_type": "markdown",
   "metadata": {},
   "source": [
    "### Adding elements to a list\n",
    "* Using `append()` method\n",
    "* Using `insert()` method\n",
    "* Using `extend()` method\n",
    "\n",
    "#### append()\n",
    "Appends an element to the list - adding an element to the end\n",
    "\n",
    "**Check for yourself:** `help(List.append)`"
   ]
  },
  {
   "cell_type": "code",
   "execution_count": 2,
   "metadata": {},
   "outputs": [
    {
     "name": "stdout",
     "output_type": "stream",
     "text": [
      "[0]\n"
     ]
    }
   ],
   "source": [
    "numbers = [0]\n",
    "print(numbers)"
   ]
  },
  {
   "cell_type": "code",
   "execution_count": 3,
   "metadata": {},
   "outputs": [
    {
     "name": "stdout",
     "output_type": "stream",
     "text": [
      "[0, 1, 2, 3]\n"
     ]
    }
   ],
   "source": [
    "numbers.append(1)\n",
    "numbers.append(2)\n",
    "numbers.append(3)\n",
    "print(numbers)"
   ]
  },
  {
   "cell_type": "markdown",
   "metadata": {},
   "source": [
    "#### insert()\n",
    "\n",
    "Insert an element as a specific index location. Takes 2 arguements `index`, and `object`. Adds `object` at the `index` location.\n",
    "\n",
    "**Note: *In `python` index always starts from zero***\n",
    "\n",
    "**Check for yourself:** `help(List.insert)`\n"
   ]
  },
  {
   "cell_type": "code",
   "execution_count": 4,
   "metadata": {},
   "outputs": [
    {
     "name": "stdout",
     "output_type": "stream",
     "text": [
      "[0, 1, 'Hi!', 2, 3]\n"
     ]
    }
   ],
   "source": [
    "numbers.insert(2,\"Hi!\")\n",
    "#Any Guesses?\n",
    "# [Hi, 0, 1, 2, 3]\n",
    "# [0, Hi, 1, 2, 3]\n",
    "# [0, 1, Hi, 2, 3]\n",
    "# [0, 1, 2, Hi, 3]\n",
    "print(numbers)"
   ]
  },
  {
   "cell_type": "code",
   "execution_count": 5,
   "metadata": {},
   "outputs": [
    {
     "name": "stdout",
     "output_type": "stream",
     "text": [
      "Help on built-in function insert:\n",
      "\n",
      "insert(index, object, /) method of builtins.list instance\n",
      "    Insert object before index.\n",
      "\n"
     ]
    }
   ],
   "source": [
    "help(List.insert)"
   ]
  },
  {
   "cell_type": "markdown",
   "metadata": {},
   "source": [
    "#### extend()\n",
    "\n",
    "Similar to `append()`, but can be used to add multiple values"
   ]
  },
  {
   "cell_type": "code",
   "execution_count": 6,
   "metadata": {},
   "outputs": [
    {
     "name": "stdout",
     "output_type": "stream",
     "text": [
      "[0, 1, 'Hi!', 2, 3, 4, 5, 6]\n"
     ]
    }
   ],
   "source": [
    "numbers.extend([4,5,6])\n",
    "print(numbers)\n",
    "#What if we do numbers.append([4,5,6])? (Try it out!)"
   ]
  },
  {
   "cell_type": "markdown",
   "metadata": {},
   "source": [
    "## References \n",
    "\n",
    "* <https://www.geeksforgeeks.org/python-list/>"
   ]
  },
  {
   "cell_type": "markdown",
   "metadata": {},
   "source": [
    "**Definition:** Lists store an ordered collection of items"
   ]
  },
  {
   "cell_type": "code",
   "execution_count": 1,
   "metadata": {
    "scrolled": true
   },
   "outputs": [
    {
     "name": "stdout",
     "output_type": "stream",
     "text": [
      "Haribol\n"
     ]
    }
   ],
   "source": [
    "print(\"Haribol\")"
   ]
  },
  {
   "cell_type": "code",
   "execution_count": null,
   "metadata": {},
   "outputs": [],
   "source": []
  },
  {
   "cell_type": "code",
   "execution_count": null,
   "metadata": {},
   "outputs": [],
   "source": []
  },
  {
   "cell_type": "markdown",
   "metadata": {},
   "source": [
    "## Dictionaries"
   ]
  },
  {
   "cell_type": "markdown",
   "metadata": {},
   "source": [
    "**Dictionary** in Python is an unordered collection of data values, used to store data values like a map, which unlike other Data Types that hold only single value as an element, Dictionary holds key:value pair. Key is the unique identifier where we can find our data and the Value is that data. (Analogous to real dictionary)\n",
    "\n",
    "### Creating a Dictionary\n",
    "\n",
    "In Python, a Dictionary can be created by placing sequence of elements within curly {} braces, separated by ‘comma’. Dictionary holds a pair of values, one being the Key and the other corresponding pair element being its Key:value. Values in a dictionary can be of any datatype and can be duplicated, whereas keys can’t be repeated and must be immutable.\n",
    "\n",
    "*Note:Dictionary keys are case sensitive, same name but different cases of Key will be treated distinctly.*"
   ]
  },
  {
   "cell_type": "code",
   "execution_count": 6,
   "metadata": {},
   "outputs": [
    {
     "name": "stdout",
     "output_type": "stream",
     "text": [
      "\n",
      "Dictionary is:\n",
      "{'name': 'Ram', 'age': 19, 'courses': ['ma105', 'cs101']}\n",
      "\n"
     ]
    }
   ],
   "source": [
    "student = {'name':'Ram', 'age': 19, 'courses':['ma105','cs101']}\n",
    "print('\\nDictionary is:')\n",
    "print(student)\n",
    "print()"
   ]
  },
  {
   "cell_type": "markdown",
   "metadata": {},
   "source": [
    "#### Another way of creating dictionary is by using function dict()"
   ]
  },
  {
   "cell_type": "code",
   "execution_count": 7,
   "metadata": {},
   "outputs": [
    {
     "name": "stdout",
     "output_type": "stream",
     "text": [
      "\n",
      "Dictionary created using dict() function with each item as pair:\n",
      "{'name': 'Ram', 'age': 19, 'courses': ['ma105', 'cs101']}\n",
      "\n"
     ]
    }
   ],
   "source": [
    "student = dict([('name','Ram'), ('age',19), ('courses',['ma105','cs101'])])\n",
    "print('\\nDictionary created using dict() function with each item as pair:')\n",
    "print(student)\n",
    "print()"
   ]
  },
  {
   "cell_type": "markdown",
   "metadata": {},
   "source": [
    "#### Accessing elements from dictionary"
   ]
  },
  {
   "cell_type": "code",
   "execution_count": 18,
   "metadata": {},
   "outputs": [
    {
     "name": "stdout",
     "output_type": "stream",
     "text": [
      "Accessing value corresponding to key \"name\"\n",
      "Ram\n",
      "Accessing value corresponding to key \"courses\"\n",
      "['ma105', 'cs101']\n"
     ]
    }
   ],
   "source": [
    "print('Accessing value corresponding to key \"name\"')\n",
    "print(student['name'])\n",
    "print('Accessing value corresponding to key \"courses\"')\n",
    "print(student['courses'])"
   ]
  },
  {
   "cell_type": "code",
   "execution_count": 19,
   "metadata": {},
   "outputs": [],
   "source": [
    "Dict = {1:'Ram', 'age': 19, 'courses':['ma105','cs101']}"
   ]
  },
  {
   "cell_type": "code",
   "execution_count": 23,
   "metadata": {},
   "outputs": [
    {
     "name": "stdout",
     "output_type": "stream",
     "text": [
      "Accessing value whose key is an integer\n",
      "Ram\n"
     ]
    }
   ],
   "source": [
    "print('Accessing value whose key is an integer')\n",
    "print(Dict[1])"
   ]
  },
  {
   "cell_type": "markdown",
   "metadata": {},
   "source": [
    "If the key we use to access the value doesn't exist then it will give KeyError"
   ]
  },
  {
   "cell_type": "code",
   "execution_count": 25,
   "metadata": {},
   "outputs": [
    {
     "ename": "KeyError",
     "evalue": "'phone'",
     "output_type": "error",
     "traceback": [
      "\u001b[1;31m---------------------------------------------------------------------------\u001b[0m",
      "\u001b[1;31mKeyError\u001b[0m                                  Traceback (most recent call last)",
      "\u001b[1;32m<ipython-input-25-5cd6ea9b5551>\u001b[0m in \u001b[0;36m<module>\u001b[1;34m\u001b[0m\n\u001b[1;32m----> 1\u001b[1;33m \u001b[0mprint\u001b[0m\u001b[1;33m(\u001b[0m\u001b[0mstudent\u001b[0m\u001b[1;33m[\u001b[0m\u001b[1;34m'phone'\u001b[0m\u001b[1;33m]\u001b[0m\u001b[1;33m)\u001b[0m\u001b[1;33m\u001b[0m\u001b[1;33m\u001b[0m\u001b[0m\n\u001b[0m",
      "\u001b[1;31mKeyError\u001b[0m: 'phone'"
     ]
    }
   ],
   "source": [
    "print(student['phone'])"
   ]
  },
  {
   "cell_type": "markdown",
   "metadata": {},
   "source": [
    "Sometimes we might want to get none of something instead of an error, for that we can use dictionary's get method"
   ]
  },
  {
   "cell_type": "code",
   "execution_count": 29,
   "metadata": {},
   "outputs": [
    {
     "name": "stdout",
     "output_type": "stream",
     "text": [
      "Ram\n",
      "None\n",
      "\n",
      "We can also specify a default value instead of None\n",
      "\n",
      "After setiing default value as \"Not Found\"\n",
      "Not Found\n",
      "Ram\n"
     ]
    }
   ],
   "source": [
    "print(student.get('name'))\n",
    "print(student.get('phone'))\n",
    "print('\\nWe can also specify a default value instead of None\\n')\n",
    "print('After setiing default value as \"Not Found\"')\n",
    "print(student.get('phone', 'Not Found'))\n",
    "print(student.get('name', 'Not Found'))"
   ]
  },
  {
   "cell_type": "markdown",
   "metadata": {},
   "source": [
    "#### Adding a new entry to our dictionary\n",
    "\n",
    "So if we wanted to add the phone no. of the student then"
   ]
  },
  {
   "cell_type": "code",
   "execution_count": 31,
   "metadata": {},
   "outputs": [
    {
     "name": "stdout",
     "output_type": "stream",
     "text": [
      "9999999999\n"
     ]
    }
   ],
   "source": [
    "student['phone'] = 9999999999\n",
    "print(student.get('phone', 'Not Found'))"
   ]
  },
  {
   "cell_type": "markdown",
   "metadata": {},
   "source": [
    "#### Updating existing entry\n",
    "\n",
    "If we want to update the name and age of the student "
   ]
  },
  {
   "cell_type": "code",
   "execution_count": 33,
   "metadata": {},
   "outputs": [
    {
     "name": "stdout",
     "output_type": "stream",
     "text": [
      "{'name': 'Shyam', 'age': '20', 'courses': ['ma105', 'cs101'], 'phone': 9999999999}\n"
     ]
    }
   ],
   "source": [
    "student['name'] = 'Shyam'\n",
    "student['age'] = '20'\n",
    "print(student)"
   ]
  },
  {
   "cell_type": "markdown",
   "metadata": {},
   "source": [
    "If we want to update and add some entries then we can use the funcion update which requires a dictionary in argument"
   ]
  },
  {
   "cell_type": "code",
   "execution_count": 37,
   "metadata": {},
   "outputs": [
    {
     "name": "stdout",
     "output_type": "stream",
     "text": [
      "{'name': 'Mohan', 'age': 19, 'courses': ['ma105', 'cs101'], 'phone': 9999999999, 'hometown': 'Ahmedabad'}\n"
     ]
    }
   ],
   "source": [
    "student.update({'name':'Mohan', 'age':19, 'hometown':'Ahmedabad'})\n",
    "print(student)"
   ]
  },
  {
   "cell_type": "markdown",
   "metadata": {},
   "source": [
    "#### Removing elements from Dictionary\n",
    "\n",
    "We can use the keyword del"
   ]
  },
  {
   "cell_type": "code",
   "execution_count": 38,
   "metadata": {},
   "outputs": [
    {
     "name": "stdout",
     "output_type": "stream",
     "text": [
      "{'name': 'Mohan', 'age': 19, 'courses': ['ma105', 'cs101'], 'phone': 9999999999}\n"
     ]
    }
   ],
   "source": [
    "del student['hometown']\n",
    "print(student)"
   ]
  },
  {
   "cell_type": "markdown",
   "metadata": {},
   "source": [
    "Another method is using pop() function. pop() also returns the value of the entry it has deleted."
   ]
  },
  {
   "cell_type": "code",
   "execution_count": 39,
   "metadata": {},
   "outputs": [
    {
     "name": "stdout",
     "output_type": "stream",
     "text": [
      "{'name': 'Mohan', 'age': 19, 'courses': ['ma105', 'cs101']}\n",
      "9999999999\n"
     ]
    }
   ],
   "source": [
    "phone = student.pop('phone')\n",
    "print(student)\n",
    "print(phone)"
   ]
  },
  {
   "cell_type": "markdown",
   "metadata": {},
   "source": [
    "#### Some other useful functions"
   ]
  },
  {
   "cell_type": "code",
   "execution_count": 40,
   "metadata": {},
   "outputs": [
    {
     "name": "stdout",
     "output_type": "stream",
     "text": [
      "{'name': 'Mohan', 'age': 19, 'courses': ['ma105', 'cs101']}\n",
      "3\n"
     ]
    }
   ],
   "source": [
    "print(student)\n",
    "print(len(student))"
   ]
  },
  {
   "cell_type": "code",
   "execution_count": 41,
   "metadata": {},
   "outputs": [
    {
     "name": "stdout",
     "output_type": "stream",
     "text": [
      "dict_keys(['name', 'age', 'courses'])\n"
     ]
    }
   ],
   "source": [
    "print(student.keys())"
   ]
  },
  {
   "cell_type": "code",
   "execution_count": 42,
   "metadata": {},
   "outputs": [
    {
     "name": "stdout",
     "output_type": "stream",
     "text": [
      "dict_values(['Mohan', 19, ['ma105', 'cs101']])\n"
     ]
    }
   ],
   "source": [
    "print(student.values())"
   ]
  },
  {
   "cell_type": "code",
   "execution_count": 43,
   "metadata": {},
   "outputs": [
    {
     "name": "stdout",
     "output_type": "stream",
     "text": [
      "dict_items([('name', 'Mohan'), ('age', 19), ('courses', ['ma105', 'cs101'])])\n"
     ]
    }
   ],
   "source": [
    "print(student.items())"
   ]
  },
  {
   "cell_type": "code",
   "execution_count": null,
   "metadata": {},
   "outputs": [],
   "source": []
  },
  {
   "cell_type": "markdown",
   "metadata": {},
   "source": [
    "## Sets"
   ]
  },
  {
   "cell_type": "code",
   "execution_count": null,
   "metadata": {},
   "outputs": [],
   "source": []
  }
 ],
 "metadata": {
  "kernelspec": {
   "display_name": "Python 3",
   "language": "python",
   "name": "python3"
  },
  "language_info": {
   "codemirror_mode": {
    "name": "ipython",
    "version": 3
   },
   "file_extension": ".py",
   "mimetype": "text/x-python",
   "name": "python",
   "nbconvert_exporter": "python",
   "pygments_lexer": "ipython3",
   "version": "3.7.3"
  }
 },
 "nbformat": 4,
 "nbformat_minor": 4
}
