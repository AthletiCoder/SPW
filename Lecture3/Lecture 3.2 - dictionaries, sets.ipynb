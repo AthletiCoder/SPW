{
 "cells": [
  {
   "cell_type": "markdown",
   "metadata": {},
   "source": [
    "# Motivation\n",
    "\n",
    "We've looked at basic datatypes in `python`, like `int`, `string`, `bool` etc.\n",
    "However...\n",
    "\n",
    "When we're working at bigger projects/ need to handle large amounts of data.\n",
    "\n",
    "```python\n",
    "a = 0\n",
    "b = 1\n",
    "c = 2\n",
    "d = 3\n",
    "...\n",
    "\n",
    "```\n",
    "\n",
    "or \n",
    "\n",
    "```python\n",
    "name1 = 'ram'\n",
    "age1 = 18\n",
    "name2 = 'shyam'\n",
    "age2 = 20\n",
    "name3 = 'mohan'\n",
    "age3 = 16\n",
    "```\n",
    "\n",
    "## Lists\n",
    "*In `python` a list is an **ordered, changeable** collection of data*\n",
    "### List operations\n",
    "\n",
    "* Creating a list\n",
    "* Adding elements to a list\n",
    "* Accessing elements of a list\n",
    "* Removing elements from a list\n",
    "* Slicing a list\n",
    "\n",
    "### Creating a list\n"
   ]
  },
  {
   "cell_type": "code",
   "execution_count": null,
   "metadata": {
    "scrolled": false
   },
   "outputs": [],
   "source": [
    "List = []\n",
    "print(List)\n",
    "print(type(List))\n",
    "numbers = [0,1,2,3,4,5,6]\n",
    "print(numbers)\n",
    "ages = ['ram',18,'shyam',20,'mohan',16]\n",
    "print(ages)\n",
    "ages1 = [['ram',18],['shyam',20],['mohan',16]]\n",
    "print(ages1)"
   ]
  },
  {
   "cell_type": "markdown",
   "metadata": {},
   "source": [
    "**Key Learning:** Lists can contain multiple datatypes, like `['ram', 18, 'shyam', 20, 'mohan', 16]`\n",
    "\n",
    "**Key Learning:** We can even have lists of lists, like `[['ram', 18], ['shyam', 20], ['mohan', 16]]`"
   ]
  },
  {
   "cell_type": "markdown",
   "metadata": {},
   "source": [
    "### Adding elements to a list\n",
    "* Using `append()` method\n",
    "* Using `insert()` method\n",
    "* Using `extend()` method\n",
    "\n",
    "#### append()\n",
    "Appends an element to the list - adding an element to the end\n",
    "\n",
    "**Check for yourself:** `help(List.append)`"
   ]
  },
  {
   "cell_type": "code",
   "execution_count": null,
   "metadata": {},
   "outputs": [],
   "source": [
    "numbers = [0]\n",
    "print(numbers)"
   ]
  },
  {
   "cell_type": "code",
   "execution_count": null,
   "metadata": {},
   "outputs": [],
   "source": [
    "numbers.append(1)\n",
    "numbers.append(2)\n",
    "numbers.append(3)\n",
    "print(numbers)"
   ]
  },
  {
   "cell_type": "markdown",
   "metadata": {},
   "source": [
    "#### insert()\n",
    "\n",
    "Insert an element as a specific index location. Takes 2 arguements `index`, and `object`. Adds `object` at the `index` location.\n",
    "\n",
    "**Note: *In `python` index always starts from zero***\n",
    "\n",
    "**Check for yourself:** `help(List.insert)`\n"
   ]
  },
  {
   "cell_type": "code",
   "execution_count": null,
   "metadata": {},
   "outputs": [],
   "source": [
    "numbers.insert(2,\"Hi!\")\n",
    "#Any Guesses?\n",
    "# [Hi, 0, 1, 2, 3]\n",
    "# [0, Hi, 1, 2, 3]\n",
    "# [0, 1, Hi, 2, 3]\n",
    "# [0, 1, 2, Hi, 3]\n",
    "print(numbers)"
   ]
  },
  {
   "cell_type": "code",
   "execution_count": null,
   "metadata": {},
   "outputs": [],
   "source": [
    "help(List.insert)"
   ]
  },
  {
   "cell_type": "markdown",
   "metadata": {},
   "source": [
    "#### extend()\n",
    "\n",
    "Similar to `append()`, but can be used to add multiple values"
   ]
  },
  {
   "cell_type": "code",
   "execution_count": null,
   "metadata": {},
   "outputs": [],
   "source": [
    "numbers.extend([4,5,6])\n",
    "print(numbers)\n",
    "#What if we do numbers.append([4,5,6])? (Try it out!)"
   ]
  },
  {
   "cell_type": "markdown",
   "metadata": {},
   "source": [
    "## References \n",
    "\n",
    "* <https://www.geeksforgeeks.org/python-list/>"
   ]
  },
  {
   "cell_type": "markdown",
   "metadata": {},
   "source": [
    "**Definition:** Lists store an ordered collection of items"
   ]
  },
  {
   "cell_type": "code",
   "execution_count": null,
   "metadata": {
    "scrolled": true
   },
   "outputs": [],
   "source": [
    "print(\"Haribol\")"
   ]
  },
  {
   "cell_type": "code",
   "execution_count": null,
   "metadata": {},
   "outputs": [],
   "source": []
  },
  {
   "cell_type": "code",
   "execution_count": null,
   "metadata": {},
   "outputs": [],
   "source": []
  },
  {
   "cell_type": "markdown",
   "metadata": {},
   "source": [
    "## Dictionaries"
   ]
  },
  {
   "cell_type": "markdown",
   "metadata": {},
   "source": [
    "**Dictionary** in Python is an unordered collection of data values, used to store data values like a map, which unlike other Data Types that hold only single value as an element, Dictionary holds key:value pair. Key is the unique identifier where we can find our data and the Value is that data. (Analogous to real dictionary)\n",
    "\n",
    "### Creating a Dictionary\n",
    "\n",
    "In Python, a Dictionary can be created by placing sequence of elements within curly {} braces, separated by ‘comma’. Dictionary holds a pair of values, one being the Key and the other corresponding pair element being its Key:value. Values in a dictionary can be of any datatype and can be duplicated, whereas keys can’t be repeated and must be immutable.\n",
    "\n",
    "*Note:Dictionary keys are case sensitive, same name but different cases of Key will be treated distinctly.*"
   ]
  },
  {
   "cell_type": "code",
   "execution_count": null,
   "metadata": {},
   "outputs": [],
   "source": [
    "student = {'name':'Ram', 'age': 19, 'courses':['ma105','cs101']}\n",
    "print('\\nDictionary is:')\n",
    "print(student)\n",
    "print()"
   ]
  },
  {
   "cell_type": "markdown",
   "metadata": {},
   "source": [
    "#### Another way of creating dictionary is by using function dict()"
   ]
  },
  {
   "cell_type": "code",
   "execution_count": null,
   "metadata": {},
   "outputs": [],
   "source": [
    "student = dict([('name','Ram'), ('age',19), ('courses',['ma105','cs101'])])\n",
    "print('\\nDictionary created using dict() function with each item as pair:')\n",
    "print(student)\n",
    "print()"
   ]
  },
  {
   "cell_type": "markdown",
   "metadata": {},
   "source": [
    "#### Accessing elements from dictionary"
   ]
  },
  {
   "cell_type": "code",
   "execution_count": null,
   "metadata": {},
   "outputs": [],
   "source": [
    "print('Accessing value corresponding to key \"name\"')\n",
    "print(student['name'])\n",
    "print('Accessing value corresponding to key \"courses\"')\n",
    "print(student['courses'])"
   ]
  },
  {
   "cell_type": "code",
   "execution_count": null,
   "metadata": {},
   "outputs": [],
   "source": [
    "Dict = {1:'Ram', 'age': 19, 'courses':['ma105','cs101']}"
   ]
  },
  {
   "cell_type": "code",
   "execution_count": null,
   "metadata": {},
   "outputs": [],
   "source": [
    "print('Accessing value whose key is an integer')\n",
    "print(Dict[1])"
   ]
  },
  {
   "cell_type": "markdown",
   "metadata": {},
   "source": [
    "If the key we use to access the value doesn't exist then it will give KeyError"
   ]
  },
  {
   "cell_type": "code",
   "execution_count": null,
   "metadata": {},
   "outputs": [],
   "source": [
    "print(student['phone'])"
   ]
  },
  {
   "cell_type": "markdown",
   "metadata": {},
   "source": [
    "Sometimes we might want to get none of something instead of an error, for that we can use dictionary's get method"
   ]
  },
  {
   "cell_type": "code",
   "execution_count": null,
   "metadata": {},
   "outputs": [],
   "source": [
    "print(student.get('name'))\n",
    "print(student.get('phone'))\n",
    "print('\\nWe can also specify a default value instead of None\\n')\n",
    "print('After setiing default value as \"Not Found\"')\n",
    "print(student.get('phone', 'Not Found'))\n",
    "print(student.get('name', 'Not Found'))"
   ]
  },
  {
   "cell_type": "markdown",
   "metadata": {},
   "source": [
    "#### Adding a new entry to our dictionary\n",
    "\n",
    "So if we wanted to add the phone no. of the student then"
   ]
  },
  {
   "cell_type": "code",
   "execution_count": null,
   "metadata": {},
   "outputs": [],
   "source": [
    "student['phone'] = 9999999999\n",
    "print(student.get('phone', 'Not Found'))"
   ]
  },
  {
   "cell_type": "markdown",
   "metadata": {},
   "source": [
    "#### Updating existing entry\n",
    "\n",
    "If we want to update the name and age of the student "
   ]
  },
  {
   "cell_type": "code",
   "execution_count": null,
   "metadata": {},
   "outputs": [],
   "source": [
    "student['name'] = 'Shyam'\n",
    "student['age'] = '20'\n",
    "print(student)"
   ]
  },
  {
   "cell_type": "markdown",
   "metadata": {},
   "source": [
    "If we want to update and add some entries then we can use the funcion update which requires a dictionary in argument"
   ]
  },
  {
   "cell_type": "code",
   "execution_count": null,
   "metadata": {},
   "outputs": [],
   "source": [
    "student.update({'name':'Mohan', 'age':19, 'hometown':'Ahmedabad'})\n",
    "print(student)"
   ]
  },
  {
   "cell_type": "markdown",
   "metadata": {},
   "source": [
    "#### Removing elements from Dictionary\n",
    "\n",
    "We can use the keyword del"
   ]
  },
  {
   "cell_type": "code",
   "execution_count": null,
   "metadata": {},
   "outputs": [],
   "source": [
    "del student['hometown']\n",
    "print(student)"
   ]
  },
  {
   "cell_type": "markdown",
   "metadata": {},
   "source": [
    "Another method is using pop() function. pop() also returns the value of the entry it has deleted."
   ]
  },
  {
   "cell_type": "code",
   "execution_count": null,
   "metadata": {},
   "outputs": [],
   "source": [
    "phone = student.pop('phone')\n",
    "print(student)\n",
    "print(phone)"
   ]
  },
  {
   "cell_type": "markdown",
   "metadata": {},
   "source": [
    "#### Some other useful functions"
   ]
  },
  {
   "cell_type": "code",
   "execution_count": null,
   "metadata": {},
   "outputs": [],
   "source": [
    "print(student)\n",
    "print(len(student))"
   ]
  },
  {
   "cell_type": "code",
   "execution_count": null,
   "metadata": {},
   "outputs": [],
   "source": [
    "print(student.keys())"
   ]
  },
  {
   "cell_type": "code",
   "execution_count": null,
   "metadata": {},
   "outputs": [],
   "source": [
    "print(student.values())"
   ]
  },
  {
   "cell_type": "code",
   "execution_count": null,
   "metadata": {},
   "outputs": [],
   "source": [
    "print(student.items())"
   ]
  },
  {
   "cell_type": "markdown",
   "metadata": {},
   "source": [
    "## References\n",
    "\n",
    "* https://www.geeksforgeeks.org/python-dictionary/"
   ]
  },
  {
   "cell_type": "code",
   "execution_count": null,
   "metadata": {},
   "outputs": [],
   "source": []
  },
  {
   "cell_type": "code",
   "execution_count": null,
   "metadata": {},
   "outputs": [],
   "source": []
  },
  {
   "cell_type": "markdown",
   "metadata": {},
   "source": [
    "## Sets\n",
    "\n",
    "* In Python, Set is an unordered collection of data type that is iterable, mutable and has no duplicate elements. The order of elements in a set is undefined though it may consist of various elements.\n",
    "* The major advantage of using a set, as opposed to a list, is that it has a highly optimized method for checking whether a specific element is contained in the set.\n",
    "\n",
    "#### Creating a set"
   ]
  },
  {
   "cell_type": "code",
   "execution_count": 1,
   "metadata": {},
   "outputs": [
    {
     "name": "stdout",
     "output_type": "stream",
     "text": [
      "{'physics', 'maths', 'chemistry'}\n"
     ]
    }
   ],
   "source": [
    "set1 = set(['physics', 'maths','chemistry']) #Argument is a list\n",
    "print(set1)"
   ]
  },
  {
   "cell_type": "code",
   "execution_count": 2,
   "metadata": {},
   "outputs": [
    {
     "name": "stdout",
     "output_type": "stream",
     "text": [
      "{'b', 'i', 'r', 'o', 'a', 'l', 'H'}\n"
     ]
    }
   ],
   "source": [
    "set2 = set('Haribol') #Argument is a string\n",
    "print(set2)"
   ]
  },
  {
   "cell_type": "code",
   "execution_count": 3,
   "metadata": {},
   "outputs": [
    {
     "name": "stdout",
     "output_type": "stream",
     "text": [
      "{'World', 'Hello', 2020}\n"
     ]
    }
   ],
   "source": [
    "# Set can also have mixed type of values\n",
    "set3 = {'Hello', 'World', 2020}\n",
    "print(set3)"
   ]
  },
  {
   "cell_type": "code",
   "execution_count": 4,
   "metadata": {},
   "outputs": [
    {
     "name": "stdout",
     "output_type": "stream",
     "text": [
      "{'physics', 'maths', 'chemistry'}\n"
     ]
    }
   ],
   "source": [
    "fs_courses = {'physics', 'maths', 'chemistry', 'chemistry'}\n",
    "print(fs_courses)"
   ]
  },
  {
   "cell_type": "markdown",
   "metadata": {},
   "source": [
    "two things to be noted in the previous example"
   ]
  },
  {
   "cell_type": "markdown",
   "metadata": {},
   "source": [
    "#### Adding elements to set\n",
    "\n",
    "Using add() function"
   ]
  },
  {
   "cell_type": "code",
   "execution_count": 5,
   "metadata": {
    "scrolled": true
   },
   "outputs": [
    {
     "name": "stdout",
     "output_type": "stream",
     "text": [
      "{'design', 'physics', 'maths', 'chemistry'}\n"
     ]
    }
   ],
   "source": [
    "fs_courses.add('design')\n",
    "print(fs_courses)"
   ]
  },
  {
   "cell_type": "markdown",
   "metadata": {},
   "source": [
    "There is also an another method using update() function for adding 2 or more elements.\n",
    "It can take lists, tuples, strings as well as sets as its argument."
   ]
  },
  {
   "cell_type": "code",
   "execution_count": 6,
   "metadata": {},
   "outputs": [
    {
     "name": "stdout",
     "output_type": "stream",
     "text": [
      "{'design', 'physics', 'ed', 'biology', 'chemistry', 'maths'}\n"
     ]
    }
   ],
   "source": [
    "fs_courses.update(['biology', 'ed'])\n",
    "print(fs_courses)"
   ]
  },
  {
   "cell_type": "markdown",
   "metadata": {},
   "source": [
    "Next is **membership test** to check wheter a value is there in the set or not"
   ]
  },
  {
   "cell_type": "code",
   "execution_count": 7,
   "metadata": {},
   "outputs": [
    {
     "name": "stdout",
     "output_type": "stream",
     "text": [
      "True\n"
     ]
    }
   ],
   "source": [
    "print('biology' in fs_courses)"
   ]
  },
  {
   "cell_type": "code",
   "execution_count": 8,
   "metadata": {},
   "outputs": [
    {
     "name": "stdout",
     "output_type": "stream",
     "text": [
      "False\n"
     ]
    }
   ],
   "source": [
    "print('mech workshop' in fs_courses)"
   ]
  },
  {
   "cell_type": "markdown",
   "metadata": {},
   "source": [
    "#### Removing elements from the Set\n",
    "\n",
    "We can use remove() function but a KeyError arises if the element doesn't exist in the set. Another method is by using discard() function, here if the element doesn't exist it will not show KeyError."
   ]
  },
  {
   "cell_type": "code",
   "execution_count": 9,
   "metadata": {},
   "outputs": [
    {
     "name": "stdout",
     "output_type": "stream",
     "text": [
      "{'design', 'physics', 'ed', 'biology', 'chemistry', 'maths'}\n"
     ]
    }
   ],
   "source": [
    "print(fs_courses)"
   ]
  },
  {
   "cell_type": "code",
   "execution_count": 10,
   "metadata": {},
   "outputs": [
    {
     "ename": "KeyError",
     "evalue": "'mech workshop'",
     "output_type": "error",
     "traceback": [
      "\u001b[1;31m---------------------------------------------------------------------------\u001b[0m",
      "\u001b[1;31mKeyError\u001b[0m                                  Traceback (most recent call last)",
      "\u001b[1;32m<ipython-input-10-f2ca6ea76a23>\u001b[0m in \u001b[0;36m<module>\u001b[1;34m\u001b[0m\n\u001b[1;32m----> 1\u001b[1;33m \u001b[0mfs_courses\u001b[0m\u001b[1;33m.\u001b[0m\u001b[0mremove\u001b[0m\u001b[1;33m(\u001b[0m\u001b[1;34m'mech workshop'\u001b[0m\u001b[1;33m)\u001b[0m\u001b[1;33m\u001b[0m\u001b[1;33m\u001b[0m\u001b[0m\n\u001b[0m",
      "\u001b[1;31mKeyError\u001b[0m: 'mech workshop'"
     ]
    }
   ],
   "source": [
    "fs_courses.remove('mech workshop')"
   ]
  },
  {
   "cell_type": "code",
   "execution_count": 11,
   "metadata": {},
   "outputs": [
    {
     "name": "stdout",
     "output_type": "stream",
     "text": [
      "{'design', 'physics', 'ed', 'biology', 'chemistry', 'maths'}\n"
     ]
    }
   ],
   "source": [
    "fs_courses.discard('mech workshop')\n",
    "print(fs_courses)"
   ]
  },
  {
   "cell_type": "code",
   "execution_count": 12,
   "metadata": {},
   "outputs": [
    {
     "name": "stdout",
     "output_type": "stream",
     "text": [
      "{'physics', 'ed', 'biology', 'chemistry', 'maths'}\n"
     ]
    }
   ],
   "source": [
    "fs_courses.discard('design')\n",
    "print(fs_courses)"
   ]
  },
  {
   "cell_type": "markdown",
   "metadata": {},
   "source": [
    "pop() also can be used\n",
    "* What is speciality of pop() ?\n",
    "* It does not take any arguments\n",
    "* In case of numbers it arranges them ascending automatcally and removes first element while in other cases it randomly arranges and remove first element after arranging."
   ]
  },
  {
   "cell_type": "code",
   "execution_count": 13,
   "metadata": {},
   "outputs": [],
   "source": [
    "set3.clear()"
   ]
  },
  {
   "cell_type": "code",
   "execution_count": 14,
   "metadata": {},
   "outputs": [
    {
     "name": "stdout",
     "output_type": "stream",
     "text": [
      "{1, 2, 3, 4, 5, 6, 7, 12}\n",
      "{2, 3, 4, 5, 6, 7, 12}\n",
      "1\n"
     ]
    }
   ],
   "source": [
    "set3 = set([5,12,4,2,3,4,1,6,7])\n",
    "print(set3)\n",
    "element = set3.pop()\n",
    "print(set3)\n",
    "print(element)"
   ]
  },
  {
   "cell_type": "code",
   "execution_count": 15,
   "metadata": {
    "scrolled": true
   },
   "outputs": [
    {
     "name": "stdout",
     "output_type": "stream",
     "text": [
      "{'e', 'o', 'r', 'l', 'd', 'W', 'H', ' '}\n",
      "\n",
      "{'o', 'r', 'l', 'd', 'W', 'H', ' '}\n",
      "e\n"
     ]
    }
   ],
   "source": [
    "set4 = set('Hello World')\n",
    "print(set4)\n",
    "print()\n",
    "element2 = set4.pop()\n",
    "print(set4)\n",
    "print(element2)"
   ]
  },
  {
   "cell_type": "code",
   "execution_count": 16,
   "metadata": {},
   "outputs": [
    {
     "name": "stdout",
     "output_type": "stream",
     "text": [
      "{'abc', 'ram', 'shyam', 'mohan'}\n",
      "{'ram', 'shyam', 'mohan'}\n",
      "abc\n"
     ]
    }
   ],
   "source": [
    "set5 = {'ram', 'shyam', 'mohan', 'abc'}\n",
    "print(set5)\n",
    "element3 = set5.pop()\n",
    "print(set5)\n",
    "print(element3)"
   ]
  },
  {
   "cell_type": "markdown",
   "metadata": {},
   "source": [
    "Now let's see **some more functionalities** of sets.\n",
    "* For that first we'll need to create one set."
   ]
  },
  {
   "cell_type": "code",
   "execution_count": 17,
   "metadata": {},
   "outputs": [],
   "source": [
    "ss_courses = {'physics', 'maths', 'DIC', 'cs', 'mech workshop'}"
   ]
  },
  {
   "cell_type": "markdown",
   "metadata": {},
   "source": [
    "So, to see what courses were common in first sem and second sem we'll use **intersection method.**"
   ]
  },
  {
   "cell_type": "code",
   "execution_count": 18,
   "metadata": {},
   "outputs": [
    {
     "data": {
      "text/plain": [
       "{'maths', 'physics'}"
      ]
     },
     "execution_count": 18,
     "metadata": {},
     "output_type": "execute_result"
    }
   ],
   "source": [
    "fs_courses.intersection(ss_courses)"
   ]
  },
  {
   "cell_type": "markdown",
   "metadata": {},
   "source": [
    "Now, to see what courses were there in first sem and not in the second we'll use the **difference method.**"
   ]
  },
  {
   "cell_type": "code",
   "execution_count": 19,
   "metadata": {},
   "outputs": [
    {
     "data": {
      "text/plain": [
       "{'biology', 'chemistry', 'ed'}"
      ]
     },
     "execution_count": 19,
     "metadata": {},
     "output_type": "execute_result"
    }
   ],
   "source": [
    "fs_courses.difference(ss_courses)"
   ]
  },
  {
   "cell_type": "markdown",
   "metadata": {},
   "source": [
    "Now if I want to combine both these sets and want to write all the first year courses then I have to use the **union method.**"
   ]
  },
  {
   "cell_type": "code",
   "execution_count": 20,
   "metadata": {},
   "outputs": [
    {
     "data": {
      "text/plain": [
       "{'DIC',\n",
       " 'biology',\n",
       " 'chemistry',\n",
       " 'cs',\n",
       " 'ed',\n",
       " 'maths',\n",
       " 'mech workshop',\n",
       " 'physics'}"
      ]
     },
     "execution_count": 20,
     "metadata": {},
     "output_type": "execute_result"
    }
   ],
   "source": [
    "fs_courses.union(ss_courses)"
   ]
  },
  {
   "cell_type": "markdown",
   "metadata": {},
   "source": [
    "* How to create **empty sets?**"
   ]
  },
  {
   "cell_type": "code",
   "execution_count": 21,
   "metadata": {},
   "outputs": [
    {
     "name": "stdout",
     "output_type": "stream",
     "text": [
      "set()\n",
      "{'This is not a set this is an empty dictionary'}\n"
     ]
    }
   ],
   "source": [
    "empty_set1 = set()\n",
    "print(empty_set1)\n",
    "\n",
    "\n",
    "empty_set2 = {'This is not a set this is an empty dictionary'} \n",
    "print(empty_set2)"
   ]
  },
  {
   "cell_type": "markdown",
   "metadata": {},
   "source": [
    "## References\n",
    "\n",
    "* https://www.geeksforgeeks.org/python-sets/?ref=lbp"
   ]
  },
  {
   "cell_type": "code",
   "execution_count": null,
   "metadata": {},
   "outputs": [],
   "source": []
  }
 ],
 "metadata": {
  "kernelspec": {
   "display_name": "Python 3",
   "language": "python",
   "name": "python3"
  },
  "language_info": {
   "codemirror_mode": {
    "name": "ipython",
    "version": 3
   },
   "file_extension": ".py",
   "mimetype": "text/x-python",
   "name": "python",
   "nbconvert_exporter": "python",
   "pygments_lexer": "ipython3",
   "version": "3.7.3"
  }
 },
 "nbformat": 4,
 "nbformat_minor": 4
}
