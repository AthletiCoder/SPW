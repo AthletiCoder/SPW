{
 "cells": [
  {
   "cell_type": "markdown",
   "metadata": {},
   "source": [
    "# Modules, Packages and File handling\n",
    "---"
   ]
  },
  {
   "cell_type": "markdown",
   "metadata": {},
   "source": [
    "## 0 Motivation\n",
    "* Imagine we wanted water at our home and we start drilling hole to extract ground water\n",
    "* Or let's say you wanted to electricity and you install a thermal power plant at your home\n",
    "\n",
    "<img src=\"resources/reinvent_wheel.gif\" alt=\"drawing\" align=\"left\" width=\"400\"/>"
   ]
  },
  {
   "cell_type": "markdown",
   "metadata": {},
   "source": [
    "* Another example - in case you want to build a building? would you start making the bricks by yourself?\n",
    "* Small functionalities are like bricks and by assembling these small bricks you can make up big and complex buildings\n",
    "\n",
    "<img src=\"resources/bricks_game.jpg\" alt=\"drawing\" align=\"left\" width=\"400\"/>"
   ]
  },
  {
   "cell_type": "markdown",
   "metadata": {},
   "source": [
    "* In fact, this is the most important advantages that python lovers boast of\n",
    "* A python module for anything and everything that is programmable"
   ]
  },
  {
   "cell_type": "markdown",
   "metadata": {},
   "source": [
    "## 1 Some simple modules"
   ]
  },
  {
   "cell_type": "code",
   "execution_count": null,
   "metadata": {},
   "outputs": [],
   "source": [
    "# Let's consider the factorial function\n",
    "def fac(n):\n",
    "    ret = 1\n",
    "    for i in range(1,n+1):\n",
    "        ret *= i\n",
    "    return ret\n",
    "\n",
    "while True:\n",
    "    n = int(input())\n",
    "    print(\"{}!={}\".format(n,fac(n)))\n",
    "    \n",
    "# But do I have to implement it every time I need it?\n",
    "# Here's the important lesson of REUSABILITY"
   ]
  },
  {
   "cell_type": "code",
   "execution_count": null,
   "metadata": {},
   "outputs": [],
   "source": [
    "import exercises.myModule\n",
    "from . import math\n",
    "math.factorial(3)\n",
    "# math.greet_me(\"Aryan\")"
   ]
  },
  {
   "cell_type": "markdown",
   "metadata": {},
   "source": [
    "### 1.1 `import` keyword\n",
    "\n",
    "`import` module (`as` some_other_name)\n",
    "\n",
    "`from` package `import `module (`as` some_other_name)\n",
    "\n",
    "`from` module `import` function_name (`as` some_other_name)\n",
    "\n",
    "`from` package.module `import` function_name (`as` some_other_name)\n",
    "\n",
    "### Packages vs modules\n",
    "\n",
    "Modules\n",
    "> A module is a file containing Python definitions and statements. The file name is the module name with the suffix .py appended.\n",
    "\n",
    "Packages\n",
    "> Packages are a way of structuring Python’s module namespace by using “dotted module names”.\n",
    "\n",
    "ref:- https://stackoverflow.com/questions/19198166/whats-the-difference-between-a-module-and-a-library-in-python"
   ]
  },
  {
   "cell_type": "code",
   "execution_count": 6,
   "metadata": {},
   "outputs": [
    {
     "name": "stdout",
     "output_type": "stream",
     "text": [
      "Factorial 2\n"
     ]
    }
   ],
   "source": [
    "import math\n",
    "import math as m\n",
    "\n",
    "from matplotlib import pyplot\n",
    "from matplotlib import pyplot as plt\n",
    "\n",
    "\n",
    "from math import *\n",
    "\n",
    "def factorial(n):\n",
    "    return \"Factorial {}\".format(n)\n",
    "\n",
    "\n",
    "print(factorial(2))\n",
    "# print(sqrt(2))\n",
    "# print(ceil(2.2))\n",
    "\n",
    "# too many imports? - try combining them`"
   ]
  },
  {
   "cell_type": "markdown",
   "metadata": {},
   "source": [
    "### 1.2 Bonus\n",
    "```python\n",
    "from math import *```\n",
    ">This imports all names except those beginning with an underscore (_). In most cases Python programmers do not use this facility since it introduces an unknown set of names into the interpreter, possibly hiding some things you have already defined."
   ]
  },
  {
   "cell_type": "markdown",
   "metadata": {},
   "source": [
    "# File handling\n",
    "---"
   ]
  },
  {
   "cell_type": "markdown",
   "metadata": {},
   "source": [
    "# 0 Motivation\n",
    "* __Output__ - All the variables you initialise in the program are lost when the program is terminated\n",
    "    * Lookup difference between [RAM and ROM](https://www.diffen.com/difference/RAM_vs_ROM)\n",
    "* __Input__ - What if your program expects an input of 100 numbers or more"
   ]
  },
  {
   "cell_type": "markdown",
   "metadata": {},
   "source": [
    "# 1 Reading and Writing from files"
   ]
  },
  {
   "cell_type": "markdown",
   "metadata": {},
   "source": [
    "```python\n",
    "object = open(file_name, mode)```\n",
    "\n",
    "The open function returns the instance of the file that you opened to work on. It takes 2 primarily arguments, file_name and mode. There are four different modes you can open a file to:\n",
    "\n",
    "“r”  = If you want to read from a file.\n",
    "\n",
    "“w” = If you want to write to a file erasing completely previous data.\n",
    "\n",
    "“a” = If you want to append to previously written file.\n",
    "\n",
    "“x” = If you want just to create a file.\n",
    "\n",
    "__Don't ever forget to close an open file!!__\n",
    "```python\n",
    "object.close()```"
   ]
  },
  {
   "cell_type": "markdown",
   "metadata": {},
   "source": [
    "## 1.1 Reading"
   ]
  },
  {
   "cell_type": "code",
   "execution_count": 44,
   "metadata": {},
   "outputs": [
    {
     "name": "stdout",
     "output_type": "stream",
     "text": [
      "Hare Krishna! Stay home, stay safe\n",
      "Krishna is the Supreme protector\n"
     ]
    }
   ],
   "source": [
    "greet = open(\"exercises/greetings.txt\", 'r')\n",
    "\n",
    "greetings = greet.read()\n",
    "print(greetings)\n",
    "# Here, you are reading all the contents of the file at once\n",
    "# It might be too much or you may not even need all of it"
   ]
  },
  {
   "cell_type": "code",
   "execution_count": 45,
   "metadata": {},
   "outputs": [
    {
     "name": "stdout",
     "output_type": "stream",
     "text": [
      "\n"
     ]
    }
   ],
   "source": [
    "# Reading n number of characters at a time\n",
    "# greet.seek(0)\n",
    "\n",
    "greetings_n = greet.read(5)\n",
    "print(greetings_n)"
   ]
  },
  {
   "cell_type": "markdown",
   "metadata": {},
   "source": [
    "### `seek` keyword"
   ]
  },
  {
   "cell_type": "code",
   "execution_count": 49,
   "metadata": {},
   "outputs": [
    {
     "data": {
      "text/plain": [
       "0"
      ]
     },
     "execution_count": 49,
     "metadata": {},
     "output_type": "execute_result"
    }
   ],
   "source": [
    "greet.seek(0)\n",
    "# greet.read(2)"
   ]
  },
  {
   "cell_type": "markdown",
   "metadata": {},
   "source": [
    "### `readline(s)` keyword"
   ]
  },
  {
   "cell_type": "code",
   "execution_count": 51,
   "metadata": {},
   "outputs": [
    {
     "name": "stdout",
     "output_type": "stream",
     "text": [
      "Krishna is the Supreme protector\n"
     ]
    }
   ],
   "source": [
    "print(greet.readline())"
   ]
  },
  {
   "cell_type": "code",
   "execution_count": 52,
   "metadata": {},
   "outputs": [
    {
     "name": "stdout",
     "output_type": "stream",
     "text": [
      "\n",
      "Hello all!\n",
      "\n",
      "\n",
      "We thank you all for you incredible praticipation and enthusiasm over the past few days.\n",
      "\n",
      "\n",
      "Time, for all, is the most expensive commodity.\n",
      "\n",
      "\n",
      "You've given us that most expensive time of yours - we really are grateful for that.\n",
      "\n",
      "\n",
      "We would like to expecially appreciate those who have attended all classes, without missing even once!\n",
      "\n",
      "\n",
      "Sridhar\n",
      "\n",
      "\n",
      "Karan\n",
      "\n",
      "\n",
      "Jateen\n",
      "\n",
      "\n",
      "Aryan\n",
      "\n",
      "\n",
      "Akash\n",
      "\n",
      "\n",
      "Shrey\n",
      "\n",
      "\n",
      "Madhav\n",
      "\n",
      "\n",
      "Vinayak\n",
      "\n",
      "\n",
      "Krishna\n",
      "\n",
      "\n",
      "Thank you once again!\n",
      "\n",
      "\n",
      "Please keep your amazing enthusiasm - it helps us a lot too!\n",
      "\n",
      "\n",
      "PS :- We have gifts purchased and kept ready for you to collect from us soon after you return\n"
     ]
    }
   ],
   "source": [
    "# Another way to read the file one line at a time\n",
    "# Instead of f = open(\"exercises/announcements.txt\", 'r')\n",
    "# f.close() - which you might potentially forget!\n",
    "with open(\"exercises/announcements.txt\", 'r') as f:\n",
    "    for line in f:\n",
    "        n=input()\n",
    "        print(line)"
   ]
  },
  {
   "cell_type": "markdown",
   "metadata": {},
   "source": [
    "## 1.2 Writing - more like creating new file\n",
    "\n",
    "### `write`, `writelines`"
   ]
  },
  {
   "cell_type": "code",
   "execution_count": 55,
   "metadata": {},
   "outputs": [],
   "source": [
    "with open(\"exercises/test.txt\", \"a\") as fh:\n",
    "    fh.write(\"Hare Krishna Hare Krishna!\")"
   ]
  },
  {
   "cell_type": "code",
   "execution_count": 57,
   "metadata": {},
   "outputs": [],
   "source": [
    "with open(\"exercises/harinam.txt\",'w') as fh:\n",
    "    lines_of_text = [\"Hare Krsna Hare Krsna\\n\", \"Krsna Krsna Hare Hare\\n\"] \n",
    "    fh.writelines(lines_of_text)"
   ]
  },
  {
   "cell_type": "markdown",
   "metadata": {},
   "source": [
    "## 1.3 Appending - more like editing a file"
   ]
  },
  {
   "cell_type": "code",
   "execution_count": 60,
   "metadata": {},
   "outputs": [],
   "source": [
    "with open(\"exercises/harinam.txt\", \"w\") as fh:\n",
    "    lines_of_text = [\"Hare Rama Hare Rama\\n\", \"Rama Rama Hare Hare\"]\n",
    "    fh.writelines(lines_of_text)"
   ]
  }
 ],
 "metadata": {
  "kernelspec": {
   "display_name": "Python 3",
   "language": "python",
   "name": "python3"
  },
  "language_info": {
   "codemirror_mode": {
    "name": "ipython",
    "version": 3
   },
   "file_extension": ".py",
   "mimetype": "text/x-python",
   "name": "python",
   "nbconvert_exporter": "python",
   "pygments_lexer": "ipython3",
   "version": "3.7.4"
  }
 },
 "nbformat": 4,
 "nbformat_minor": 2
}
