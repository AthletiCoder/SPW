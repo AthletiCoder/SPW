{
 "cells": [
  {
   "cell_type": "markdown",
   "metadata": {},
   "source": [
    "# 0 Motivation\n",
    "Unending desire for a short, elegant and understandable code\n",
    "\n",
    "Consider the following example:-\n",
    "\n",
    "\n",
    "### Iterative\n",
    "\n",
    "```python\n",
    "def factorial(n):\n",
    "    out = 1\n",
    "    for i in range(n):\n",
    "        out *= i+1\n",
    "    return out\n",
    "```\n",
    "\n",
    "### Recursive\n",
    "\n",
    "```python\n",
    "def fac(n):\n",
    "    return 1 if n==1 else fac(n-1)*n\n",
    "```\n",
    "\n"
   ]
  },
  {
   "cell_type": "markdown",
   "metadata": {},
   "source": [
    "# 1 Recursion\n",
    "\n",
    "## 1.1 Definition\n",
    "A programming technique where a function calls itself*\n",
    "\n",
    "_\\* T&C Apply - not all functions can call themselves and get away with it_\n",
    "\n",
    "## 1.2 General implementation\n",
    "\n",
    "_A function that is unconditional shouldn't be used for recursion_\n",
    "\n",
    "A recursion-eligible function should have the following\n",
    "* A base case - _a fact which is already known_\n",
    "* A recursion step - _which reduces the size of the problem_\n",
    "\n",
    "## 1.3 Exercises\n",
    "\n",
    "### 1.3.1 Check if a string is palindrome\n",
    "\n",
    "### 1.3.2 Collatz Conjecture\n",
    "\n",
    "Applies to positive integers and speculates that it is always possible to get \"back to 1\" if one follows the below steps\n",
    "* If n is 1 stop\n",
    "* Otherwise, if n is even, repeat this process on _n/2_\n",
    "* Otherwise, if n is odd, repeat this process on _3n+1_\n",
    "\n",
    "Prove the above conjecture by plotting a graph for number of steps taken to reach 1 for first 100 natural numbers\n",
    "\n",
    "\n",
    "### Let's try something interesting!\n",
    "\n",
    "```python\n",
    "def hello(name):\n",
    "    print(\"Hello {}\".format(name))\n",
    "    hello(name)\n",
    "\n",
    "hello(\"Varun\")\n",
    "```"
   ]
  },
  {
   "cell_type": "code",
   "execution_count": null,
   "metadata": {},
   "outputs": [],
   "source": []
  },
  {
   "cell_type": "markdown",
   "metadata": {},
   "source": [
    "## 1.4 Unanswered questions\n",
    "\n",
    "* How does a function know that it has to wait now, resume now...\n",
    "* Why do we come across segmentation faults in Recursion\n",
    "\n",
    "Let's see the internal working of Recursion!"
   ]
  },
  {
   "cell_type": "markdown",
   "metadata": {},
   "source": [
    "# 2 Function call stacks\n",
    "\n",
    "## 2.1 Call stacks in action\n",
    "\n",
    "Checkout this beautiful rendition of call stack implementation\n",
    "\n",
    "https://sites.cs.ucsb.edu/~pconrad/cs8/topics.beta/theStack/02/"
   ]
  }
 ],
 "metadata": {
  "kernelspec": {
   "display_name": "Python 3",
   "language": "python",
   "name": "python3"
  },
  "language_info": {
   "codemirror_mode": {
    "name": "ipython",
    "version": 3
   },
   "file_extension": ".py",
   "mimetype": "text/x-python",
   "name": "python",
   "nbconvert_exporter": "python",
   "pygments_lexer": "ipython3",
   "version": "3.7.4"
  }
 },
 "nbformat": 4,
 "nbformat_minor": 2
}
