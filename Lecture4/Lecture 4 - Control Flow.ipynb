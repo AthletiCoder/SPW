{
 "cells": [
  {
   "cell_type": "markdown",
   "metadata": {},
   "source": [
    "# Control Flow"
   ]
  },
  {
   "cell_type": "markdown",
   "metadata": {},
   "source": [
    "# 0 Motivation\n",
    "   * Programming is meant to make our life easier by automating things - an assistant for the brain"
   ]
  },
  {
   "cell_type": "markdown",
   "metadata": {},
   "source": [
    "## 0.1 Code - an assistant for the brain\n",
    "### Assisting in storage - Use variables & Files\n",
    "<img src=\"resources/brain_memory.png\" align=\"left\" alt=\"drawing\" width=\"500\"/>"
   ]
  },
  {
   "cell_type": "markdown",
   "metadata": {},
   "source": [
    "### Assisting in taking decisions\n",
    "<img src=\"resources/brain_thinking.png\" align=\"left\" alt=\"drawing\" width=\"500\"/>"
   ]
  },
  {
   "cell_type": "markdown",
   "metadata": {},
   "source": [
    "## 0.2 Question!\n",
    "Can you think of some way in which you can implement decision making using what all you know so far.\n",
    "\n",
    "Essentially... we have to do something in a particular scenario and something else otherwise\n",
    "\n",
    "Let's say.. you need to print \n",
    "\n",
    "`\"Welcome home, <name>\"` if the user is Varun or Harsh \n",
    "\n",
    "`\"Hello <name>!\"` when the user is one of you\n",
    "\n",
    "`\"Access denied!\"` otherwise"
   ]
  },
  {
   "cell_type": "code",
   "execution_count": null,
   "metadata": {},
   "outputs": [],
   "source": [
    "# Bizarre.. but works\n",
    "outputs = {\n",
    "    \"Varun\" : \"Welcome home, Varun\",\n",
    "    \"Harsh\" : \"Welcome home, Harsh\",\n",
    "    \"Madhav\": \"Hello Madhav!\",\n",
    "    \"Jateen\": \"Hello Jateen!\",\n",
    "    \"Corona\": \"Access denied!\",\n",
    "}\n",
    "\n",
    "while True:\n",
    "    name = str(input())\n",
    "    print(outputs[name])\n",
    "    \n",
    "# But wait! situations are not always as simple as this"
   ]
  },
  {
   "cell_type": "markdown",
   "metadata": {},
   "source": [
    "## 0.3 Imagine implementing something like this\n",
    "\n",
    "<img src=\"resources/complex_condition.jpg\" align=\"left\" alt=\"drawing\" width=\"500\"/>\n",
    "\n",
    "<img src=\"resources/more_complex_condition.jpg\" align=\"left\" alt=\"drawing\" width=\"700\"/>"
   ]
  },
  {
   "cell_type": "markdown",
   "metadata": {},
   "source": [
    "# 1 Conditional logic\n",
    "\n",
    "## 1.1 Conditional statements\n",
    "\n",
    "### `if`, `elif`, `else`\n",
    "\n",
    "<img src=\"resources/if_elseif_ladder.jpg\" align=\"left\" alt=\"drawing\" width=\"500\"/>\n",
    "\n",
    "\n",
    "\n",
    "```python\n",
    "<some code>\n",
    "\n",
    "if <test expression 1>:\n",
    "    <statement 1>\n",
    "elif <test expression 2>:\n",
    "    <statement 2>\n",
    "elif <test expression 3>:\n",
    "    <statement 3>\n",
    "else:\n",
    "    <body else>\n",
    "\n",
    "<some other code>\n",
    "```\n"
   ]
  },
  {
   "cell_type": "markdown",
   "metadata": {},
   "source": [
    "### No switch case statements\n",
    "\n",
    "Because there's no need for switch case"
   ]
  },
  {
   "cell_type": "markdown",
   "metadata": {},
   "source": [
    "## 1.2 Boolean expressions\n",
    "\n",
    "### 1.2.1 Atomic boolean expressions - Logical operators\n",
    "* A unit expression (which can't be broken down any further) which evaluate to `True` or `False`\n",
    "* Sometimes a single variable is also used as boolean expression. \n",
    "\n",
    "```python\n",
    "if myVar:\n",
    "    # do something\n",
    "    \n",
    "```\n",
    "*Here* `myVar` *is a valid boolean expression and it will evaluate to False in the following cases:*\n",
    "* myVar is a float/int/double and is numerically 0\n",
    "* myVar is a list/dict and is empty\n",
    "* myVar is a string and is \"\"\n",
    "* myVar is any other datatype and is None\n",
    "\n",
    "#### Logical operators - `<`, `>`, `==`, `>=`, `<=`\n",
    "\n",
    "#### Examples of boolean expressions:\n",
    "* `10 > 5`\n",
    "* `a <= 0.5`\n",
    "\n",
    "#### Bonus \"logical operators\" - The `in` and `is` keyword\n",
    "Checks existence/equality of something in something\n",
    "##### For Example : \n",
    "* `2 in [1,3,2,4]` evaluates to `True`\n",
    "* `a is \"hello\"` will evaluate to `True` if `a` happens to be `\"hello\"`\n",
    "\n",
    "\n",
    "### 1.2.2 Complex boolean expressions using Boolean Operators\n",
    "A combination of atomic boolean expressions using boolean operators\n",
    "#### Boolean operators - `and`, `or`, `not`\n",
    "Appropriate usage of parenthesis is necessary\n",
    "\n",
    "##### For Example :\n",
    "* `(a>b and c<=3) or (var not in myList)`\n",
    "* `myVar is not \"my_string\" and x==y`\n"
   ]
  },
  {
   "cell_type": "markdown",
   "metadata": {},
   "source": [
    "#### Now let us revisit the previous example code"
   ]
  },
  {
   "cell_type": "code",
   "execution_count": null,
   "metadata": {},
   "outputs": [],
   "source": [
    "gems_of_iitb = [\"Aryan\", \"Ayan\", \"Bharani\"]\n",
    "name = str(input())\n",
    "if name in [\"Varun\", \"Harsh\"]:\n",
    "    print(\"Welcome home, \"+name)\n",
    "elif name in gems_of_iitb:\n",
    "    print(\"Hello {}!\".format(name))\n",
    "else:\n",
    "    print(\"Access denied!\")"
   ]
  },
  {
   "cell_type": "markdown",
   "metadata": {},
   "source": [
    "### 1.2.3 Common (but annoying) mistakes\n",
    "\n",
    "#### `==` vs `is`\n",
    "\n",
    "`is` will return True if two variables point to the same object, `==` if the objects referred to by the variables are equal\n",
    " \n",
    "#### Checkout the relevant code-snippet in examples folder!"
   ]
  },
  {
   "cell_type": "markdown",
   "metadata": {},
   "source": [
    "## 1.3 Loops\n",
    "\n",
    "### `while`\n",
    "\n",
    "### `break`\n",
    "\n",
    "### `continue`"
   ]
  },
  {
   "cell_type": "markdown",
   "metadata": {},
   "source": [
    "##  Don'ts \n",
    "\n",
    "```python\n",
    "def myFunc():\n",
    "    pass\n",
    "```"
   ]
  }
 ],
 "metadata": {
  "kernelspec": {
   "display_name": "Python 3",
   "language": "python",
   "name": "python3"
  },
  "language_info": {
   "codemirror_mode": {
    "name": "ipython",
    "version": 3
   },
   "file_extension": ".py",
   "mimetype": "text/x-python",
   "name": "python",
   "nbconvert_exporter": "python",
   "pygments_lexer": "ipython3",
   "version": "3.8.1"
  }
 },
 "nbformat": 4,
 "nbformat_minor": 4
}
