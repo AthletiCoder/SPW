{
 "cells": [
  {
   "cell_type": "markdown",
   "metadata": {},
   "source": [
    "# Control Flow"
   ]
  },
  {
   "cell_type": "markdown",
   "metadata": {},
   "source": [
    "## Motivation\n",
    "   * Programming is meant to make our life easier by automating things - an assistant for the brain"
   ]
  },
  {
   "cell_type": "markdown",
   "metadata": {},
   "source": [
    "### Code - an assistant for the brain\n",
    "##### Assisting in storage - Use variables & Files\n",
    "<img src=\"resources/brain_memory.png\" align=\"left\" alt=\"drawing\" width=\"500\"/>"
   ]
  },
  {
   "cell_type": "markdown",
   "metadata": {},
   "source": [
    "##### Assisting in taking decisions\n",
    "<img src=\"resources/brain_thinking.png\" align=\"left\" alt=\"drawing\" width=\"500\"/>"
   ]
  },
  {
   "cell_type": "markdown",
   "metadata": {},
   "source": [
    "## Question!\n",
    "Can you think of some way in which you can implement decision making using what all you know so far.\n",
    "\n",
    "Essentially... we have to do something in a particular scenario and something else otherwise"
   ]
  },
  {
   "cell_type": "markdown",
   "metadata": {},
   "source": [
    "### Bizarre but works\n",
    "\n",
    "Suppose you need to print \"Welcome home, <name>\" if the user is Varun or Harsh and \"Hello <name>!\" when the user is one of you and \"Access denied!\" otherwise"
   ]
  },
  {
   "cell_type": "markdown",
   "metadata": {},
   "source": [
    "## Enter conditional logic\n",
    "\n",
    "### Conditional statements\n",
    "\n",
    "#### `if` Keyword\n",
    "\n",
    "#### `else` Keyword\n",
    "\n",
    "#### `elif` Keyword\n"
   ]
  },
  {
   "cell_type": "markdown",
   "metadata": {},
   "source": [
    "### Loops\n",
    "\n",
    "#### `while` Keyword\n",
    "\n",
    "#### `break` Keyword\n",
    "\n",
    "#### `continue` Keyword"
   ]
  },
  {
   "cell_type": "markdown",
   "metadata": {},
   "source": [
    "### Don'ts \n",
    "\n",
    "```python\n",
    "def myFunc():\n",
    "    pass\n",
    "```"
   ]
  }
 ],
 "metadata": {
  "kernelspec": {
   "display_name": "Python 3",
   "language": "python",
   "name": "python3"
  },
  "language_info": {
   "codemirror_mode": {
    "name": "ipython",
    "version": 3
   },
   "file_extension": ".py",
   "mimetype": "text/x-python",
   "name": "python",
   "nbconvert_exporter": "python",
   "pygments_lexer": "ipython3",
   "version": "3.7.4"
  }
 },
 "nbformat": 4,
 "nbformat_minor": 4
}
